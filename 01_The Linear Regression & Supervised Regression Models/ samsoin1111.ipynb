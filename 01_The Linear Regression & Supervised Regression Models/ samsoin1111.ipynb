{
 "cells": [
  {
   "cell_type": "markdown",
   "metadata": {},
   "source": [
    "![](../src/logo.svg)\n",
    "\n",
    "**© Jesús López**\n",
    "\n",
    "Ask him any doubt on **[Twitter](https://twitter.com/jsulopz)** or **[LinkedIn](https://linkedin.com/in/jsulopz)**"
   ]
  },
  {
   "cell_type": "markdown",
   "metadata": {},
   "source": [
    "<a href=\"https://colab.research.google.com/github/jsulopz/resolving-machine-learning/blob/main/01_Machine%20Learning%20%26%20Linear%20Regression/01_ml-linear-regression_practice_solution.ipynb\">\n",
    "  <img src=\"https://colab.research.google.com/assets/colab-badge.svg\" alt=\"Open In Colab\"/>\n",
    "</a>\n"
   ]
  },
  {
   "cell_type": "markdown",
   "metadata": {},
   "source": [
    "## Load the Data"
   ]
  },
  {
   "cell_type": "markdown",
   "metadata": {},
   "source": [
    "- The following list shows the names of tables we can work with:"
   ]
  },
  {
   "cell_type": "code",
   "execution_count": 191,
   "metadata": {},
   "outputs": [
    {
     "data": {
      "text/plain": [
       "['anagrams',\n",
       " 'anscombe',\n",
       " 'attention',\n",
       " 'brain_networks',\n",
       " 'car_crashes',\n",
       " 'diamonds',\n",
       " 'dots',\n",
       " 'dowjones',\n",
       " 'exercise',\n",
       " 'flights',\n",
       " 'fmri',\n",
       " 'geyser',\n",
       " 'glue',\n",
       " 'healthexp',\n",
       " 'iris',\n",
       " 'mpg',\n",
       " 'penguins',\n",
       " 'planets',\n",
       " 'seaice',\n",
       " 'taxis',\n",
       " 'tips',\n",
       " 'titanic']"
      ]
     },
     "execution_count": 191,
     "metadata": {},
     "output_type": "execute_result"
    }
   ],
   "source": [
    "import seaborn as sns #!\n",
    "sns.get_dataset_names()"
   ]
  },
  {
   "cell_type": "markdown",
   "metadata": {},
   "source": [
    "- We might see the all the tables and its data in [this GitHub repo](https://github.com/mwaskom/seaborn-data).\n",
    "- Substitue the `name` by the dataset you want:"
   ]
  },
  {
   "cell_type": "code",
   "execution_count": 192,
   "metadata": {},
   "outputs": [
    {
     "data": {
      "text/html": [
       "<div>\n",
       "<style scoped>\n",
       "    .dataframe tbody tr th:only-of-type {\n",
       "        vertical-align: middle;\n",
       "    }\n",
       "\n",
       "    .dataframe tbody tr th {\n",
       "        vertical-align: top;\n",
       "    }\n",
       "\n",
       "    .dataframe thead th {\n",
       "        text-align: right;\n",
       "    }\n",
       "</style>\n",
       "<table border=\"1\" class=\"dataframe\">\n",
       "  <thead>\n",
       "    <tr style=\"text-align: right;\">\n",
       "      <th></th>\n",
       "      <th>mpg</th>\n",
       "      <th>cylinders</th>\n",
       "      <th>displacement</th>\n",
       "      <th>horsepower</th>\n",
       "      <th>weight</th>\n",
       "      <th>acceleration</th>\n",
       "      <th>model_year</th>\n",
       "      <th>origin</th>\n",
       "      <th>name</th>\n",
       "    </tr>\n",
       "  </thead>\n",
       "  <tbody>\n",
       "    <tr>\n",
       "      <th>0</th>\n",
       "      <td>18.0</td>\n",
       "      <td>8</td>\n",
       "      <td>307.0</td>\n",
       "      <td>130.0</td>\n",
       "      <td>3504</td>\n",
       "      <td>12.0</td>\n",
       "      <td>70</td>\n",
       "      <td>usa</td>\n",
       "      <td>chevrolet chevelle malibu</td>\n",
       "    </tr>\n",
       "    <tr>\n",
       "      <th>1</th>\n",
       "      <td>15.0</td>\n",
       "      <td>8</td>\n",
       "      <td>350.0</td>\n",
       "      <td>165.0</td>\n",
       "      <td>3693</td>\n",
       "      <td>11.5</td>\n",
       "      <td>70</td>\n",
       "      <td>usa</td>\n",
       "      <td>buick skylark 320</td>\n",
       "    </tr>\n",
       "    <tr>\n",
       "      <th>2</th>\n",
       "      <td>18.0</td>\n",
       "      <td>8</td>\n",
       "      <td>318.0</td>\n",
       "      <td>150.0</td>\n",
       "      <td>3436</td>\n",
       "      <td>11.0</td>\n",
       "      <td>70</td>\n",
       "      <td>usa</td>\n",
       "      <td>plymouth satellite</td>\n",
       "    </tr>\n",
       "    <tr>\n",
       "      <th>3</th>\n",
       "      <td>16.0</td>\n",
       "      <td>8</td>\n",
       "      <td>304.0</td>\n",
       "      <td>150.0</td>\n",
       "      <td>3433</td>\n",
       "      <td>12.0</td>\n",
       "      <td>70</td>\n",
       "      <td>usa</td>\n",
       "      <td>amc rebel sst</td>\n",
       "    </tr>\n",
       "    <tr>\n",
       "      <th>4</th>\n",
       "      <td>17.0</td>\n",
       "      <td>8</td>\n",
       "      <td>302.0</td>\n",
       "      <td>140.0</td>\n",
       "      <td>3449</td>\n",
       "      <td>10.5</td>\n",
       "      <td>70</td>\n",
       "      <td>usa</td>\n",
       "      <td>ford torino</td>\n",
       "    </tr>\n",
       "    <tr>\n",
       "      <th>...</th>\n",
       "      <td>...</td>\n",
       "      <td>...</td>\n",
       "      <td>...</td>\n",
       "      <td>...</td>\n",
       "      <td>...</td>\n",
       "      <td>...</td>\n",
       "      <td>...</td>\n",
       "      <td>...</td>\n",
       "      <td>...</td>\n",
       "    </tr>\n",
       "    <tr>\n",
       "      <th>393</th>\n",
       "      <td>27.0</td>\n",
       "      <td>4</td>\n",
       "      <td>140.0</td>\n",
       "      <td>86.0</td>\n",
       "      <td>2790</td>\n",
       "      <td>15.6</td>\n",
       "      <td>82</td>\n",
       "      <td>usa</td>\n",
       "      <td>ford mustang gl</td>\n",
       "    </tr>\n",
       "    <tr>\n",
       "      <th>394</th>\n",
       "      <td>44.0</td>\n",
       "      <td>4</td>\n",
       "      <td>97.0</td>\n",
       "      <td>52.0</td>\n",
       "      <td>2130</td>\n",
       "      <td>24.6</td>\n",
       "      <td>82</td>\n",
       "      <td>europe</td>\n",
       "      <td>vw pickup</td>\n",
       "    </tr>\n",
       "    <tr>\n",
       "      <th>395</th>\n",
       "      <td>32.0</td>\n",
       "      <td>4</td>\n",
       "      <td>135.0</td>\n",
       "      <td>84.0</td>\n",
       "      <td>2295</td>\n",
       "      <td>11.6</td>\n",
       "      <td>82</td>\n",
       "      <td>usa</td>\n",
       "      <td>dodge rampage</td>\n",
       "    </tr>\n",
       "    <tr>\n",
       "      <th>396</th>\n",
       "      <td>28.0</td>\n",
       "      <td>4</td>\n",
       "      <td>120.0</td>\n",
       "      <td>79.0</td>\n",
       "      <td>2625</td>\n",
       "      <td>18.6</td>\n",
       "      <td>82</td>\n",
       "      <td>usa</td>\n",
       "      <td>ford ranger</td>\n",
       "    </tr>\n",
       "    <tr>\n",
       "      <th>397</th>\n",
       "      <td>31.0</td>\n",
       "      <td>4</td>\n",
       "      <td>119.0</td>\n",
       "      <td>82.0</td>\n",
       "      <td>2720</td>\n",
       "      <td>19.4</td>\n",
       "      <td>82</td>\n",
       "      <td>usa</td>\n",
       "      <td>chevy s-10</td>\n",
       "    </tr>\n",
       "  </tbody>\n",
       "</table>\n",
       "<p>398 rows × 9 columns</p>\n",
       "</div>"
      ],
      "text/plain": [
       "      mpg  cylinders  displacement  horsepower  weight  acceleration  \\\n",
       "0    18.0          8         307.0       130.0    3504          12.0   \n",
       "1    15.0          8         350.0       165.0    3693          11.5   \n",
       "2    18.0          8         318.0       150.0    3436          11.0   \n",
       "3    16.0          8         304.0       150.0    3433          12.0   \n",
       "4    17.0          8         302.0       140.0    3449          10.5   \n",
       "..    ...        ...           ...         ...     ...           ...   \n",
       "393  27.0          4         140.0        86.0    2790          15.6   \n",
       "394  44.0          4          97.0        52.0    2130          24.6   \n",
       "395  32.0          4         135.0        84.0    2295          11.6   \n",
       "396  28.0          4         120.0        79.0    2625          18.6   \n",
       "397  31.0          4         119.0        82.0    2720          19.4   \n",
       "\n",
       "     model_year  origin                       name  \n",
       "0            70     usa  chevrolet chevelle malibu  \n",
       "1            70     usa          buick skylark 320  \n",
       "2            70     usa         plymouth satellite  \n",
       "3            70     usa              amc rebel sst  \n",
       "4            70     usa                ford torino  \n",
       "..          ...     ...                        ...  \n",
       "393          82     usa            ford mustang gl  \n",
       "394          82  europe                  vw pickup  \n",
       "395          82     usa              dodge rampage  \n",
       "396          82     usa                ford ranger  \n",
       "397          82     usa                 chevy s-10  \n",
       "\n",
       "[398 rows x 9 columns]"
      ]
     },
     "execution_count": 192,
     "metadata": {},
     "output_type": "execute_result"
    }
   ],
   "source": [
    "df = sns.load_dataset(name='mpg') #!\n",
    "df"
   ]
  },
  {
   "cell_type": "markdown",
   "metadata": {
    "tags": []
   },
   "source": [
    "## `LinearRegression()` Model in Python"
   ]
  },
  {
   "cell_type": "markdown",
   "metadata": {},
   "source": [
    "### Fit the Model"
   ]
  },
  {
   "cell_type": "code",
   "execution_count": 193,
   "metadata": {},
   "outputs": [],
   "source": [
    "from sklearn.linear_model import LinearRegression"
   ]
  },
  {
   "cell_type": "code",
   "execution_count": 194,
   "metadata": {},
   "outputs": [],
   "source": [
    "model_lr = LinearRegression()"
   ]
  },
  {
   "cell_type": "code",
   "execution_count": 195,
   "metadata": {},
   "outputs": [],
   "source": [
    "targert =df[['displacement']]\n",
    "features =df['mpg']"
   ]
  },
  {
   "cell_type": "code",
   "execution_count": 196,
   "metadata": {},
   "outputs": [
    {
     "data": {
      "text/html": [
       "<style>#sk-container-id-12 {color: black;background-color: white;}#sk-container-id-12 pre{padding: 0;}#sk-container-id-12 div.sk-toggleable {background-color: white;}#sk-container-id-12 label.sk-toggleable__label {cursor: pointer;display: block;width: 100%;margin-bottom: 0;padding: 0.3em;box-sizing: border-box;text-align: center;}#sk-container-id-12 label.sk-toggleable__label-arrow:before {content: \"▸\";float: left;margin-right: 0.25em;color: #696969;}#sk-container-id-12 label.sk-toggleable__label-arrow:hover:before {color: black;}#sk-container-id-12 div.sk-estimator:hover label.sk-toggleable__label-arrow:before {color: black;}#sk-container-id-12 div.sk-toggleable__content {max-height: 0;max-width: 0;overflow: hidden;text-align: left;background-color: #f0f8ff;}#sk-container-id-12 div.sk-toggleable__content pre {margin: 0.2em;color: black;border-radius: 0.25em;background-color: #f0f8ff;}#sk-container-id-12 input.sk-toggleable__control:checked~div.sk-toggleable__content {max-height: 200px;max-width: 100%;overflow: auto;}#sk-container-id-12 input.sk-toggleable__control:checked~label.sk-toggleable__label-arrow:before {content: \"▾\";}#sk-container-id-12 div.sk-estimator input.sk-toggleable__control:checked~label.sk-toggleable__label {background-color: #d4ebff;}#sk-container-id-12 div.sk-label input.sk-toggleable__control:checked~label.sk-toggleable__label {background-color: #d4ebff;}#sk-container-id-12 input.sk-hidden--visually {border: 0;clip: rect(1px 1px 1px 1px);clip: rect(1px, 1px, 1px, 1px);height: 1px;margin: -1px;overflow: hidden;padding: 0;position: absolute;width: 1px;}#sk-container-id-12 div.sk-estimator {font-family: monospace;background-color: #f0f8ff;border: 1px dotted black;border-radius: 0.25em;box-sizing: border-box;margin-bottom: 0.5em;}#sk-container-id-12 div.sk-estimator:hover {background-color: #d4ebff;}#sk-container-id-12 div.sk-parallel-item::after {content: \"\";width: 100%;border-bottom: 1px solid gray;flex-grow: 1;}#sk-container-id-12 div.sk-label:hover label.sk-toggleable__label {background-color: #d4ebff;}#sk-container-id-12 div.sk-serial::before {content: \"\";position: absolute;border-left: 1px solid gray;box-sizing: border-box;top: 0;bottom: 0;left: 50%;z-index: 0;}#sk-container-id-12 div.sk-serial {display: flex;flex-direction: column;align-items: center;background-color: white;padding-right: 0.2em;padding-left: 0.2em;position: relative;}#sk-container-id-12 div.sk-item {position: relative;z-index: 1;}#sk-container-id-12 div.sk-parallel {display: flex;align-items: stretch;justify-content: center;background-color: white;position: relative;}#sk-container-id-12 div.sk-item::before, #sk-container-id-12 div.sk-parallel-item::before {content: \"\";position: absolute;border-left: 1px solid gray;box-sizing: border-box;top: 0;bottom: 0;left: 50%;z-index: -1;}#sk-container-id-12 div.sk-parallel-item {display: flex;flex-direction: column;z-index: 1;position: relative;background-color: white;}#sk-container-id-12 div.sk-parallel-item:first-child::after {align-self: flex-end;width: 50%;}#sk-container-id-12 div.sk-parallel-item:last-child::after {align-self: flex-start;width: 50%;}#sk-container-id-12 div.sk-parallel-item:only-child::after {width: 0;}#sk-container-id-12 div.sk-dashed-wrapped {border: 1px dashed gray;margin: 0 0.4em 0.5em 0.4em;box-sizing: border-box;padding-bottom: 0.4em;background-color: white;}#sk-container-id-12 div.sk-label label {font-family: monospace;font-weight: bold;display: inline-block;line-height: 1.2em;}#sk-container-id-12 div.sk-label-container {text-align: center;}#sk-container-id-12 div.sk-container {/* jupyter's `normalize.less` sets `[hidden] { display: none; }` but bootstrap.min.css set `[hidden] { display: none !important; }` so we also need the `!important` here to be able to override the default hidden behavior on the sphinx rendered scikit-learn.org. See: https://github.com/scikit-learn/scikit-learn/issues/21755 */display: inline-block !important;position: relative;}#sk-container-id-12 div.sk-text-repr-fallback {display: none;}</style><div id=\"sk-container-id-12\" class=\"sk-top-container\"><div class=\"sk-text-repr-fallback\"><pre>LinearRegression()</pre><b>In a Jupyter environment, please rerun this cell to show the HTML representation or trust the notebook. <br />On GitHub, the HTML representation is unable to render, please try loading this page with nbviewer.org.</b></div><div class=\"sk-container\" hidden><div class=\"sk-item\"><div class=\"sk-estimator sk-toggleable\"><input class=\"sk-toggleable__control sk-hidden--visually\" id=\"sk-estimator-id-12\" type=\"checkbox\" checked><label for=\"sk-estimator-id-12\" class=\"sk-toggleable__label sk-toggleable__label-arrow\">LinearRegression</label><div class=\"sk-toggleable__content\"><pre>LinearRegression()</pre></div></div></div></div></div>"
      ],
      "text/plain": [
       "LinearRegression()"
      ]
     },
     "execution_count": 196,
     "metadata": {},
     "output_type": "execute_result"
    }
   ],
   "source": [
    "model_lr.fit(X=targert ,y=features)"
   ]
  },
  {
   "cell_type": "markdown",
   "metadata": {},
   "source": [
    "### Calculate Predictions"
   ]
  },
  {
   "cell_type": "code",
   "execution_count": 197,
   "metadata": {},
   "outputs": [
    {
     "data": {
      "text/plain": [
       "array([16.66805168, 14.07590824, 16.00494522, 16.84889889, 16.9694637 ,\n",
       "        9.31359821,  7.80653807,  8.65049175,  7.74625567, 11.66461202,\n",
       "       12.08658886, 14.67873229, 11.06178797,  7.74625567, 28.36283834,\n",
       "       23.23883387, 23.17855147, 23.11826906, 29.32735682, 29.32735682,\n",
       "       28.54368555, 28.72453277, 28.90537999, 27.88057909, 23.17855147,\n",
       "       13.47308419, 16.66805168, 16.00494522, 16.84889889, 29.32735682,\n",
       "       26.73521339, 28.36283834, 29.26707442, 21.18923209, 21.61120892,\n",
       "       20.10414879, 20.10414879, 21.18923209, 14.07590824, 11.06178797,\n",
       "       14.01562583, 16.00494522, 12.08658886, 11.06178797, 11.06178797,\n",
       "       19.62188954, 26.73521339, 20.10414879, 20.10414879, 27.82029669,\n",
       "       28.18199112, 30.41244012, 29.86989847, 30.89469937, 30.83441696,\n",
       "       29.32735682, 29.68905126, 28.36283834, 29.29721562, 29.32735682,\n",
       "       26.73521339, 27.82029669, 14.07590824, 11.06178797, 16.00494522,\n",
       "       14.01562583, 16.84889889,  9.31359821, 14.07590824, 14.07590824,\n",
       "       11.06178797, 30.95498177, 16.84889889, 16.66805168, 16.9694637 ,\n",
       "       16.00494522, 27.88057909, 27.88057909, 27.9408615 , 29.38763923,\n",
       "       27.82029669, 29.32735682, 27.9408615 , 29.26707442, 29.32735682,\n",
       "       14.07590824, 16.84889889, 14.07590824, 16.9694637 , 16.00494522,\n",
       "        9.31359821, 11.06178797, 14.01562583, 16.00494522,  8.65049175,\n",
       "        7.74625567, 13.47308419, 21.61120892, 20.10414879, 21.18923209,\n",
       "       20.10414879, 23.23883387, 29.32735682, 11.06178797, 11.06178797,\n",
       "       13.47308419, 14.07590824, 21.18923209, 29.32735682, 26.73521339,\n",
       "       28.66425036, 30.95498177, 27.82029669, 25.83097731, 29.26707442,\n",
       "       14.07590824, 11.06178797, 31.07554658, 28.18199112, 28.30255593,\n",
       "       27.88057909, 16.00494522, 27.88057909, 25.7706949 , 14.07590824,\n",
       "       23.23883387, 23.11826906, 21.18923209, 20.10414879, 30.41244012,\n",
       "       27.82029669, 30.89469937, 26.73521339, 20.10414879, 19.62188954,\n",
       "       21.61120892, 16.9694637 , 14.07590824, 16.00494522, 16.9694637 ,\n",
       "       16.84889889, 29.26707442, 30.41244012, 29.32735682, 30.59328734,\n",
       "       30.1713105 , 29.74933366, 29.74933366, 28.18199112, 27.9408615 ,\n",
       "       28.66425036, 30.41244012, 21.61120892, 20.10414879, 20.10414879,\n",
       "       20.10414879, 11.06178797, 14.07590824, 16.00494522, 14.01562583,\n",
       "       21.24951449, 20.10414879, 19.62188954, 21.61120892, 21.24951449,\n",
       "       19.38075992, 16.9694637 , 29.32735682, 26.73521339, 21.18923209,\n",
       "       26.73521339, 27.09690782, 29.74933366, 28.0011439 , 24.86645882,\n",
       "       29.74933366, 21.18923209, 28.24227353, 27.9408615 , 27.88057909,\n",
       "       27.88057909, 29.68905126, 28.72453277, 28.18199112, 26.73521339,\n",
       "       29.26707442, 29.0862272 , 16.78861649, 16.00494522, 16.84889889,\n",
       "       14.01562583, 21.61120892, 20.10414879, 23.11826906, 21.18923209,\n",
       "       30.05074569, 29.26707442, 29.74933366, 29.68905126, 21.61120892,\n",
       "       20.10414879, 20.10414879, 19.62188954, 29.32735682, 30.05074569,\n",
       "       29.32735682, 26.73521339, 27.33803744, 16.00494522, 27.9408615 ,\n",
       "       25.7706949 , 25.04730604, 14.07590824, 14.07590824, 16.9694637 ,\n",
       "       16.00494522, 29.26707442, 28.48340315, 30.41244012, 27.82029669,\n",
       "       30.05074569, 16.78861649, 19.50132473, 16.00494522, 16.9694637 ,\n",
       "       20.10414879, 21.24951449, 21.61120892, 20.10414879, 11.06178797,\n",
       "       14.07590824, 11.06178797, 14.01562583, 29.32735682, 26.07210693,\n",
       "       29.32735682, 26.73521339, 29.26707442, 29.26707442, 29.32735682,\n",
       "       29.32735682, 26.37351896, 27.88057909, 30.35215772, 29.74933366,\n",
       "       29.26707442, 30.47272253, 30.05074569, 29.68905126, 19.50132473,\n",
       "       16.00494522, 16.9694637 , 21.24951449, 23.11826906, 23.11826906,\n",
       "       26.73521339, 21.61120892, 21.18923209, 21.24951449, 23.11826906,\n",
       "       21.61120892, 19.62188954, 16.78861649, 21.24951449, 16.9694637 ,\n",
       "       16.00494522, 29.26707442, 27.09690782, 28.0011439 , 28.84509758,\n",
       "       27.09690782, 25.7706949 , 26.07210693, 28.0011439 , 27.27775504,\n",
       "       25.34871806, 27.88057909, 25.34871806, 29.80961607, 29.26707442,\n",
       "       21.24951449, 23.11826906, 26.73521339, 21.18923209, 21.61120892,\n",
       "       16.78861649, 16.9694637 , 14.01562583, 16.00494522, 14.07590824,\n",
       "       14.01562583, 19.07934789, 13.47308419, 29.80961607, 29.99046328,\n",
       "       29.26707442, 27.88057909, 24.14306995, 14.07590824, 26.67493098,\n",
       "       19.50132473, 28.84509758, 28.84509758, 30.05074569, 29.68905126,\n",
       "       26.07210693, 24.74589401, 24.74589401, 26.07210693, 29.26707442,\n",
       "       29.80961607, 29.26707442, 29.99046328, 26.07210693, 26.73521339,\n",
       "       26.07210693, 21.61120892, 29.32735682, 27.09690782, 27.9408615 ,\n",
       "       28.0011439 , 28.66425036, 29.99046328, 25.7706949 , 30.05074569,\n",
       "       29.74933366, 29.74933366, 27.88057909, 26.37351896, 29.68905126,\n",
       "       30.05074569, 29.32735682, 29.80961607, 25.04730604, 30.95498177,\n",
       "       27.82029669, 26.73521339, 28.72453277, 27.03662542, 26.07210693,\n",
       "       25.7706949 , 24.74589401, 27.03662542, 30.41244012, 29.99046328,\n",
       "       30.29187531, 29.32735682, 30.05074569, 29.80961607, 29.68905126,\n",
       "       28.84509758, 29.26707442, 29.26707442, 28.84509758, 29.14650961,\n",
       "       28.72453277, 28.66425036, 28.0011439 , 27.9408615 , 26.67493098,\n",
       "       26.43380136, 25.04730604, 26.37351896, 21.24951449, 14.07590824,\n",
       "       23.11826906, 21.61120892, 28.42312074, 28.42312074, 28.42312074,\n",
       "       28.42312074, 27.03662542, 26.07210693, 26.73521339, 26.07210693,\n",
       "       28.84509758, 29.68905126, 29.68905126, 28.84509758, 29.26707442,\n",
       "       27.9408615 , 28.72453277, 28.66425036, 29.68905126, 29.68905126,\n",
       "       29.68905126, 24.26363476, 19.38075992, 25.7706949 , 21.18923209,\n",
       "       26.49408377, 27.03662542, 26.07210693, 26.73521339, 29.32735682,\n",
       "       27.03662542, 27.9408615 , 28.0011439 ])"
      ]
     },
     "execution_count": 197,
     "metadata": {},
     "output_type": "execute_result"
    }
   ],
   "source": [
    "model_lr.predict(X=targert)"
   ]
  },
  {
   "cell_type": "markdown",
   "metadata": {},
   "source": [
    "### Create a New DataFrame for the Predictions"
   ]
  },
  {
   "cell_type": "code",
   "execution_count": 198,
   "metadata": {},
   "outputs": [],
   "source": [
    "df['predict'] =model_lr.predict(X=targert)"
   ]
  },
  {
   "cell_type": "code",
   "execution_count": 199,
   "metadata": {},
   "outputs": [
    {
     "data": {
      "text/html": [
       "<div>\n",
       "<style scoped>\n",
       "    .dataframe tbody tr th:only-of-type {\n",
       "        vertical-align: middle;\n",
       "    }\n",
       "\n",
       "    .dataframe tbody tr th {\n",
       "        vertical-align: top;\n",
       "    }\n",
       "\n",
       "    .dataframe thead th {\n",
       "        text-align: right;\n",
       "    }\n",
       "</style>\n",
       "<table border=\"1\" class=\"dataframe\">\n",
       "  <thead>\n",
       "    <tr style=\"text-align: right;\">\n",
       "      <th></th>\n",
       "      <th>mpg</th>\n",
       "      <th>cylinders</th>\n",
       "      <th>displacement</th>\n",
       "      <th>horsepower</th>\n",
       "      <th>weight</th>\n",
       "      <th>acceleration</th>\n",
       "      <th>model_year</th>\n",
       "      <th>origin</th>\n",
       "      <th>name</th>\n",
       "      <th>predict</th>\n",
       "    </tr>\n",
       "  </thead>\n",
       "  <tbody>\n",
       "    <tr>\n",
       "      <th>0</th>\n",
       "      <td>18.0</td>\n",
       "      <td>8</td>\n",
       "      <td>307.0</td>\n",
       "      <td>130.0</td>\n",
       "      <td>3504</td>\n",
       "      <td>12.0</td>\n",
       "      <td>70</td>\n",
       "      <td>usa</td>\n",
       "      <td>chevrolet chevelle malibu</td>\n",
       "      <td>16.668052</td>\n",
       "    </tr>\n",
       "    <tr>\n",
       "      <th>1</th>\n",
       "      <td>15.0</td>\n",
       "      <td>8</td>\n",
       "      <td>350.0</td>\n",
       "      <td>165.0</td>\n",
       "      <td>3693</td>\n",
       "      <td>11.5</td>\n",
       "      <td>70</td>\n",
       "      <td>usa</td>\n",
       "      <td>buick skylark 320</td>\n",
       "      <td>14.075908</td>\n",
       "    </tr>\n",
       "    <tr>\n",
       "      <th>2</th>\n",
       "      <td>18.0</td>\n",
       "      <td>8</td>\n",
       "      <td>318.0</td>\n",
       "      <td>150.0</td>\n",
       "      <td>3436</td>\n",
       "      <td>11.0</td>\n",
       "      <td>70</td>\n",
       "      <td>usa</td>\n",
       "      <td>plymouth satellite</td>\n",
       "      <td>16.004945</td>\n",
       "    </tr>\n",
       "    <tr>\n",
       "      <th>3</th>\n",
       "      <td>16.0</td>\n",
       "      <td>8</td>\n",
       "      <td>304.0</td>\n",
       "      <td>150.0</td>\n",
       "      <td>3433</td>\n",
       "      <td>12.0</td>\n",
       "      <td>70</td>\n",
       "      <td>usa</td>\n",
       "      <td>amc rebel sst</td>\n",
       "      <td>16.848899</td>\n",
       "    </tr>\n",
       "    <tr>\n",
       "      <th>4</th>\n",
       "      <td>17.0</td>\n",
       "      <td>8</td>\n",
       "      <td>302.0</td>\n",
       "      <td>140.0</td>\n",
       "      <td>3449</td>\n",
       "      <td>10.5</td>\n",
       "      <td>70</td>\n",
       "      <td>usa</td>\n",
       "      <td>ford torino</td>\n",
       "      <td>16.969464</td>\n",
       "    </tr>\n",
       "    <tr>\n",
       "      <th>...</th>\n",
       "      <td>...</td>\n",
       "      <td>...</td>\n",
       "      <td>...</td>\n",
       "      <td>...</td>\n",
       "      <td>...</td>\n",
       "      <td>...</td>\n",
       "      <td>...</td>\n",
       "      <td>...</td>\n",
       "      <td>...</td>\n",
       "      <td>...</td>\n",
       "    </tr>\n",
       "    <tr>\n",
       "      <th>393</th>\n",
       "      <td>27.0</td>\n",
       "      <td>4</td>\n",
       "      <td>140.0</td>\n",
       "      <td>86.0</td>\n",
       "      <td>2790</td>\n",
       "      <td>15.6</td>\n",
       "      <td>82</td>\n",
       "      <td>usa</td>\n",
       "      <td>ford mustang gl</td>\n",
       "      <td>26.735213</td>\n",
       "    </tr>\n",
       "    <tr>\n",
       "      <th>394</th>\n",
       "      <td>44.0</td>\n",
       "      <td>4</td>\n",
       "      <td>97.0</td>\n",
       "      <td>52.0</td>\n",
       "      <td>2130</td>\n",
       "      <td>24.6</td>\n",
       "      <td>82</td>\n",
       "      <td>europe</td>\n",
       "      <td>vw pickup</td>\n",
       "      <td>29.327357</td>\n",
       "    </tr>\n",
       "    <tr>\n",
       "      <th>395</th>\n",
       "      <td>32.0</td>\n",
       "      <td>4</td>\n",
       "      <td>135.0</td>\n",
       "      <td>84.0</td>\n",
       "      <td>2295</td>\n",
       "      <td>11.6</td>\n",
       "      <td>82</td>\n",
       "      <td>usa</td>\n",
       "      <td>dodge rampage</td>\n",
       "      <td>27.036625</td>\n",
       "    </tr>\n",
       "    <tr>\n",
       "      <th>396</th>\n",
       "      <td>28.0</td>\n",
       "      <td>4</td>\n",
       "      <td>120.0</td>\n",
       "      <td>79.0</td>\n",
       "      <td>2625</td>\n",
       "      <td>18.6</td>\n",
       "      <td>82</td>\n",
       "      <td>usa</td>\n",
       "      <td>ford ranger</td>\n",
       "      <td>27.940861</td>\n",
       "    </tr>\n",
       "    <tr>\n",
       "      <th>397</th>\n",
       "      <td>31.0</td>\n",
       "      <td>4</td>\n",
       "      <td>119.0</td>\n",
       "      <td>82.0</td>\n",
       "      <td>2720</td>\n",
       "      <td>19.4</td>\n",
       "      <td>82</td>\n",
       "      <td>usa</td>\n",
       "      <td>chevy s-10</td>\n",
       "      <td>28.001144</td>\n",
       "    </tr>\n",
       "  </tbody>\n",
       "</table>\n",
       "<p>398 rows × 10 columns</p>\n",
       "</div>"
      ],
      "text/plain": [
       "      mpg  cylinders  displacement  horsepower  weight  acceleration  \\\n",
       "0    18.0          8         307.0       130.0    3504          12.0   \n",
       "1    15.0          8         350.0       165.0    3693          11.5   \n",
       "2    18.0          8         318.0       150.0    3436          11.0   \n",
       "3    16.0          8         304.0       150.0    3433          12.0   \n",
       "4    17.0          8         302.0       140.0    3449          10.5   \n",
       "..    ...        ...           ...         ...     ...           ...   \n",
       "393  27.0          4         140.0        86.0    2790          15.6   \n",
       "394  44.0          4          97.0        52.0    2130          24.6   \n",
       "395  32.0          4         135.0        84.0    2295          11.6   \n",
       "396  28.0          4         120.0        79.0    2625          18.6   \n",
       "397  31.0          4         119.0        82.0    2720          19.4   \n",
       "\n",
       "     model_year  origin                       name    predict  \n",
       "0            70     usa  chevrolet chevelle malibu  16.668052  \n",
       "1            70     usa          buick skylark 320  14.075908  \n",
       "2            70     usa         plymouth satellite  16.004945  \n",
       "3            70     usa              amc rebel sst  16.848899  \n",
       "4            70     usa                ford torino  16.969464  \n",
       "..          ...     ...                        ...        ...  \n",
       "393          82     usa            ford mustang gl  26.735213  \n",
       "394          82  europe                  vw pickup  29.327357  \n",
       "395          82     usa              dodge rampage  27.036625  \n",
       "396          82     usa                ford ranger  27.940861  \n",
       "397          82     usa                 chevy s-10  28.001144  \n",
       "\n",
       "[398 rows x 10 columns]"
      ]
     },
     "execution_count": 199,
     "metadata": {},
     "output_type": "execute_result"
    }
   ],
   "source": [
    "df "
   ]
  },
  {
   "cell_type": "markdown",
   "metadata": {},
   "source": [
    "### Visualize the Model"
   ]
  },
  {
   "cell_type": "markdown",
   "metadata": {},
   "source": [
    "1. The `x-axis` is represented by the **explanatory variable** you used to fit the model.\n",
    "2. The `y-axis` is represented by the **predictions** you computed before."
   ]
  },
  {
   "cell_type": "code",
   "execution_count": 200,
   "metadata": {},
   "outputs": [],
   "source": [
    "import  matplotlib.pyplot as plt"
   ]
  },
  {
   "cell_type": "code",
   "execution_count": 201,
   "metadata": {},
   "outputs": [
    {
     "data": {
      "text/plain": [
       "<AxesSubplot:xlabel='displacement', ylabel='mpg'>"
      ]
     },
     "execution_count": 201,
     "metadata": {},
     "output_type": "execute_result"
    },
    {
     "data": {
      "image/png": "[encoded data removed]",
      "text/plain": [
       "<Figure size 640x480 with 1 Axes>"
      ]
     },
     "metadata": {},
     "output_type": "display_data"
    }
   ],
   "source": [
    "sns.scatterplot(x='displacement',y='mpg',data=df)\n",
    "sns.scatterplot(x='displacement',y ='predict',data=df)"
   ]
  },
  {
   "cell_type": "code",
   "execution_count": 202,
   "metadata": {},
   "outputs": [
    {
     "data": {
      "text/plain": [
       "<AxesSubplot:xlabel='displacement', ylabel='mpg'>"
      ]
     },
     "execution_count": 202,
     "metadata": {},
     "output_type": "execute_result"
    },
    {
     "data": {
      "image/png": "[encoded data removed]",
      "text/plain": [
       "<Figure size 640x480 with 1 Axes>"
      ]
     },
     "metadata": {},
     "output_type": "display_data"
    }
   ],
   "source": [
    "sns.scatterplot(x='displacement',y='mpg',data=df)\n",
    "sns.scatterplot(x='displacement',y ='predict',data=df)\n",
    "sns.lineplot(x='displacement',y='predict',data=df, color ='red')"
   ]
  },
  {
   "cell_type": "markdown",
   "metadata": {},
   "source": [
    "### Model Interpretation"
   ]
  },
  {
   "cell_type": "markdown",
   "metadata": {},
   "source": [
    "1. Especify the **mathematical equation** of the model.\n",
    "2. **Interpret the coefficients** from the equation."
   ]
  },
  {
   "cell_type": "markdown",
   "metadata": {},
   "source": []
  },
  {
   "cell_type": "code",
   "execution_count": 203,
   "metadata": {},
   "outputs": [
    {
     "data": {
      "text/plain": [
       "{'fit_intercept': True,\n",
       " 'normalize': 'deprecated',\n",
       " 'copy_X': True,\n",
       " 'n_jobs': None,\n",
       " 'positive': False,\n",
       " 'feature_names_in_': array(['displacement'], dtype=object),\n",
       " 'n_features_in_': 1,\n",
       " 'coef_': array([-0.06028241]),\n",
       " 'rank_': 1,\n",
       " 'singular_': array([2077.56180737]),\n",
       " 'intercept_': 35.17475015429319}"
      ]
     },
     "execution_count": 203,
     "metadata": {},
     "output_type": "execute_result"
    }
   ],
   "source": [
    "model_lr.__dict__"
   ]
  },
  {
   "cell_type": "code",
   "execution_count": 204,
   "metadata": {},
   "outputs": [
    {
     "data": {
      "text/plain": [
       "35.17475015429319"
      ]
     },
     "execution_count": 204,
     "metadata": {},
     "output_type": "execute_result"
    }
   ],
   "source": [
    "model_lr.intercept_"
   ]
  },
  {
   "cell_type": "code",
   "execution_count": 205,
   "metadata": {},
   "outputs": [
    {
     "data": {
      "text/plain": [
       "array([-0.06028241])"
      ]
     },
     "execution_count": 205,
     "metadata": {},
     "output_type": "execute_result"
    }
   ],
   "source": [
    "model_lr.coef_"
   ]
  },
  {
   "cell_type": "markdown",
   "metadata": {},
   "source": [
    "mpg = (intercept+ coef)*displacement"
   ]
  },
  {
   "cell_type": "markdown",
   "metadata": {},
   "source": [
    "### Model's Score"
   ]
  },
  {
   "cell_type": "code",
   "execution_count": 206,
   "metadata": {},
   "outputs": [
    {
     "data": {
      "text/plain": [
       "0.6467421834257859"
      ]
     },
     "execution_count": 206,
     "metadata": {},
     "output_type": "execute_result"
    }
   ],
   "source": [
    "model_lr.score(X= targert, y=features)"
   ]
  },
  {
   "cell_type": "markdown",
   "metadata": {},
   "source": [
    "## `KNeighborsRegressor()` in Python"
   ]
  },
  {
   "cell_type": "markdown",
   "metadata": {},
   "source": [
    "### Fit the Model"
   ]
  },
  {
   "cell_type": "code",
   "execution_count": 207,
   "metadata": {},
   "outputs": [],
   "source": [
    "from sklearn.neighbors import KNeighborsRegressor"
   ]
  },
  {
   "cell_type": "markdown",
   "metadata": {},
   "source": [
    "### Calculate Predictions"
   ]
  },
  {
   "cell_type": "code",
   "execution_count": 208,
   "metadata": {},
   "outputs": [],
   "source": [
    "model_k = KNeighborsRegressor(n_neighbors=20)"
   ]
  },
  {
   "cell_type": "code",
   "execution_count": 209,
   "metadata": {},
   "outputs": [
    {
     "data": {
      "text/html": [
       "<style>#sk-container-id-13 {color: black;background-color: white;}#sk-container-id-13 pre{padding: 0;}#sk-container-id-13 div.sk-toggleable {background-color: white;}#sk-container-id-13 label.sk-toggleable__label {cursor: pointer;display: block;width: 100%;margin-bottom: 0;padding: 0.3em;box-sizing: border-box;text-align: center;}#sk-container-id-13 label.sk-toggleable__label-arrow:before {content: \"▸\";float: left;margin-right: 0.25em;color: #696969;}#sk-container-id-13 label.sk-toggleable__label-arrow:hover:before {color: black;}#sk-container-id-13 div.sk-estimator:hover label.sk-toggleable__label-arrow:before {color: black;}#sk-container-id-13 div.sk-toggleable__content {max-height: 0;max-width: 0;overflow: hidden;text-align: left;background-color: #f0f8ff;}#sk-container-id-13 div.sk-toggleable__content pre {margin: 0.2em;color: black;border-radius: 0.25em;background-color: #f0f8ff;}#sk-container-id-13 input.sk-toggleable__control:checked~div.sk-toggleable__content {max-height: 200px;max-width: 100%;overflow: auto;}#sk-container-id-13 input.sk-toggleable__control:checked~label.sk-toggleable__label-arrow:before {content: \"▾\";}#sk-container-id-13 div.sk-estimator input.sk-toggleable__control:checked~label.sk-toggleable__label {background-color: #d4ebff;}#sk-container-id-13 div.sk-label input.sk-toggleable__control:checked~label.sk-toggleable__label {background-color: #d4ebff;}#sk-container-id-13 input.sk-hidden--visually {border: 0;clip: rect(1px 1px 1px 1px);clip: rect(1px, 1px, 1px, 1px);height: 1px;margin: -1px;overflow: hidden;padding: 0;position: absolute;width: 1px;}#sk-container-id-13 div.sk-estimator {font-family: monospace;background-color: #f0f8ff;border: 1px dotted black;border-radius: 0.25em;box-sizing: border-box;margin-bottom: 0.5em;}#sk-container-id-13 div.sk-estimator:hover {background-color: #d4ebff;}#sk-container-id-13 div.sk-parallel-item::after {content: \"\";width: 100%;border-bottom: 1px solid gray;flex-grow: 1;}#sk-container-id-13 div.sk-label:hover label.sk-toggleable__label {background-color: #d4ebff;}#sk-container-id-13 div.sk-serial::before {content: \"\";position: absolute;border-left: 1px solid gray;box-sizing: border-box;top: 0;bottom: 0;left: 50%;z-index: 0;}#sk-container-id-13 div.sk-serial {display: flex;flex-direction: column;align-items: center;background-color: white;padding-right: 0.2em;padding-left: 0.2em;position: relative;}#sk-container-id-13 div.sk-item {position: relative;z-index: 1;}#sk-container-id-13 div.sk-parallel {display: flex;align-items: stretch;justify-content: center;background-color: white;position: relative;}#sk-container-id-13 div.sk-item::before, #sk-container-id-13 div.sk-parallel-item::before {content: \"\";position: absolute;border-left: 1px solid gray;box-sizing: border-box;top: 0;bottom: 0;left: 50%;z-index: -1;}#sk-container-id-13 div.sk-parallel-item {display: flex;flex-direction: column;z-index: 1;position: relative;background-color: white;}#sk-container-id-13 div.sk-parallel-item:first-child::after {align-self: flex-end;width: 50%;}#sk-container-id-13 div.sk-parallel-item:last-child::after {align-self: flex-start;width: 50%;}#sk-container-id-13 div.sk-parallel-item:only-child::after {width: 0;}#sk-container-id-13 div.sk-dashed-wrapped {border: 1px dashed gray;margin: 0 0.4em 0.5em 0.4em;box-sizing: border-box;padding-bottom: 0.4em;background-color: white;}#sk-container-id-13 div.sk-label label {font-family: monospace;font-weight: bold;display: inline-block;line-height: 1.2em;}#sk-container-id-13 div.sk-label-container {text-align: center;}#sk-container-id-13 div.sk-container {/* jupyter's `normalize.less` sets `[hidden] { display: none; }` but bootstrap.min.css set `[hidden] { display: none !important; }` so we also need the `!important` here to be able to override the default hidden behavior on the sphinx rendered scikit-learn.org. See: https://github.com/scikit-learn/scikit-learn/issues/21755 */display: inline-block !important;position: relative;}#sk-container-id-13 div.sk-text-repr-fallback {display: none;}</style><div id=\"sk-container-id-13\" class=\"sk-top-container\"><div class=\"sk-text-repr-fallback\"><pre>KNeighborsRegressor(n_neighbors=20)</pre><b>In a Jupyter environment, please rerun this cell to show the HTML representation or trust the notebook. <br />On GitHub, the HTML representation is unable to render, please try loading this page with nbviewer.org.</b></div><div class=\"sk-container\" hidden><div class=\"sk-item\"><div class=\"sk-estimator sk-toggleable\"><input class=\"sk-toggleable__control sk-hidden--visually\" id=\"sk-estimator-id-13\" type=\"checkbox\" checked><label for=\"sk-estimator-id-13\" class=\"sk-toggleable__label sk-toggleable__label-arrow\">KNeighborsRegressor</label><div class=\"sk-toggleable__content\"><pre>KNeighborsRegressor(n_neighbors=20)</pre></div></div></div></div></div>"
      ],
      "text/plain": [
       "KNeighborsRegressor(n_neighbors=20)"
      ]
     },
     "execution_count": 209,
     "metadata": {},
     "output_type": "execute_result"
    }
   ],
   "source": [
    "model_k.fit(X=targert , y=features)"
   ]
  },
  {
   "cell_type": "markdown",
   "metadata": {},
   "source": [
    "### Model's Score"
   ]
  },
  {
   "cell_type": "code",
   "execution_count": 210,
   "metadata": {},
   "outputs": [
    {
     "data": {
      "text/plain": [
       "array([15.325, 14.925, 14.98 , 15.475, 15.32 , 13.55 , 13.55 , 13.55 ,\n",
       "       13.55 , 13.9  , 13.9  , 14.925, 14.   , 13.55 , 27.03 , 21.75 ,\n",
       "       21.75 , 20.545, 27.97 , 27.97 , 28.435, 31.1  , 31.425, 24.34 ,\n",
       "       21.75 , 14.975, 15.325, 14.98 , 15.475, 27.97 , 25.095, 27.03 ,\n",
       "       30.21 , 19.705, 19.43 , 17.275, 17.275, 19.705, 14.925, 14.   ,\n",
       "       14.9  , 14.98 , 13.9  , 14.   , 14.   , 19.27 , 25.095, 17.275,\n",
       "       17.275, 23.92 , 26.8  , 33.245, 34.805, 30.305, 30.305, 27.97 ,\n",
       "       34.295, 27.03 , 27.605, 27.97 , 25.095, 23.92 , 14.925, 14.   ,\n",
       "       14.98 , 14.9  , 15.475, 13.55 , 14.925, 14.925, 14.   , 30.305,\n",
       "       15.475, 15.325, 15.32 , 14.98 , 24.34 , 24.34 , 26.095, 27.655,\n",
       "       23.92 , 27.97 , 26.095, 30.21 , 27.97 , 14.925, 15.475, 14.925,\n",
       "       15.32 , 14.98 , 13.55 , 14.   , 14.9  , 14.98 , 13.55 , 13.55 ,\n",
       "       14.975, 19.43 , 17.275, 19.705, 17.275, 21.75 , 27.97 , 14.   ,\n",
       "       14.   , 14.975, 14.925, 19.705, 27.97 , 25.095, 31.25 , 30.305,\n",
       "       23.92 , 24.21 , 30.21 , 14.925, 14.   , 30.305, 26.8  , 26.95 ,\n",
       "       24.34 , 14.98 , 24.34 , 24.21 , 14.925, 21.75 , 20.545, 19.705,\n",
       "       17.275, 33.245, 23.92 , 30.305, 25.095, 17.275, 19.27 , 19.43 ,\n",
       "       15.32 , 14.925, 14.98 , 15.32 , 15.475, 30.21 , 33.245, 27.97 ,\n",
       "       30.305, 34.85 , 33.945, 33.945, 26.8  , 26.095, 31.25 , 33.245,\n",
       "       19.43 , 17.275, 17.275, 17.275, 14.   , 14.925, 14.98 , 14.9  ,\n",
       "       19.705, 17.275, 19.27 , 19.43 , 19.705, 19.33 , 15.32 , 27.97 ,\n",
       "       25.095, 19.705, 25.095, 25.52 , 33.945, 26.095, 23.61 , 33.945,\n",
       "       19.705, 27.25 , 26.095, 24.34 , 24.34 , 34.295, 31.1  , 26.8  ,\n",
       "       25.095, 30.21 , 31.035, 15.325, 14.98 , 15.475, 14.9  , 19.43 ,\n",
       "       17.275, 20.545, 19.705, 35.37 , 30.21 , 33.945, 34.295, 19.43 ,\n",
       "       17.275, 17.275, 19.27 , 27.97 , 35.37 , 27.97 , 25.095, 26.315,\n",
       "       14.98 , 26.095, 24.21 , 23.61 , 14.925, 14.925, 15.32 , 14.98 ,\n",
       "       30.21 , 28.435, 33.245, 23.92 , 35.37 , 15.325, 19.33 , 14.98 ,\n",
       "       15.32 , 17.275, 19.705, 19.43 , 17.275, 14.   , 14.925, 14.   ,\n",
       "       14.9  , 27.97 , 25.26 , 27.97 , 25.095, 30.21 , 30.21 , 27.97 ,\n",
       "       27.97 , 26.64 , 24.34 , 33.445, 33.945, 30.21 , 32.5  , 35.37 ,\n",
       "       34.295, 19.33 , 14.98 , 15.32 , 19.705, 20.545, 20.545, 25.095,\n",
       "       19.43 , 19.705, 19.705, 20.545, 19.43 , 19.27 , 15.325, 19.705,\n",
       "       15.32 , 14.98 , 30.21 , 25.52 , 26.095, 30.95 , 25.52 , 24.21 ,\n",
       "       25.26 , 26.095, 25.395, 24.165, 24.34 , 24.165, 33.74 , 30.21 ,\n",
       "       19.705, 20.545, 25.095, 19.705, 19.43 , 15.325, 15.32 , 14.9  ,\n",
       "       14.98 , 14.925, 14.9  , 19.155, 14.975, 33.74 , 35.015, 30.21 ,\n",
       "       24.34 , 22.68 , 14.925, 25.27 , 19.33 , 30.95 , 30.95 , 35.37 ,\n",
       "       34.295, 25.26 , 23.61 , 23.61 , 25.26 , 30.21 , 33.74 , 30.21 ,\n",
       "       35.015, 25.26 , 25.095, 25.26 , 19.43 , 27.97 , 25.52 , 26.095,\n",
       "       26.095, 31.25 , 35.015, 24.21 , 35.37 , 33.945, 33.945, 24.34 ,\n",
       "       26.64 , 34.295, 35.37 , 27.97 , 33.74 , 23.61 , 30.305, 23.92 ,\n",
       "       25.095, 31.1  , 25.52 , 25.26 , 24.21 , 23.61 , 25.52 , 33.245,\n",
       "       35.015, 33.445, 27.97 , 35.37 , 33.74 , 34.295, 30.95 , 30.21 ,\n",
       "       30.21 , 30.95 , 31.035, 31.1  , 31.25 , 26.095, 26.095, 25.27 ,\n",
       "       25.275, 23.61 , 26.64 , 19.705, 14.925, 20.545, 19.43 , 27.03 ,\n",
       "       27.03 , 27.03 , 27.03 , 25.52 , 25.26 , 25.095, 25.26 , 30.95 ,\n",
       "       34.295, 34.295, 30.95 , 30.21 , 26.095, 31.1  , 31.25 , 34.295,\n",
       "       34.295, 34.295, 22.29 , 19.33 , 24.21 , 19.705, 25.275, 25.52 ,\n",
       "       25.26 , 25.095, 27.97 , 25.52 , 26.095, 26.095])"
      ]
     },
     "execution_count": 210,
     "metadata": {},
     "output_type": "execute_result"
    }
   ],
   "source": [
    "model_k.predict(X=targert)"
   ]
  },
  {
   "cell_type": "code",
   "execution_count": 211,
   "metadata": {},
   "outputs": [],
   "source": [
    "predict2 =model_k.predict(X=targert)"
   ]
  },
  {
   "cell_type": "markdown",
   "metadata": {},
   "source": [
    "ADD PREDICT2 ON THE DATA FRAME"
   ]
  },
  {
   "cell_type": "code",
   "execution_count": 212,
   "metadata": {},
   "outputs": [
    {
     "data": {
      "text/html": [
       "<div>\n",
       "<style scoped>\n",
       "    .dataframe tbody tr th:only-of-type {\n",
       "        vertical-align: middle;\n",
       "    }\n",
       "\n",
       "    .dataframe tbody tr th {\n",
       "        vertical-align: top;\n",
       "    }\n",
       "\n",
       "    .dataframe thead th {\n",
       "        text-align: right;\n",
       "    }\n",
       "</style>\n",
       "<table border=\"1\" class=\"dataframe\">\n",
       "  <thead>\n",
       "    <tr style=\"text-align: right;\">\n",
       "      <th></th>\n",
       "      <th>mpg</th>\n",
       "      <th>cylinders</th>\n",
       "      <th>displacement</th>\n",
       "      <th>horsepower</th>\n",
       "      <th>weight</th>\n",
       "      <th>acceleration</th>\n",
       "      <th>model_year</th>\n",
       "      <th>origin</th>\n",
       "      <th>name</th>\n",
       "      <th>predict</th>\n",
       "      <th>predict2</th>\n",
       "    </tr>\n",
       "  </thead>\n",
       "  <tbody>\n",
       "    <tr>\n",
       "      <th>0</th>\n",
       "      <td>18.0</td>\n",
       "      <td>8</td>\n",
       "      <td>307.0</td>\n",
       "      <td>130.0</td>\n",
       "      <td>3504</td>\n",
       "      <td>12.0</td>\n",
       "      <td>70</td>\n",
       "      <td>usa</td>\n",
       "      <td>chevrolet chevelle malibu</td>\n",
       "      <td>16.668052</td>\n",
       "      <td>15.325</td>\n",
       "    </tr>\n",
       "    <tr>\n",
       "      <th>1</th>\n",
       "      <td>15.0</td>\n",
       "      <td>8</td>\n",
       "      <td>350.0</td>\n",
       "      <td>165.0</td>\n",
       "      <td>3693</td>\n",
       "      <td>11.5</td>\n",
       "      <td>70</td>\n",
       "      <td>usa</td>\n",
       "      <td>buick skylark 320</td>\n",
       "      <td>14.075908</td>\n",
       "      <td>14.925</td>\n",
       "    </tr>\n",
       "    <tr>\n",
       "      <th>2</th>\n",
       "      <td>18.0</td>\n",
       "      <td>8</td>\n",
       "      <td>318.0</td>\n",
       "      <td>150.0</td>\n",
       "      <td>3436</td>\n",
       "      <td>11.0</td>\n",
       "      <td>70</td>\n",
       "      <td>usa</td>\n",
       "      <td>plymouth satellite</td>\n",
       "      <td>16.004945</td>\n",
       "      <td>14.980</td>\n",
       "    </tr>\n",
       "    <tr>\n",
       "      <th>3</th>\n",
       "      <td>16.0</td>\n",
       "      <td>8</td>\n",
       "      <td>304.0</td>\n",
       "      <td>150.0</td>\n",
       "      <td>3433</td>\n",
       "      <td>12.0</td>\n",
       "      <td>70</td>\n",
       "      <td>usa</td>\n",
       "      <td>amc rebel sst</td>\n",
       "      <td>16.848899</td>\n",
       "      <td>15.475</td>\n",
       "    </tr>\n",
       "    <tr>\n",
       "      <th>4</th>\n",
       "      <td>17.0</td>\n",
       "      <td>8</td>\n",
       "      <td>302.0</td>\n",
       "      <td>140.0</td>\n",
       "      <td>3449</td>\n",
       "      <td>10.5</td>\n",
       "      <td>70</td>\n",
       "      <td>usa</td>\n",
       "      <td>ford torino</td>\n",
       "      <td>16.969464</td>\n",
       "      <td>15.320</td>\n",
       "    </tr>\n",
       "    <tr>\n",
       "      <th>...</th>\n",
       "      <td>...</td>\n",
       "      <td>...</td>\n",
       "      <td>...</td>\n",
       "      <td>...</td>\n",
       "      <td>...</td>\n",
       "      <td>...</td>\n",
       "      <td>...</td>\n",
       "      <td>...</td>\n",
       "      <td>...</td>\n",
       "      <td>...</td>\n",
       "      <td>...</td>\n",
       "    </tr>\n",
       "    <tr>\n",
       "      <th>393</th>\n",
       "      <td>27.0</td>\n",
       "      <td>4</td>\n",
       "      <td>140.0</td>\n",
       "      <td>86.0</td>\n",
       "      <td>2790</td>\n",
       "      <td>15.6</td>\n",
       "      <td>82</td>\n",
       "      <td>usa</td>\n",
       "      <td>ford mustang gl</td>\n",
       "      <td>26.735213</td>\n",
       "      <td>25.095</td>\n",
       "    </tr>\n",
       "    <tr>\n",
       "      <th>394</th>\n",
       "      <td>44.0</td>\n",
       "      <td>4</td>\n",
       "      <td>97.0</td>\n",
       "      <td>52.0</td>\n",
       "      <td>2130</td>\n",
       "      <td>24.6</td>\n",
       "      <td>82</td>\n",
       "      <td>europe</td>\n",
       "      <td>vw pickup</td>\n",
       "      <td>29.327357</td>\n",
       "      <td>27.970</td>\n",
       "    </tr>\n",
       "    <tr>\n",
       "      <th>395</th>\n",
       "      <td>32.0</td>\n",
       "      <td>4</td>\n",
       "      <td>135.0</td>\n",
       "      <td>84.0</td>\n",
       "      <td>2295</td>\n",
       "      <td>11.6</td>\n",
       "      <td>82</td>\n",
       "      <td>usa</td>\n",
       "      <td>dodge rampage</td>\n",
       "      <td>27.036625</td>\n",
       "      <td>25.520</td>\n",
       "    </tr>\n",
       "    <tr>\n",
       "      <th>396</th>\n",
       "      <td>28.0</td>\n",
       "      <td>4</td>\n",
       "      <td>120.0</td>\n",
       "      <td>79.0</td>\n",
       "      <td>2625</td>\n",
       "      <td>18.6</td>\n",
       "      <td>82</td>\n",
       "      <td>usa</td>\n",
       "      <td>ford ranger</td>\n",
       "      <td>27.940861</td>\n",
       "      <td>26.095</td>\n",
       "    </tr>\n",
       "    <tr>\n",
       "      <th>397</th>\n",
       "      <td>31.0</td>\n",
       "      <td>4</td>\n",
       "      <td>119.0</td>\n",
       "      <td>82.0</td>\n",
       "      <td>2720</td>\n",
       "      <td>19.4</td>\n",
       "      <td>82</td>\n",
       "      <td>usa</td>\n",
       "      <td>chevy s-10</td>\n",
       "      <td>28.001144</td>\n",
       "      <td>26.095</td>\n",
       "    </tr>\n",
       "  </tbody>\n",
       "</table>\n",
       "<p>398 rows × 11 columns</p>\n",
       "</div>"
      ],
      "text/plain": [
       "      mpg  cylinders  displacement  horsepower  weight  acceleration  \\\n",
       "0    18.0          8         307.0       130.0    3504          12.0   \n",
       "1    15.0          8         350.0       165.0    3693          11.5   \n",
       "2    18.0          8         318.0       150.0    3436          11.0   \n",
       "3    16.0          8         304.0       150.0    3433          12.0   \n",
       "4    17.0          8         302.0       140.0    3449          10.5   \n",
       "..    ...        ...           ...         ...     ...           ...   \n",
       "393  27.0          4         140.0        86.0    2790          15.6   \n",
       "394  44.0          4          97.0        52.0    2130          24.6   \n",
       "395  32.0          4         135.0        84.0    2295          11.6   \n",
       "396  28.0          4         120.0        79.0    2625          18.6   \n",
       "397  31.0          4         119.0        82.0    2720          19.4   \n",
       "\n",
       "     model_year  origin                       name    predict  predict2  \n",
       "0            70     usa  chevrolet chevelle malibu  16.668052    15.325  \n",
       "1            70     usa          buick skylark 320  14.075908    14.925  \n",
       "2            70     usa         plymouth satellite  16.004945    14.980  \n",
       "3            70     usa              amc rebel sst  16.848899    15.475  \n",
       "4            70     usa                ford torino  16.969464    15.320  \n",
       "..          ...     ...                        ...        ...       ...  \n",
       "393          82     usa            ford mustang gl  26.735213    25.095  \n",
       "394          82  europe                  vw pickup  29.327357    27.970  \n",
       "395          82     usa              dodge rampage  27.036625    25.520  \n",
       "396          82     usa                ford ranger  27.940861    26.095  \n",
       "397          82     usa                 chevy s-10  28.001144    26.095  \n",
       "\n",
       "[398 rows x 11 columns]"
      ]
     },
     "execution_count": 212,
     "metadata": {},
     "output_type": "execute_result"
    }
   ],
   "source": [
    "df['predict2']= model_k.predict(X=targert)\n",
    "df"
   ]
  },
  {
   "cell_type": "markdown",
   "metadata": {},
   "source": [
    "## Visualize the Mode"
   ]
  },
  {
   "cell_type": "code",
   "execution_count": 213,
   "metadata": {},
   "outputs": [
    {
     "data": {
      "text/plain": [
       "<AxesSubplot:xlabel='displacement', ylabel='mpg'>"
      ]
     },
     "execution_count": 213,
     "metadata": {},
     "output_type": "execute_result"
    },
    {
     "data": {
      "image/png": "[encoded data removed]",
      "text/plain": [
       "<Figure size 640x480 with 1 Axes>"
      ]
     },
     "metadata": {},
     "output_type": "display_data"
    }
   ],
   "source": [
    "sns.scatterplot(x='displacement',y='mpg',data=df)\n",
    "sns.scatterplot(x='displacement',y ='predict2',data=df)\n",
    "sns.lineplot(x='displacement',y='predict2',data=df, color ='red')"
   ]
  },
  {
   "cell_type": "markdown",
   "metadata": {},
   "source": [
    "## Model Interpretation"
   ]
  },
  {
   "cell_type": "code",
   "execution_count": 214,
   "metadata": {},
   "outputs": [
    {
     "data": {
      "text/plain": [
       "{'n_neighbors': 20,\n",
       " 'radius': None,\n",
       " 'algorithm': 'auto',\n",
       " 'leaf_size': 30,\n",
       " 'metric': 'minkowski',\n",
       " 'metric_params': None,\n",
       " 'p': 2,\n",
       " 'n_jobs': None,\n",
       " 'weights': 'uniform',\n",
       " 'feature_names_in_': array(['displacement'], dtype=object),\n",
       " 'n_features_in_': 1,\n",
       " '_y': array([18. , 15. , 18. , 16. , 17. , 15. , 14. , 14. , 14. , 15. , 15. ,\n",
       "        14. , 15. , 14. , 24. , 22. , 18. , 21. , 27. , 26. , 25. , 24. ,\n",
       "        25. , 26. , 21. , 10. , 10. , 11. ,  9. , 27. , 28. , 25. , 25. ,\n",
       "        19. , 16. , 17. , 19. , 18. , 14. , 14. , 14. , 14. , 12. , 13. ,\n",
       "        13. , 18. , 22. , 19. , 18. , 23. , 28. , 30. , 30. , 31. , 35. ,\n",
       "        27. , 26. , 24. , 25. , 23. , 20. , 21. , 13. , 14. , 15. , 14. ,\n",
       "        17. , 11. , 13. , 12. , 13. , 19. , 15. , 13. , 13. , 14. , 18. ,\n",
       "        22. , 21. , 26. , 22. , 28. , 23. , 28. , 27. , 13. , 14. , 13. ,\n",
       "        14. , 15. , 12. , 13. , 13. , 14. , 13. , 12. , 13. , 18. , 16. ,\n",
       "        18. , 18. , 23. , 26. , 11. , 12. , 13. , 12. , 18. , 20. , 21. ,\n",
       "        22. , 18. , 19. , 21. , 26. , 15. , 16. , 29. , 24. , 20. , 19. ,\n",
       "        15. , 24. , 20. , 11. , 20. , 21. , 19. , 15. , 31. , 26. , 32. ,\n",
       "        25. , 16. , 16. , 18. , 16. , 13. , 14. , 14. , 14. , 29. , 26. ,\n",
       "        26. , 31. , 32. , 28. , 24. , 26. , 24. , 26. , 31. , 19. , 18. ,\n",
       "        15. , 15. , 16. , 15. , 16. , 14. , 17. , 16. , 15. , 18. , 21. ,\n",
       "        20. , 13. , 29. , 23. , 20. , 23. , 24. , 25. , 24. , 18. , 29. ,\n",
       "        19. , 23. , 23. , 22. , 25. , 33. , 28. , 25. , 25. , 26. , 27. ,\n",
       "        17.5, 16. , 15.5, 14.5, 22. , 22. , 24. , 22.5, 29. , 24.5, 29. ,\n",
       "        33. , 20. , 18. , 18.5, 17.5, 29.5, 32. , 28. , 26.5, 20. , 13. ,\n",
       "        19. , 19. , 16.5, 16.5, 13. , 13. , 13. , 31.5, 30. , 36. , 25.5,\n",
       "        33.5, 17.5, 17. , 15.5, 15. , 17.5, 20.5, 19. , 18.5, 16. , 15.5,\n",
       "        15.5, 16. , 29. , 24.5, 26. , 25.5, 30.5, 33.5, 30. , 30.5, 22. ,\n",
       "        21.5, 21.5, 43.1, 36.1, 32.8, 39.4, 36.1, 19.9, 19.4, 20.2, 19.2,\n",
       "        20.5, 20.2, 25.1, 20.5, 19.4, 20.6, 20.8, 18.6, 18.1, 19.2, 17.7,\n",
       "        18.1, 17.5, 30. , 27.5, 27.2, 30.9, 21.1, 23.2, 23.8, 23.9, 20.3,\n",
       "        17. , 21.6, 16.2, 31.5, 29.5, 21.5, 19.8, 22.3, 20.2, 20.6, 17. ,\n",
       "        17.6, 16.5, 18.2, 16.9, 15.5, 19.2, 18.5, 31.9, 34.1, 35.7, 27.4,\n",
       "        25.4, 23. , 27.2, 23.9, 34.2, 34.5, 31.8, 37.3, 28.4, 28.8, 26.8,\n",
       "        33.5, 41.5, 38.1, 32.1, 37.2, 28. , 26.4, 24.3, 19.1, 34.3, 29.8,\n",
       "        31.3, 37. , 32.2, 46.6, 27.9, 40.8, 44.3, 43.4, 36.4, 30. , 44.6,\n",
       "        40.9, 33.8, 29.8, 32.7, 23.7, 35. , 23.6, 32.4, 27.2, 26.6, 25.8,\n",
       "        23.5, 30. , 39.1, 39. , 35.1, 32.3, 37. , 37.7, 34.1, 34.7, 34.4,\n",
       "        29.9, 33. , 34.5, 33.7, 32.4, 32.9, 31.6, 28.1, 30.7, 25.4, 24.2,\n",
       "        22.4, 26.6, 20.2, 17.6, 28. , 27. , 34. , 31. , 29. , 27. , 24. ,\n",
       "        23. , 36. , 37. , 31. , 38. , 36. , 36. , 36. , 34. , 38. , 32. ,\n",
       "        38. , 25. , 38. , 26. , 22. , 32. , 36. , 27. , 27. , 44. , 32. ,\n",
       "        28. , 31. ]),\n",
       " 'effective_metric_params_': {},\n",
       " 'effective_metric_': 'euclidean',\n",
       " '_fit_method': 'kd_tree',\n",
       " '_fit_X': array([[307. ],\n",
       "        [350. ],\n",
       "        [318. ],\n",
       "        [304. ],\n",
       "        [302. ],\n",
       "        [429. ],\n",
       "        [454. ],\n",
       "        [440. ],\n",
       "        [455. ],\n",
       "        [390. ],\n",
       "        [383. ],\n",
       "        [340. ],\n",
       "        [400. ],\n",
       "        [455. ],\n",
       "        [113. ],\n",
       "        [198. ],\n",
       "        [199. ],\n",
       "        [200. ],\n",
       "        [ 97. ],\n",
       "        [ 97. ],\n",
       "        [110. ],\n",
       "        [107. ],\n",
       "        [104. ],\n",
       "        [121. ],\n",
       "        [199. ],\n",
       "        [360. ],\n",
       "        [307. ],\n",
       "        [318. ],\n",
       "        [304. ],\n",
       "        [ 97. ],\n",
       "        [140. ],\n",
       "        [113. ],\n",
       "        [ 98. ],\n",
       "        [232. ],\n",
       "        [225. ],\n",
       "        [250. ],\n",
       "        [250. ],\n",
       "        [232. ],\n",
       "        [350. ],\n",
       "        [400. ],\n",
       "        [351. ],\n",
       "        [318. ],\n",
       "        [383. ],\n",
       "        [400. ],\n",
       "        [400. ],\n",
       "        [258. ],\n",
       "        [140. ],\n",
       "        [250. ],\n",
       "        [250. ],\n",
       "        [122. ],\n",
       "        [116. ],\n",
       "        [ 79. ],\n",
       "        [ 88. ],\n",
       "        [ 71. ],\n",
       "        [ 72. ],\n",
       "        [ 97. ],\n",
       "        [ 91. ],\n",
       "        [113. ],\n",
       "        [ 97.5],\n",
       "        [ 97. ],\n",
       "        [140. ],\n",
       "        [122. ],\n",
       "        [350. ],\n",
       "        [400. ],\n",
       "        [318. ],\n",
       "        [351. ],\n",
       "        [304. ],\n",
       "        [429. ],\n",
       "        [350. ],\n",
       "        [350. ],\n",
       "        [400. ],\n",
       "        [ 70. ],\n",
       "        [304. ],\n",
       "        [307. ],\n",
       "        [302. ],\n",
       "        [318. ],\n",
       "        [121. ],\n",
       "        [121. ],\n",
       "        [120. ],\n",
       "        [ 96. ],\n",
       "        [122. ],\n",
       "        [ 97. ],\n",
       "        [120. ],\n",
       "        [ 98. ],\n",
       "        [ 97. ],\n",
       "        [350. ],\n",
       "        [304. ],\n",
       "        [350. ],\n",
       "        [302. ],\n",
       "        [318. ],\n",
       "        [429. ],\n",
       "        [400. ],\n",
       "        [351. ],\n",
       "        [318. ],\n",
       "        [440. ],\n",
       "        [455. ],\n",
       "        [360. ],\n",
       "        [225. ],\n",
       "        [250. ],\n",
       "        [232. ],\n",
       "        [250. ],\n",
       "        [198. ],\n",
       "        [ 97. ],\n",
       "        [400. ],\n",
       "        [400. ],\n",
       "        [360. ],\n",
       "        [350. ],\n",
       "        [232. ],\n",
       "        [ 97. ],\n",
       "        [140. ],\n",
       "        [108. ],\n",
       "        [ 70. ],\n",
       "        [122. ],\n",
       "        [155. ],\n",
       "        [ 98. ],\n",
       "        [350. ],\n",
       "        [400. ],\n",
       "        [ 68. ],\n",
       "        [116. ],\n",
       "        [114. ],\n",
       "        [121. ],\n",
       "        [318. ],\n",
       "        [121. ],\n",
       "        [156. ],\n",
       "        [350. ],\n",
       "        [198. ],\n",
       "        [200. ],\n",
       "        [232. ],\n",
       "        [250. ],\n",
       "        [ 79. ],\n",
       "        [122. ],\n",
       "        [ 71. ],\n",
       "        [140. ],\n",
       "        [250. ],\n",
       "        [258. ],\n",
       "        [225. ],\n",
       "        [302. ],\n",
       "        [350. ],\n",
       "        [318. ],\n",
       "        [302. ],\n",
       "        [304. ],\n",
       "        [ 98. ],\n",
       "        [ 79. ],\n",
       "        [ 97. ],\n",
       "        [ 76. ],\n",
       "        [ 83. ],\n",
       "        [ 90. ],\n",
       "        [ 90. ],\n",
       "        [116. ],\n",
       "        [120. ],\n",
       "        [108. ],\n",
       "        [ 79. ],\n",
       "        [225. ],\n",
       "        [250. ],\n",
       "        [250. ],\n",
       "        [250. ],\n",
       "        [400. ],\n",
       "        [350. ],\n",
       "        [318. ],\n",
       "        [351. ],\n",
       "        [231. ],\n",
       "        [250. ],\n",
       "        [258. ],\n",
       "        [225. ],\n",
       "        [231. ],\n",
       "        [262. ],\n",
       "        [302. ],\n",
       "        [ 97. ],\n",
       "        [140. ],\n",
       "        [232. ],\n",
       "        [140. ],\n",
       "        [134. ],\n",
       "        [ 90. ],\n",
       "        [119. ],\n",
       "        [171. ],\n",
       "        [ 90. ],\n",
       "        [232. ],\n",
       "        [115. ],\n",
       "        [120. ],\n",
       "        [121. ],\n",
       "        [121. ],\n",
       "        [ 91. ],\n",
       "        [107. ],\n",
       "        [116. ],\n",
       "        [140. ],\n",
       "        [ 98. ],\n",
       "        [101. ],\n",
       "        [305. ],\n",
       "        [318. ],\n",
       "        [304. ],\n",
       "        [351. ],\n",
       "        [225. ],\n",
       "        [250. ],\n",
       "        [200. ],\n",
       "        [232. ],\n",
       "        [ 85. ],\n",
       "        [ 98. ],\n",
       "        [ 90. ],\n",
       "        [ 91. ],\n",
       "        [225. ],\n",
       "        [250. ],\n",
       "        [250. ],\n",
       "        [258. ],\n",
       "        [ 97. ],\n",
       "        [ 85. ],\n",
       "        [ 97. ],\n",
       "        [140. ],\n",
       "        [130. ],\n",
       "        [318. ],\n",
       "        [120. ],\n",
       "        [156. ],\n",
       "        [168. ],\n",
       "        [350. ],\n",
       "        [350. ],\n",
       "        [302. ],\n",
       "        [318. ],\n",
       "        [ 98. ],\n",
       "        [111. ],\n",
       "        [ 79. ],\n",
       "        [122. ],\n",
       "        [ 85. ],\n",
       "        [305. ],\n",
       "        [260. ],\n",
       "        [318. ],\n",
       "        [302. ],\n",
       "        [250. ],\n",
       "        [231. ],\n",
       "        [225. ],\n",
       "        [250. ],\n",
       "        [400. ],\n",
       "        [350. ],\n",
       "        [400. ],\n",
       "        [351. ],\n",
       "        [ 97. ],\n",
       "        [151. ],\n",
       "        [ 97. ],\n",
       "        [140. ],\n",
       "        [ 98. ],\n",
       "        [ 98. ],\n",
       "        [ 97. ],\n",
       "        [ 97. ],\n",
       "        [146. ],\n",
       "        [121. ],\n",
       "        [ 80. ],\n",
       "        [ 90. ],\n",
       "        [ 98. ],\n",
       "        [ 78. ],\n",
       "        [ 85. ],\n",
       "        [ 91. ],\n",
       "        [260. ],\n",
       "        [318. ],\n",
       "        [302. ],\n",
       "        [231. ],\n",
       "        [200. ],\n",
       "        [200. ],\n",
       "        [140. ],\n",
       "        [225. ],\n",
       "        [232. ],\n",
       "        [231. ],\n",
       "        [200. ],\n",
       "        [225. ],\n",
       "        [258. ],\n",
       "        [305. ],\n",
       "        [231. ],\n",
       "        [302. ],\n",
       "        [318. ],\n",
       "        [ 98. ],\n",
       "        [134. ],\n",
       "        [119. ],\n",
       "        [105. ],\n",
       "        [134. ],\n",
       "        [156. ],\n",
       "        [151. ],\n",
       "        [119. ],\n",
       "        [131. ],\n",
       "        [163. ],\n",
       "        [121. ],\n",
       "        [163. ],\n",
       "        [ 89. ],\n",
       "        [ 98. ],\n",
       "        [231. ],\n",
       "        [200. ],\n",
       "        [140. ],\n",
       "        [232. ],\n",
       "        [225. ],\n",
       "        [305. ],\n",
       "        [302. ],\n",
       "        [351. ],\n",
       "        [318. ],\n",
       "        [350. ],\n",
       "        [351. ],\n",
       "        [267. ],\n",
       "        [360. ],\n",
       "        [ 89. ],\n",
       "        [ 86. ],\n",
       "        [ 98. ],\n",
       "        [121. ],\n",
       "        [183. ],\n",
       "        [350. ],\n",
       "        [141. ],\n",
       "        [260. ],\n",
       "        [105. ],\n",
       "        [105. ],\n",
       "        [ 85. ],\n",
       "        [ 91. ],\n",
       "        [151. ],\n",
       "        [173. ],\n",
       "        [173. ],\n",
       "        [151. ],\n",
       "        [ 98. ],\n",
       "        [ 89. ],\n",
       "        [ 98. ],\n",
       "        [ 86. ],\n",
       "        [151. ],\n",
       "        [140. ],\n",
       "        [151. ],\n",
       "        [225. ],\n",
       "        [ 97. ],\n",
       "        [134. ],\n",
       "        [120. ],\n",
       "        [119. ],\n",
       "        [108. ],\n",
       "        [ 86. ],\n",
       "        [156. ],\n",
       "        [ 85. ],\n",
       "        [ 90. ],\n",
       "        [ 90. ],\n",
       "        [121. ],\n",
       "        [146. ],\n",
       "        [ 91. ],\n",
       "        [ 85. ],\n",
       "        [ 97. ],\n",
       "        [ 89. ],\n",
       "        [168. ],\n",
       "        [ 70. ],\n",
       "        [122. ],\n",
       "        [140. ],\n",
       "        [107. ],\n",
       "        [135. ],\n",
       "        [151. ],\n",
       "        [156. ],\n",
       "        [173. ],\n",
       "        [135. ],\n",
       "        [ 79. ],\n",
       "        [ 86. ],\n",
       "        [ 81. ],\n",
       "        [ 97. ],\n",
       "        [ 85. ],\n",
       "        [ 89. ],\n",
       "        [ 91. ],\n",
       "        [105. ],\n",
       "        [ 98. ],\n",
       "        [ 98. ],\n",
       "        [105. ],\n",
       "        [100. ],\n",
       "        [107. ],\n",
       "        [108. ],\n",
       "        [119. ],\n",
       "        [120. ],\n",
       "        [141. ],\n",
       "        [145. ],\n",
       "        [168. ],\n",
       "        [146. ],\n",
       "        [231. ],\n",
       "        [350. ],\n",
       "        [200. ],\n",
       "        [225. ],\n",
       "        [112. ],\n",
       "        [112. ],\n",
       "        [112. ],\n",
       "        [112. ],\n",
       "        [135. ],\n",
       "        [151. ],\n",
       "        [140. ],\n",
       "        [151. ],\n",
       "        [105. ],\n",
       "        [ 91. ],\n",
       "        [ 91. ],\n",
       "        [105. ],\n",
       "        [ 98. ],\n",
       "        [120. ],\n",
       "        [107. ],\n",
       "        [108. ],\n",
       "        [ 91. ],\n",
       "        [ 91. ],\n",
       "        [ 91. ],\n",
       "        [181. ],\n",
       "        [262. ],\n",
       "        [156. ],\n",
       "        [232. ],\n",
       "        [144. ],\n",
       "        [135. ],\n",
       "        [151. ],\n",
       "        [140. ],\n",
       "        [ 97. ],\n",
       "        [135. ],\n",
       "        [120. ],\n",
       "        [119. ]]),\n",
       " 'n_samples_fit_': 398,\n",
       " '_tree': <sklearn.neighbors._kd_tree.KDTree at 0x27b7a224d50>}"
      ]
     },
     "execution_count": 214,
     "metadata": {},
     "output_type": "execute_result"
    }
   ],
   "source": [
    "model_k.__dict__"
   ]
  },
  {
   "cell_type": "code",
   "execution_count": 215,
   "metadata": {},
   "outputs": [
    {
     "data": {
      "text/plain": [
       "0.7394345734170714"
      ]
     },
     "execution_count": 215,
     "metadata": {},
     "output_type": "execute_result"
    }
   ],
   "source": [
    "model_k.score(X=targert ,y=features)"
   ]
  },
  {
   "cell_type": "markdown",
   "metadata": {
    "tags": []
   },
   "source": [
    "## `GradientBoostingRegressor()` in Python"
   ]
  },
  {
   "cell_type": "markdown",
   "metadata": {},
   "source": [
    "### Fit the Model"
   ]
  },
  {
   "cell_type": "code",
   "execution_count": 216,
   "metadata": {},
   "outputs": [],
   "source": [
    "from sklearn.ensemble import GradientBoostingRegressor"
   ]
  },
  {
   "cell_type": "code",
   "execution_count": 217,
   "metadata": {},
   "outputs": [],
   "source": [
    "model_g =GradientBoostingRegressor()"
   ]
  },
  {
   "cell_type": "code",
   "execution_count": 218,
   "metadata": {},
   "outputs": [
    {
     "data": {
      "text/html": [
       "<style>#sk-container-id-14 {color: black;background-color: white;}#sk-container-id-14 pre{padding: 0;}#sk-container-id-14 div.sk-toggleable {background-color: white;}#sk-container-id-14 label.sk-toggleable__label {cursor: pointer;display: block;width: 100%;margin-bottom: 0;padding: 0.3em;box-sizing: border-box;text-align: center;}#sk-container-id-14 label.sk-toggleable__label-arrow:before {content: \"▸\";float: left;margin-right: 0.25em;color: #696969;}#sk-container-id-14 label.sk-toggleable__label-arrow:hover:before {color: black;}#sk-container-id-14 div.sk-estimator:hover label.sk-toggleable__label-arrow:before {color: black;}#sk-container-id-14 div.sk-toggleable__content {max-height: 0;max-width: 0;overflow: hidden;text-align: left;background-color: #f0f8ff;}#sk-container-id-14 div.sk-toggleable__content pre {margin: 0.2em;color: black;border-radius: 0.25em;background-color: #f0f8ff;}#sk-container-id-14 input.sk-toggleable__control:checked~div.sk-toggleable__content {max-height: 200px;max-width: 100%;overflow: auto;}#sk-container-id-14 input.sk-toggleable__control:checked~label.sk-toggleable__label-arrow:before {content: \"▾\";}#sk-container-id-14 div.sk-estimator input.sk-toggleable__control:checked~label.sk-toggleable__label {background-color: #d4ebff;}#sk-container-id-14 div.sk-label input.sk-toggleable__control:checked~label.sk-toggleable__label {background-color: #d4ebff;}#sk-container-id-14 input.sk-hidden--visually {border: 0;clip: rect(1px 1px 1px 1px);clip: rect(1px, 1px, 1px, 1px);height: 1px;margin: -1px;overflow: hidden;padding: 0;position: absolute;width: 1px;}#sk-container-id-14 div.sk-estimator {font-family: monospace;background-color: #f0f8ff;border: 1px dotted black;border-radius: 0.25em;box-sizing: border-box;margin-bottom: 0.5em;}#sk-container-id-14 div.sk-estimator:hover {background-color: #d4ebff;}#sk-container-id-14 div.sk-parallel-item::after {content: \"\";width: 100%;border-bottom: 1px solid gray;flex-grow: 1;}#sk-container-id-14 div.sk-label:hover label.sk-toggleable__label {background-color: #d4ebff;}#sk-container-id-14 div.sk-serial::before {content: \"\";position: absolute;border-left: 1px solid gray;box-sizing: border-box;top: 0;bottom: 0;left: 50%;z-index: 0;}#sk-container-id-14 div.sk-serial {display: flex;flex-direction: column;align-items: center;background-color: white;padding-right: 0.2em;padding-left: 0.2em;position: relative;}#sk-container-id-14 div.sk-item {position: relative;z-index: 1;}#sk-container-id-14 div.sk-parallel {display: flex;align-items: stretch;justify-content: center;background-color: white;position: relative;}#sk-container-id-14 div.sk-item::before, #sk-container-id-14 div.sk-parallel-item::before {content: \"\";position: absolute;border-left: 1px solid gray;box-sizing: border-box;top: 0;bottom: 0;left: 50%;z-index: -1;}#sk-container-id-14 div.sk-parallel-item {display: flex;flex-direction: column;z-index: 1;position: relative;background-color: white;}#sk-container-id-14 div.sk-parallel-item:first-child::after {align-self: flex-end;width: 50%;}#sk-container-id-14 div.sk-parallel-item:last-child::after {align-self: flex-start;width: 50%;}#sk-container-id-14 div.sk-parallel-item:only-child::after {width: 0;}#sk-container-id-14 div.sk-dashed-wrapped {border: 1px dashed gray;margin: 0 0.4em 0.5em 0.4em;box-sizing: border-box;padding-bottom: 0.4em;background-color: white;}#sk-container-id-14 div.sk-label label {font-family: monospace;font-weight: bold;display: inline-block;line-height: 1.2em;}#sk-container-id-14 div.sk-label-container {text-align: center;}#sk-container-id-14 div.sk-container {/* jupyter's `normalize.less` sets `[hidden] { display: none; }` but bootstrap.min.css set `[hidden] { display: none !important; }` so we also need the `!important` here to be able to override the default hidden behavior on the sphinx rendered scikit-learn.org. See: https://github.com/scikit-learn/scikit-learn/issues/21755 */display: inline-block !important;position: relative;}#sk-container-id-14 div.sk-text-repr-fallback {display: none;}</style><div id=\"sk-container-id-14\" class=\"sk-top-container\"><div class=\"sk-text-repr-fallback\"><pre>GradientBoostingRegressor()</pre><b>In a Jupyter environment, please rerun this cell to show the HTML representation or trust the notebook. <br />On GitHub, the HTML representation is unable to render, please try loading this page with nbviewer.org.</b></div><div class=\"sk-container\" hidden><div class=\"sk-item\"><div class=\"sk-estimator sk-toggleable\"><input class=\"sk-toggleable__control sk-hidden--visually\" id=\"sk-estimator-id-14\" type=\"checkbox\" checked><label for=\"sk-estimator-id-14\" class=\"sk-toggleable__label sk-toggleable__label-arrow\">GradientBoostingRegressor</label><div class=\"sk-toggleable__content\"><pre>GradientBoostingRegressor()</pre></div></div></div></div></div>"
      ],
      "text/plain": [
       "GradientBoostingRegressor()"
      ]
     },
     "execution_count": 218,
     "metadata": {},
     "output_type": "execute_result"
    }
   ],
   "source": [
    "model_g.fit(X=targert, y=features)"
   ]
  },
  {
   "cell_type": "code",
   "execution_count": 219,
   "metadata": {},
   "outputs": [
    {
     "data": {
      "text/plain": [
       "array([14.50925631, 15.01267526, 15.10351786, 15.08794253, 15.56166226,\n",
       "       13.24806003, 13.57981003, 13.57981003, 13.4894767 , 14.1981935 ,\n",
       "       13.89492484, 14.9163052 , 13.98058499, 13.4894767 , 24.91461659,\n",
       "       21.63022724, 20.65989371, 20.65989371, 28.86540358, 28.86540358,\n",
       "       28.837227  , 30.75898434, 29.23840129, 24.45004428, 20.65989371,\n",
       "       13.91867484, 14.50925631, 15.10351786, 15.08794253, 28.86540358,\n",
       "       24.70774324, 24.91461659, 30.8865841 , 19.42546711, 19.42546711,\n",
       "       17.72523066, 17.72523066, 19.42546711, 15.01267526, 13.98058499,\n",
       "       14.72993944, 15.10351786, 13.89492484, 13.98058499, 13.98058499,\n",
       "       17.58399183, 24.70774324, 17.72523066, 17.72523066, 24.45004428,\n",
       "       25.81585276, 32.12280612, 31.05497121, 31.68633117, 32.98372421,\n",
       "       28.86540358, 34.68738631, 24.91461659, 26.2293542 , 28.86540358,\n",
       "       24.70774324, 24.45004428, 15.01267526, 13.98058499, 15.10351786,\n",
       "       14.72993944, 15.08794253, 13.24806003, 15.01267526, 15.01267526,\n",
       "       13.98058499, 20.88702779, 15.08794253, 14.50925631, 15.56166226,\n",
       "       15.10351786, 24.45004428, 24.45004428, 26.26893154, 27.19626767,\n",
       "       24.45004428, 28.86540358, 26.26893154, 30.8865841 , 28.86540358,\n",
       "       15.01267526, 15.08794253, 15.01267526, 15.56166226, 15.10351786,\n",
       "       13.24806003, 13.98058499, 14.72993944, 15.10351786, 13.57981003,\n",
       "       13.4894767 , 13.91867484, 19.42546711, 17.72523066, 19.42546711,\n",
       "       17.72523066, 21.63022724, 28.86540358, 13.98058499, 13.98058499,\n",
       "       13.91867484, 15.01267526, 19.42546711, 28.86540358, 24.70774324,\n",
       "       29.28642957, 20.88702779, 24.45004428, 23.10343857, 30.8865841 ,\n",
       "       15.01267526, 13.98058499, 28.29559298, 25.81585276, 24.52510806,\n",
       "       24.45004428, 15.10351786, 24.45004428, 23.28278423, 15.01267526,\n",
       "       21.63022724, 20.65989371, 19.42546711, 17.72523066, 32.12280612,\n",
       "       24.45004428, 31.68633117, 24.70774324, 17.72523066, 17.58399183,\n",
       "       19.42546711, 15.56166226, 15.01267526, 15.10351786, 15.56166226,\n",
       "       15.08794253, 30.8865841 , 32.12280612, 28.86540358, 32.0070656 ,\n",
       "       33.56515577, 33.59628829, 33.59628829, 25.81585276, 26.26893154,\n",
       "       29.28642957, 32.12280612, 19.42546711, 17.72523066, 17.72523066,\n",
       "       17.72523066, 13.98058499, 15.01267526, 15.10351786, 14.72993944,\n",
       "       19.42546711, 17.72523066, 17.58399183, 19.42546711, 19.42546711,\n",
       "       26.35174433, 15.56166226, 28.86540358, 24.70774324, 19.42546711,\n",
       "       24.70774324, 25.83740212, 33.59628829, 27.73311562, 22.75787869,\n",
       "       33.59628829, 19.42546711, 24.52510806, 26.26893154, 24.45004428,\n",
       "       24.45004428, 34.68738631, 30.75898434, 25.81585276, 24.70774324,\n",
       "       30.8865841 , 29.23840129, 16.48344753, 15.10351786, 15.08794253,\n",
       "       14.72993944, 19.42546711, 17.72523066, 20.65989371, 19.42546711,\n",
       "       35.54273068, 30.8865841 , 33.59628829, 34.68738631, 19.42546711,\n",
       "       17.72523066, 17.72523066, 17.58399183, 28.86540358, 35.54273068,\n",
       "       28.86540358, 24.70774324, 22.5588736 , 15.10351786, 26.26893154,\n",
       "       23.28278423, 23.87574232, 15.01267526, 15.01267526, 15.56166226,\n",
       "       15.10351786, 30.8865841 , 29.03097825, 32.12280612, 24.45004428,\n",
       "       35.54273068, 16.48344753, 19.5167637 , 15.10351786, 15.56166226,\n",
       "       17.72523066, 19.42546711, 19.42546711, 17.72523066, 13.98058499,\n",
       "       15.01267526, 13.98058499, 14.72993944, 28.86540358, 26.07520105,\n",
       "       28.86540358, 24.70774324, 30.8865841 , 30.8865841 , 28.86540358,\n",
       "       28.86540358, 26.07520105, 24.45004428, 24.45408255, 33.59628829,\n",
       "       30.8865841 , 32.12280612, 35.54273068, 34.68738631, 19.5167637 ,\n",
       "       15.10351786, 15.56166226, 19.42546711, 20.65989371, 20.65989371,\n",
       "       24.70774324, 19.42546711, 19.42546711, 19.42546711, 20.65989371,\n",
       "       19.42546711, 17.58399183, 16.48344753, 19.42546711, 15.56166226,\n",
       "       15.10351786, 30.8865841 , 25.83740212, 27.73311562, 33.3868071 ,\n",
       "       25.83740212, 23.28278423, 26.07520105, 27.73311562, 22.5588736 ,\n",
       "       19.29448691, 24.45004428, 19.29448691, 33.77164425, 30.8865841 ,\n",
       "       19.42546711, 20.65989371, 24.70774324, 19.42546711, 19.42546711,\n",
       "       16.48344753, 15.56166226, 14.72993944, 15.10351786, 15.01267526,\n",
       "       14.72993944, 19.37992586, 13.91867484, 33.77164425, 38.6365838 ,\n",
       "       30.8865841 , 24.45004428, 24.48821367, 15.01267526, 27.40099215,\n",
       "       19.5167637 , 33.3868071 , 33.3868071 , 35.54273068, 34.68738631,\n",
       "       26.07520105, 24.48821367, 24.48821367, 26.07520105, 30.8865841 ,\n",
       "       33.77164425, 30.8865841 , 38.6365838 , 26.07520105, 24.70774324,\n",
       "       26.07520105, 19.42546711, 28.86540358, 25.83740212, 26.26893154,\n",
       "       27.73311562, 29.28642957, 38.6365838 , 23.28278423, 35.54273068,\n",
       "       33.59628829, 33.59628829, 24.45004428, 26.07520105, 34.68738631,\n",
       "       35.54273068, 28.86540358, 33.77164425, 23.87574232, 20.88702779,\n",
       "       24.45004428, 24.70774324, 30.75898434, 28.68367212, 26.07520105,\n",
       "       23.28278423, 24.48821367, 28.68367212, 32.12280612, 38.6365838 ,\n",
       "       33.56515577, 28.86540358, 35.54273068, 33.77164425, 34.68738631,\n",
       "       33.3868071 , 30.8865841 , 30.8865841 , 33.3868071 , 31.53891743,\n",
       "       30.75898434, 29.28642957, 27.73311562, 26.26893154, 27.40099215,\n",
       "       28.59237054, 23.87574232, 26.07520105, 19.42546711, 15.01267526,\n",
       "       20.65989371, 19.42546711, 29.03097825, 29.03097825, 29.03097825,\n",
       "       29.03097825, 28.68367212, 26.07520105, 24.70774324, 26.07520105,\n",
       "       33.3868071 , 34.68738631, 34.68738631, 33.3868071 , 30.8865841 ,\n",
       "       26.26893154, 30.75898434, 29.28642957, 34.68738631, 34.68738631,\n",
       "       34.68738631, 24.48821367, 26.35174433, 23.28278423, 19.42546711,\n",
       "       28.59237054, 28.68367212, 26.07520105, 24.70774324, 28.86540358,\n",
       "       28.68367212, 26.26893154, 27.73311562])"
      ]
     },
     "execution_count": 219,
     "metadata": {},
     "output_type": "execute_result"
    }
   ],
   "source": [
    "model_g.predict(X=targert)"
   ]
  },
  {
   "cell_type": "code",
   "execution_count": 220,
   "metadata": {},
   "outputs": [],
   "source": [
    "predict3 = model_g.predict(X=targert)"
   ]
  },
  {
   "cell_type": "code",
   "execution_count": 221,
   "metadata": {},
   "outputs": [
    {
     "data": {
      "text/html": [
       "<div>\n",
       "<style scoped>\n",
       "    .dataframe tbody tr th:only-of-type {\n",
       "        vertical-align: middle;\n",
       "    }\n",
       "\n",
       "    .dataframe tbody tr th {\n",
       "        vertical-align: top;\n",
       "    }\n",
       "\n",
       "    .dataframe thead th {\n",
       "        text-align: right;\n",
       "    }\n",
       "</style>\n",
       "<table border=\"1\" class=\"dataframe\">\n",
       "  <thead>\n",
       "    <tr style=\"text-align: right;\">\n",
       "      <th></th>\n",
       "      <th>mpg</th>\n",
       "      <th>cylinders</th>\n",
       "      <th>displacement</th>\n",
       "      <th>horsepower</th>\n",
       "      <th>weight</th>\n",
       "      <th>acceleration</th>\n",
       "      <th>model_year</th>\n",
       "      <th>origin</th>\n",
       "      <th>name</th>\n",
       "      <th>predict</th>\n",
       "      <th>predict2</th>\n",
       "      <th>predict3</th>\n",
       "    </tr>\n",
       "  </thead>\n",
       "  <tbody>\n",
       "    <tr>\n",
       "      <th>0</th>\n",
       "      <td>18.0</td>\n",
       "      <td>8</td>\n",
       "      <td>307.0</td>\n",
       "      <td>130.0</td>\n",
       "      <td>3504</td>\n",
       "      <td>12.0</td>\n",
       "      <td>70</td>\n",
       "      <td>usa</td>\n",
       "      <td>chevrolet chevelle malibu</td>\n",
       "      <td>16.668052</td>\n",
       "      <td>15.325</td>\n",
       "      <td>14.509256</td>\n",
       "    </tr>\n",
       "    <tr>\n",
       "      <th>1</th>\n",
       "      <td>15.0</td>\n",
       "      <td>8</td>\n",
       "      <td>350.0</td>\n",
       "      <td>165.0</td>\n",
       "      <td>3693</td>\n",
       "      <td>11.5</td>\n",
       "      <td>70</td>\n",
       "      <td>usa</td>\n",
       "      <td>buick skylark 320</td>\n",
       "      <td>14.075908</td>\n",
       "      <td>14.925</td>\n",
       "      <td>15.012675</td>\n",
       "    </tr>\n",
       "    <tr>\n",
       "      <th>2</th>\n",
       "      <td>18.0</td>\n",
       "      <td>8</td>\n",
       "      <td>318.0</td>\n",
       "      <td>150.0</td>\n",
       "      <td>3436</td>\n",
       "      <td>11.0</td>\n",
       "      <td>70</td>\n",
       "      <td>usa</td>\n",
       "      <td>plymouth satellite</td>\n",
       "      <td>16.004945</td>\n",
       "      <td>14.980</td>\n",
       "      <td>15.103518</td>\n",
       "    </tr>\n",
       "    <tr>\n",
       "      <th>3</th>\n",
       "      <td>16.0</td>\n",
       "      <td>8</td>\n",
       "      <td>304.0</td>\n",
       "      <td>150.0</td>\n",
       "      <td>3433</td>\n",
       "      <td>12.0</td>\n",
       "      <td>70</td>\n",
       "      <td>usa</td>\n",
       "      <td>amc rebel sst</td>\n",
       "      <td>16.848899</td>\n",
       "      <td>15.475</td>\n",
       "      <td>15.087943</td>\n",
       "    </tr>\n",
       "    <tr>\n",
       "      <th>4</th>\n",
       "      <td>17.0</td>\n",
       "      <td>8</td>\n",
       "      <td>302.0</td>\n",
       "      <td>140.0</td>\n",
       "      <td>3449</td>\n",
       "      <td>10.5</td>\n",
       "      <td>70</td>\n",
       "      <td>usa</td>\n",
       "      <td>ford torino</td>\n",
       "      <td>16.969464</td>\n",
       "      <td>15.320</td>\n",
       "      <td>15.561662</td>\n",
       "    </tr>\n",
       "    <tr>\n",
       "      <th>...</th>\n",
       "      <td>...</td>\n",
       "      <td>...</td>\n",
       "      <td>...</td>\n",
       "      <td>...</td>\n",
       "      <td>...</td>\n",
       "      <td>...</td>\n",
       "      <td>...</td>\n",
       "      <td>...</td>\n",
       "      <td>...</td>\n",
       "      <td>...</td>\n",
       "      <td>...</td>\n",
       "      <td>...</td>\n",
       "    </tr>\n",
       "    <tr>\n",
       "      <th>393</th>\n",
       "      <td>27.0</td>\n",
       "      <td>4</td>\n",
       "      <td>140.0</td>\n",
       "      <td>86.0</td>\n",
       "      <td>2790</td>\n",
       "      <td>15.6</td>\n",
       "      <td>82</td>\n",
       "      <td>usa</td>\n",
       "      <td>ford mustang gl</td>\n",
       "      <td>26.735213</td>\n",
       "      <td>25.095</td>\n",
       "      <td>24.707743</td>\n",
       "    </tr>\n",
       "    <tr>\n",
       "      <th>394</th>\n",
       "      <td>44.0</td>\n",
       "      <td>4</td>\n",
       "      <td>97.0</td>\n",
       "      <td>52.0</td>\n",
       "      <td>2130</td>\n",
       "      <td>24.6</td>\n",
       "      <td>82</td>\n",
       "      <td>europe</td>\n",
       "      <td>vw pickup</td>\n",
       "      <td>29.327357</td>\n",
       "      <td>27.970</td>\n",
       "      <td>28.865404</td>\n",
       "    </tr>\n",
       "    <tr>\n",
       "      <th>395</th>\n",
       "      <td>32.0</td>\n",
       "      <td>4</td>\n",
       "      <td>135.0</td>\n",
       "      <td>84.0</td>\n",
       "      <td>2295</td>\n",
       "      <td>11.6</td>\n",
       "      <td>82</td>\n",
       "      <td>usa</td>\n",
       "      <td>dodge rampage</td>\n",
       "      <td>27.036625</td>\n",
       "      <td>25.520</td>\n",
       "      <td>28.683672</td>\n",
       "    </tr>\n",
       "    <tr>\n",
       "      <th>396</th>\n",
       "      <td>28.0</td>\n",
       "      <td>4</td>\n",
       "      <td>120.0</td>\n",
       "      <td>79.0</td>\n",
       "      <td>2625</td>\n",
       "      <td>18.6</td>\n",
       "      <td>82</td>\n",
       "      <td>usa</td>\n",
       "      <td>ford ranger</td>\n",
       "      <td>27.940861</td>\n",
       "      <td>26.095</td>\n",
       "      <td>26.268932</td>\n",
       "    </tr>\n",
       "    <tr>\n",
       "      <th>397</th>\n",
       "      <td>31.0</td>\n",
       "      <td>4</td>\n",
       "      <td>119.0</td>\n",
       "      <td>82.0</td>\n",
       "      <td>2720</td>\n",
       "      <td>19.4</td>\n",
       "      <td>82</td>\n",
       "      <td>usa</td>\n",
       "      <td>chevy s-10</td>\n",
       "      <td>28.001144</td>\n",
       "      <td>26.095</td>\n",
       "      <td>27.733116</td>\n",
       "    </tr>\n",
       "  </tbody>\n",
       "</table>\n",
       "<p>398 rows × 12 columns</p>\n",
       "</div>"
      ],
      "text/plain": [
       "      mpg  cylinders  displacement  horsepower  weight  acceleration  \\\n",
       "0    18.0          8         307.0       130.0    3504          12.0   \n",
       "1    15.0          8         350.0       165.0    3693          11.5   \n",
       "2    18.0          8         318.0       150.0    3436          11.0   \n",
       "3    16.0          8         304.0       150.0    3433          12.0   \n",
       "4    17.0          8         302.0       140.0    3449          10.5   \n",
       "..    ...        ...           ...         ...     ...           ...   \n",
       "393  27.0          4         140.0        86.0    2790          15.6   \n",
       "394  44.0          4          97.0        52.0    2130          24.6   \n",
       "395  32.0          4         135.0        84.0    2295          11.6   \n",
       "396  28.0          4         120.0        79.0    2625          18.6   \n",
       "397  31.0          4         119.0        82.0    2720          19.4   \n",
       "\n",
       "     model_year  origin                       name    predict  predict2  \\\n",
       "0            70     usa  chevrolet chevelle malibu  16.668052    15.325   \n",
       "1            70     usa          buick skylark 320  14.075908    14.925   \n",
       "2            70     usa         plymouth satellite  16.004945    14.980   \n",
       "3            70     usa              amc rebel sst  16.848899    15.475   \n",
       "4            70     usa                ford torino  16.969464    15.320   \n",
       "..          ...     ...                        ...        ...       ...   \n",
       "393          82     usa            ford mustang gl  26.735213    25.095   \n",
       "394          82  europe                  vw pickup  29.327357    27.970   \n",
       "395          82     usa              dodge rampage  27.036625    25.520   \n",
       "396          82     usa                ford ranger  27.940861    26.095   \n",
       "397          82     usa                 chevy s-10  28.001144    26.095   \n",
       "\n",
       "      predict3  \n",
       "0    14.509256  \n",
       "1    15.012675  \n",
       "2    15.103518  \n",
       "3    15.087943  \n",
       "4    15.561662  \n",
       "..         ...  \n",
       "393  24.707743  \n",
       "394  28.865404  \n",
       "395  28.683672  \n",
       "396  26.268932  \n",
       "397  27.733116  \n",
       "\n",
       "[398 rows x 12 columns]"
      ]
     },
     "execution_count": 221,
     "metadata": {},
     "output_type": "execute_result"
    }
   ],
   "source": [
    "df['predict3']= model_g.predict(X=targert)\n",
    "df"
   ]
  },
  {
   "cell_type": "markdown",
   "metadata": {},
   "source": [
    "## visualize the model"
   ]
  },
  {
   "cell_type": "code",
   "execution_count": 222,
   "metadata": {},
   "outputs": [
    {
     "data": {
      "text/plain": [
       "<AxesSubplot:xlabel='displacement', ylabel='mpg'>"
      ]
     },
     "execution_count": 222,
     "metadata": {},
     "output_type": "execute_result"
    },
    {
     "data": {
      "image/png": "[encoded data removed]",
      "text/plain": [
       "<Figure size 640x480 with 1 Axes>"
      ]
     },
     "metadata": {},
     "output_type": "display_data"
    }
   ],
   "source": [
    "sns.scatterplot(x='displacement',y='mpg',data=df)\n",
    "sns.scatterplot(x='displacement',y ='predict3',data=df)\n",
    "sns.lineplot(x='displacement',y='predict3',data=df, color ='red')"
   ]
  },
  {
   "cell_type": "markdown",
   "metadata": {},
   "source": [
    "## model score"
   ]
  },
  {
   "cell_type": "code",
   "execution_count": 223,
   "metadata": {},
   "outputs": [
    {
     "data": {
      "text/plain": [
       "0.8030035967318823"
      ]
     },
     "execution_count": 223,
     "metadata": {},
     "output_type": "execute_result"
    }
   ],
   "source": [
    "model_g.score(X=targert ,y=features)"
   ]
  },
  {
   "cell_type": "markdown",
   "metadata": {},
   "source": [
    "### Calculate Predictions"
   ]
  },
  {
   "cell_type": "code",
   "execution_count": null,
   "metadata": {},
   "outputs": [],
   "source": []
  },
  {
   "cell_type": "markdown",
   "metadata": {},
   "source": [
    "### Model's Score"
   ]
  },
  {
   "cell_type": "code",
   "execution_count": 224,
   "metadata": {},
   "outputs": [],
   "source": [
    "import pandas as pd \n"
   ]
  },
  {
   "cell_type": "code",
   "execution_count": 225,
   "metadata": {},
   "outputs": [],
   "source": [
    "df2 = pd.DataFrame()"
   ]
  },
  {
   "cell_type": "code",
   "execution_count": 226,
   "metadata": {},
   "outputs": [],
   "source": [
    "df2 ['models']= [model_g, model_lr,model_lr]"
   ]
  },
  {
   "cell_type": "code",
   "execution_count": 227,
   "metadata": {},
   "outputs": [],
   "source": [
    "df2 ['score']= [model_g.score(X=targert , y=features), model_lr.score(X=targert,y=features), model_k.score(X=targert,y=features)]"
   ]
  },
  {
   "cell_type": "code",
   "execution_count": 228,
   "metadata": {},
   "outputs": [
    {
     "data": {
      "text/html": [
       "<div>\n",
       "<style scoped>\n",
       "    .dataframe tbody tr th:only-of-type {\n",
       "        vertical-align: middle;\n",
       "    }\n",
       "\n",
       "    .dataframe tbody tr th {\n",
       "        vertical-align: top;\n",
       "    }\n",
       "\n",
       "    .dataframe thead th {\n",
       "        text-align: right;\n",
       "    }\n",
       "</style>\n",
       "<table border=\"1\" class=\"dataframe\">\n",
       "  <thead>\n",
       "    <tr style=\"text-align: right;\">\n",
       "      <th></th>\n",
       "      <th>models</th>\n",
       "      <th>score</th>\n",
       "    </tr>\n",
       "  </thead>\n",
       "  <tbody>\n",
       "    <tr>\n",
       "      <th>0</th>\n",
       "      <td>([DecisionTreeRegressor(criterion='friedman_ms...</td>\n",
       "      <td>0.803004</td>\n",
       "    </tr>\n",
       "    <tr>\n",
       "      <th>1</th>\n",
       "      <td>LinearRegression()</td>\n",
       "      <td>0.646742</td>\n",
       "    </tr>\n",
       "    <tr>\n",
       "      <th>2</th>\n",
       "      <td>LinearRegression()</td>\n",
       "      <td>0.739435</td>\n",
       "    </tr>\n",
       "  </tbody>\n",
       "</table>\n",
       "</div>"
      ],
      "text/plain": [
       "                                              models     score\n",
       "0  ([DecisionTreeRegressor(criterion='friedman_ms...  0.803004\n",
       "1                                 LinearRegression()  0.646742\n",
       "2                                 LinearRegression()  0.739435"
      ]
     },
     "execution_count": 228,
     "metadata": {},
     "output_type": "execute_result"
    }
   ],
   "source": [
    "df2"
   ]
  },
  {
   "cell_type": "markdown",
   "metadata": {},
   "source": [
    "## Visualize the 3 Models"
   ]
  },
  {
   "cell_type": "code",
   "execution_count": 229,
   "metadata": {},
   "outputs": [
    {
     "data": {
      "text/plain": [
       "<AxesSubplot:xlabel='displacement', ylabel='mpg'>"
      ]
     },
     "execution_count": 229,
     "metadata": {},
     "output_type": "execute_result"
    },
    {
     "data": {
      "image/png": "[encoded data removed]",
      "text/plain": [
       "<Figure size 640x480 with 1 Axes>"
      ]
     },
     "metadata": {},
     "output_type": "display_data"
    }
   ],
   "source": [
    "sns.scatterplot(x='displacement',y='mpg',data=df)\n",
    "sns.scatterplot(x='displacement',y ='predict',data=df)\n",
    "sns.lineplot(x='displacement',y='predict',data=df, color ='yellow')\n",
    "sns.scatterplot(x='displacement',y='mpg',data=df)\n",
    "sns.scatterplot(x='displacement',y ='predict3',data=df)\n",
    "sns.lineplot(x='displacement',y='predict3',data=df, color ='orange')\n",
    "sns.scatterplot(x='displacement',y='mpg',data=df)\n",
    "sns.scatterplot(x='displacement',y ='predict2',data=df)\n",
    "sns.lineplot(x='displacement',y='predict2',data=df, color ='red')"
   ]
  },
  {
   "cell_type": "markdown",
   "metadata": {},
   "source": [
    "## Which One Is the Best Model? Why?"
   ]
  },
  {
   "cell_type": "markdown",
   "metadata": {},
   "source": [
    "the last model"
   ]
  },
  {
   "cell_type": "markdown",
   "metadata": {},
   "source": [
    "# Achieved Goals"
   ]
  },
  {
   "cell_type": "markdown",
   "metadata": {},
   "source": [
    "<a rel=\"license\" href=\"http://creativecommons.org/licenses/by-nc-nd/4.0/\"><img alt=\"Creative Commons License\" style=\"border-width:0\" src=\"https://i.creativecommons.org/l/by-nc-nd/4.0/88x31.png\" /></a><br />This work is licensed under a <a rel=\"license\" href=\"http://creativecommons.org/licenses/by-nc-nd/4.0/\">Creative Commons Attribution-NonCommercial-NoDerivatives 4.0 International License</a>."
   ]
  }
 ],
 "metadata": {
  "authors": [
   {
    "blog": "https//blog.pythonresolver.com",
    "name": "Jesús López",
    "twitter": "https://twitter.com/jsulopz"
   }
  ],
  "kernelspec": {
   "display_name": "Python 3 (ipykernel)",
   "language": "python",
   "name": "python3"
  },
  "language_info": {
   "codemirror_mode": {
    "name": "ipython",
    "version": 3
   },
   "file_extension": ".py",
   "mimetype": "text/x-python",
   "name": "python",
   "nbconvert_exporter": "python",
   "pygments_lexer": "ipython3",
   "version": "3.9.12"
  },
  "title": "Machine Learning & Linear Regression",
  "toc-autonumbering": true,
  "vscode": {
   "interpreter": {
    "hash": "b0fa6594d8f4cbf19f97940f81e996739fb7646882a419484c72d19e05852a7e"
   }
  }
 },
 "nbformat": 4,
 "nbformat_minor": 4
}
