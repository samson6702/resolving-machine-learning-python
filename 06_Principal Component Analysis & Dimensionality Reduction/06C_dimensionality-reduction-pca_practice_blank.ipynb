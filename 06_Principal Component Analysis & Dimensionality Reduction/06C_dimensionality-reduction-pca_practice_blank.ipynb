{
 "cells": [
  {
   "cell_type": "markdown",
   "metadata": {},
   "source": [
    "![](../src/logo.svg)\n",
    "\n",
    "**© Jesús López**\n",
    "\n",
    "Ask him any doubt on **[Twitter](https://twitter.com/jsulopz)** or **[LinkedIn](https://linkedin.com/in/jsulopz)**"
   ]
  },
  {
   "cell_type": "markdown",
   "metadata": {},
   "source": [
    "<a href=\"https://colab.research.google.com/github/jsulopz/resolving-machine-learning/blob/main/06_Principal%20Component%20Analysis%20%28PCA%29/06_dimensionality-reduction-pca_practice_solution.ipynb\">\n",
    "  <img src=\"https://colab.research.google.com/assets/colab-badge.svg\" alt=\"Open In Colab\"/>\n",
    "</a>"
   ]
  },
  {
   "cell_type": "markdown",
   "metadata": {},
   "source": [
    "# 06 | Principal Component Analysis (PCA)"
   ]
  },
  {
   "cell_type": "markdown",
   "metadata": {},
   "source": [
    "## Load the Data"
   ]
  },
  {
   "cell_type": "markdown",
   "metadata": {},
   "source": [
    "- Simply execute the following lines of code to load the data\n",
    "- This dataset contains **statistics** (columns)\n",
    "- About **Car Models** (rows)"
   ]
  },
  {
   "cell_type": "code",
   "execution_count": 1,
   "metadata": {},
   "outputs": [
    {
     "data": {
      "text/html": [
       "<div>\n",
       "<style scoped>\n",
       "    .dataframe tbody tr th:only-of-type {\n",
       "        vertical-align: middle;\n",
       "    }\n",
       "\n",
       "    .dataframe tbody tr th {\n",
       "        vertical-align: top;\n",
       "    }\n",
       "\n",
       "    .dataframe thead th {\n",
       "        text-align: right;\n",
       "    }\n",
       "</style>\n",
       "<table border=\"1\" class=\"dataframe\">\n",
       "  <thead>\n",
       "    <tr style=\"text-align: right;\">\n",
       "      <th></th>\n",
       "      <th>mpg</th>\n",
       "      <th>cylinders</th>\n",
       "      <th>displacement</th>\n",
       "      <th>horsepower</th>\n",
       "      <th>weight</th>\n",
       "      <th>acceleration</th>\n",
       "      <th>model_year</th>\n",
       "      <th>origin</th>\n",
       "    </tr>\n",
       "    <tr>\n",
       "      <th>name</th>\n",
       "      <th></th>\n",
       "      <th></th>\n",
       "      <th></th>\n",
       "      <th></th>\n",
       "      <th></th>\n",
       "      <th></th>\n",
       "      <th></th>\n",
       "      <th></th>\n",
       "    </tr>\n",
       "  </thead>\n",
       "  <tbody>\n",
       "    <tr>\n",
       "      <th>volkswagen model 111</th>\n",
       "      <td>27.0</td>\n",
       "      <td>4</td>\n",
       "      <td>97.0</td>\n",
       "      <td>60.0</td>\n",
       "      <td>1834</td>\n",
       "      <td>19.0</td>\n",
       "      <td>71</td>\n",
       "      <td>europe</td>\n",
       "    </tr>\n",
       "    <tr>\n",
       "      <th>chevrolet monte carlo</th>\n",
       "      <td>15.0</td>\n",
       "      <td>8</td>\n",
       "      <td>400.0</td>\n",
       "      <td>150.0</td>\n",
       "      <td>3761</td>\n",
       "      <td>9.5</td>\n",
       "      <td>70</td>\n",
       "      <td>usa</td>\n",
       "    </tr>\n",
       "    <tr>\n",
       "      <th>amc pacer d/l</th>\n",
       "      <td>17.5</td>\n",
       "      <td>6</td>\n",
       "      <td>258.0</td>\n",
       "      <td>95.0</td>\n",
       "      <td>3193</td>\n",
       "      <td>17.8</td>\n",
       "      <td>76</td>\n",
       "      <td>usa</td>\n",
       "    </tr>\n",
       "    <tr>\n",
       "      <th>oldsmobile cutlass salon brougham</th>\n",
       "      <td>23.9</td>\n",
       "      <td>8</td>\n",
       "      <td>260.0</td>\n",
       "      <td>90.0</td>\n",
       "      <td>3420</td>\n",
       "      <td>22.2</td>\n",
       "      <td>79</td>\n",
       "      <td>usa</td>\n",
       "    </tr>\n",
       "    <tr>\n",
       "      <th>chevrolet monte carlo landau</th>\n",
       "      <td>19.2</td>\n",
       "      <td>8</td>\n",
       "      <td>305.0</td>\n",
       "      <td>145.0</td>\n",
       "      <td>3425</td>\n",
       "      <td>13.2</td>\n",
       "      <td>78</td>\n",
       "      <td>usa</td>\n",
       "    </tr>\n",
       "  </tbody>\n",
       "</table>\n",
       "</div>"
      ],
      "text/plain": [
       "                                    mpg  cylinders  displacement  horsepower  \\\n",
       "name                                                                           \n",
       "volkswagen model 111               27.0          4          97.0        60.0   \n",
       "chevrolet monte carlo              15.0          8         400.0       150.0   \n",
       "amc pacer d/l                      17.5          6         258.0        95.0   \n",
       "oldsmobile cutlass salon brougham  23.9          8         260.0        90.0   \n",
       "chevrolet monte carlo landau       19.2          8         305.0       145.0   \n",
       "\n",
       "                                   weight  acceleration  model_year  origin  \n",
       "name                                                                         \n",
       "volkswagen model 111                 1834          19.0          71  europe  \n",
       "chevrolet monte carlo                3761           9.5          70     usa  \n",
       "amc pacer d/l                        3193          17.8          76     usa  \n",
       "oldsmobile cutlass salon brougham    3420          22.2          79     usa  \n",
       "chevrolet monte carlo landau         3425          13.2          78     usa  "
      ]
     },
     "execution_count": 1,
     "metadata": {},
     "output_type": "execute_result"
    }
   ],
   "source": [
    "import seaborn as sns #!\n",
    "\n",
    "df = sns.load_dataset(name='mpg', index_col='name')\n",
    "df.sample(5)"
   ]
  },
  {
   "cell_type": "markdown",
   "metadata": {},
   "source": [
    "## Data Preprocessing\n",
    "\n",
    "- All variables need to be **comparables**.\n",
    "- It is not the same to increase 1kg of weight, than 1m of height.\n",
    "- We will use `StandardScaler()`."
   ]
  },
  {
   "cell_type": "code",
   "execution_count": 2,
   "metadata": {},
   "outputs": [
    {
     "data": {
      "text/plain": [
       "mpg             0\n",
       "cylinders       0\n",
       "displacement    0\n",
       "horsepower      6\n",
       "weight          0\n",
       "acceleration    0\n",
       "model_year      0\n",
       "origin          0\n",
       "dtype: int64"
      ]
     },
     "execution_count": 2,
     "metadata": {},
     "output_type": "execute_result"
    }
   ],
   "source": [
    "df.isna().sum()"
   ]
  },
  {
   "cell_type": "code",
   "execution_count": 3,
   "metadata": {},
   "outputs": [],
   "source": [
    "df_mpg = df.dropna()"
   ]
  },
  {
   "cell_type": "code",
   "execution_count": 4,
   "metadata": {},
   "outputs": [],
   "source": [
    "import pandas as pd"
   ]
  },
  {
   "cell_type": "code",
   "execution_count": 5,
   "metadata": {},
   "outputs": [],
   "source": [
    "df_mpg = pd.get_dummies(data=df_mpg ,drop_first=True)"
   ]
  },
  {
   "cell_type": "code",
   "execution_count": 6,
   "metadata": {},
   "outputs": [
    {
     "data": {
      "text/html": [
       "<div>\n",
       "<style scoped>\n",
       "    .dataframe tbody tr th:only-of-type {\n",
       "        vertical-align: middle;\n",
       "    }\n",
       "\n",
       "    .dataframe tbody tr th {\n",
       "        vertical-align: top;\n",
       "    }\n",
       "\n",
       "    .dataframe thead th {\n",
       "        text-align: right;\n",
       "    }\n",
       "</style>\n",
       "<table border=\"1\" class=\"dataframe\">\n",
       "  <thead>\n",
       "    <tr style=\"text-align: right;\">\n",
       "      <th></th>\n",
       "      <th>mpg</th>\n",
       "      <th>cylinders</th>\n",
       "      <th>displacement</th>\n",
       "      <th>horsepower</th>\n",
       "      <th>weight</th>\n",
       "      <th>acceleration</th>\n",
       "      <th>model_year</th>\n",
       "      <th>origin_japan</th>\n",
       "      <th>origin_usa</th>\n",
       "    </tr>\n",
       "    <tr>\n",
       "      <th>name</th>\n",
       "      <th></th>\n",
       "      <th></th>\n",
       "      <th></th>\n",
       "      <th></th>\n",
       "      <th></th>\n",
       "      <th></th>\n",
       "      <th></th>\n",
       "      <th></th>\n",
       "      <th></th>\n",
       "    </tr>\n",
       "  </thead>\n",
       "  <tbody>\n",
       "    <tr>\n",
       "      <th>chevrolet chevelle malibu</th>\n",
       "      <td>18.0</td>\n",
       "      <td>8</td>\n",
       "      <td>307.0</td>\n",
       "      <td>130.0</td>\n",
       "      <td>3504</td>\n",
       "      <td>12.0</td>\n",
       "      <td>70</td>\n",
       "      <td>0</td>\n",
       "      <td>1</td>\n",
       "    </tr>\n",
       "    <tr>\n",
       "      <th>buick skylark 320</th>\n",
       "      <td>15.0</td>\n",
       "      <td>8</td>\n",
       "      <td>350.0</td>\n",
       "      <td>165.0</td>\n",
       "      <td>3693</td>\n",
       "      <td>11.5</td>\n",
       "      <td>70</td>\n",
       "      <td>0</td>\n",
       "      <td>1</td>\n",
       "    </tr>\n",
       "    <tr>\n",
       "      <th>plymouth satellite</th>\n",
       "      <td>18.0</td>\n",
       "      <td>8</td>\n",
       "      <td>318.0</td>\n",
       "      <td>150.0</td>\n",
       "      <td>3436</td>\n",
       "      <td>11.0</td>\n",
       "      <td>70</td>\n",
       "      <td>0</td>\n",
       "      <td>1</td>\n",
       "    </tr>\n",
       "    <tr>\n",
       "      <th>amc rebel sst</th>\n",
       "      <td>16.0</td>\n",
       "      <td>8</td>\n",
       "      <td>304.0</td>\n",
       "      <td>150.0</td>\n",
       "      <td>3433</td>\n",
       "      <td>12.0</td>\n",
       "      <td>70</td>\n",
       "      <td>0</td>\n",
       "      <td>1</td>\n",
       "    </tr>\n",
       "    <tr>\n",
       "      <th>ford torino</th>\n",
       "      <td>17.0</td>\n",
       "      <td>8</td>\n",
       "      <td>302.0</td>\n",
       "      <td>140.0</td>\n",
       "      <td>3449</td>\n",
       "      <td>10.5</td>\n",
       "      <td>70</td>\n",
       "      <td>0</td>\n",
       "      <td>1</td>\n",
       "    </tr>\n",
       "    <tr>\n",
       "      <th>...</th>\n",
       "      <td>...</td>\n",
       "      <td>...</td>\n",
       "      <td>...</td>\n",
       "      <td>...</td>\n",
       "      <td>...</td>\n",
       "      <td>...</td>\n",
       "      <td>...</td>\n",
       "      <td>...</td>\n",
       "      <td>...</td>\n",
       "    </tr>\n",
       "    <tr>\n",
       "      <th>ford mustang gl</th>\n",
       "      <td>27.0</td>\n",
       "      <td>4</td>\n",
       "      <td>140.0</td>\n",
       "      <td>86.0</td>\n",
       "      <td>2790</td>\n",
       "      <td>15.6</td>\n",
       "      <td>82</td>\n",
       "      <td>0</td>\n",
       "      <td>1</td>\n",
       "    </tr>\n",
       "    <tr>\n",
       "      <th>vw pickup</th>\n",
       "      <td>44.0</td>\n",
       "      <td>4</td>\n",
       "      <td>97.0</td>\n",
       "      <td>52.0</td>\n",
       "      <td>2130</td>\n",
       "      <td>24.6</td>\n",
       "      <td>82</td>\n",
       "      <td>0</td>\n",
       "      <td>0</td>\n",
       "    </tr>\n",
       "    <tr>\n",
       "      <th>dodge rampage</th>\n",
       "      <td>32.0</td>\n",
       "      <td>4</td>\n",
       "      <td>135.0</td>\n",
       "      <td>84.0</td>\n",
       "      <td>2295</td>\n",
       "      <td>11.6</td>\n",
       "      <td>82</td>\n",
       "      <td>0</td>\n",
       "      <td>1</td>\n",
       "    </tr>\n",
       "    <tr>\n",
       "      <th>ford ranger</th>\n",
       "      <td>28.0</td>\n",
       "      <td>4</td>\n",
       "      <td>120.0</td>\n",
       "      <td>79.0</td>\n",
       "      <td>2625</td>\n",
       "      <td>18.6</td>\n",
       "      <td>82</td>\n",
       "      <td>0</td>\n",
       "      <td>1</td>\n",
       "    </tr>\n",
       "    <tr>\n",
       "      <th>chevy s-10</th>\n",
       "      <td>31.0</td>\n",
       "      <td>4</td>\n",
       "      <td>119.0</td>\n",
       "      <td>82.0</td>\n",
       "      <td>2720</td>\n",
       "      <td>19.4</td>\n",
       "      <td>82</td>\n",
       "      <td>0</td>\n",
       "      <td>1</td>\n",
       "    </tr>\n",
       "  </tbody>\n",
       "</table>\n",
       "<p>392 rows × 9 columns</p>\n",
       "</div>"
      ],
      "text/plain": [
       "                            mpg  cylinders  displacement  horsepower  weight  \\\n",
       "name                                                                           \n",
       "chevrolet chevelle malibu  18.0          8         307.0       130.0    3504   \n",
       "buick skylark 320          15.0          8         350.0       165.0    3693   \n",
       "plymouth satellite         18.0          8         318.0       150.0    3436   \n",
       "amc rebel sst              16.0          8         304.0       150.0    3433   \n",
       "ford torino                17.0          8         302.0       140.0    3449   \n",
       "...                         ...        ...           ...         ...     ...   \n",
       "ford mustang gl            27.0          4         140.0        86.0    2790   \n",
       "vw pickup                  44.0          4          97.0        52.0    2130   \n",
       "dodge rampage              32.0          4         135.0        84.0    2295   \n",
       "ford ranger                28.0          4         120.0        79.0    2625   \n",
       "chevy s-10                 31.0          4         119.0        82.0    2720   \n",
       "\n",
       "                           acceleration  model_year  origin_japan  origin_usa  \n",
       "name                                                                           \n",
       "chevrolet chevelle malibu          12.0          70             0           1  \n",
       "buick skylark 320                  11.5          70             0           1  \n",
       "plymouth satellite                 11.0          70             0           1  \n",
       "amc rebel sst                      12.0          70             0           1  \n",
       "ford torino                        10.5          70             0           1  \n",
       "...                                 ...         ...           ...         ...  \n",
       "ford mustang gl                    15.6          82             0           1  \n",
       "vw pickup                          24.6          82             0           0  \n",
       "dodge rampage                      11.6          82             0           1  \n",
       "ford ranger                        18.6          82             0           1  \n",
       "chevy s-10                         19.4          82             0           1  \n",
       "\n",
       "[392 rows x 9 columns]"
      ]
     },
     "execution_count": 6,
     "metadata": {},
     "output_type": "execute_result"
    }
   ],
   "source": [
    "df_mpg"
   ]
  },
  {
   "cell_type": "code",
   "execution_count": 7,
   "metadata": {},
   "outputs": [],
   "source": [
    "from sklearn.preprocessing import StandardScaler"
   ]
  },
  {
   "cell_type": "code",
   "execution_count": 8,
   "metadata": {},
   "outputs": [],
   "source": [
    "scaler = StandardScaler()"
   ]
  },
  {
   "cell_type": "code",
   "execution_count": 9,
   "metadata": {},
   "outputs": [
    {
     "data": {
      "text/html": [
       "<style>#sk-container-id-1 {color: black;background-color: white;}#sk-container-id-1 pre{padding: 0;}#sk-container-id-1 div.sk-toggleable {background-color: white;}#sk-container-id-1 label.sk-toggleable__label {cursor: pointer;display: block;width: 100%;margin-bottom: 0;padding: 0.3em;box-sizing: border-box;text-align: center;}#sk-container-id-1 label.sk-toggleable__label-arrow:before {content: \"▸\";float: left;margin-right: 0.25em;color: #696969;}#sk-container-id-1 label.sk-toggleable__label-arrow:hover:before {color: black;}#sk-container-id-1 div.sk-estimator:hover label.sk-toggleable__label-arrow:before {color: black;}#sk-container-id-1 div.sk-toggleable__content {max-height: 0;max-width: 0;overflow: hidden;text-align: left;background-color: #f0f8ff;}#sk-container-id-1 div.sk-toggleable__content pre {margin: 0.2em;color: black;border-radius: 0.25em;background-color: #f0f8ff;}#sk-container-id-1 input.sk-toggleable__control:checked~div.sk-toggleable__content {max-height: 200px;max-width: 100%;overflow: auto;}#sk-container-id-1 input.sk-toggleable__control:checked~label.sk-toggleable__label-arrow:before {content: \"▾\";}#sk-container-id-1 div.sk-estimator input.sk-toggleable__control:checked~label.sk-toggleable__label {background-color: #d4ebff;}#sk-container-id-1 div.sk-label input.sk-toggleable__control:checked~label.sk-toggleable__label {background-color: #d4ebff;}#sk-container-id-1 input.sk-hidden--visually {border: 0;clip: rect(1px 1px 1px 1px);clip: rect(1px, 1px, 1px, 1px);height: 1px;margin: -1px;overflow: hidden;padding: 0;position: absolute;width: 1px;}#sk-container-id-1 div.sk-estimator {font-family: monospace;background-color: #f0f8ff;border: 1px dotted black;border-radius: 0.25em;box-sizing: border-box;margin-bottom: 0.5em;}#sk-container-id-1 div.sk-estimator:hover {background-color: #d4ebff;}#sk-container-id-1 div.sk-parallel-item::after {content: \"\";width: 100%;border-bottom: 1px solid gray;flex-grow: 1;}#sk-container-id-1 div.sk-label:hover label.sk-toggleable__label {background-color: #d4ebff;}#sk-container-id-1 div.sk-serial::before {content: \"\";position: absolute;border-left: 1px solid gray;box-sizing: border-box;top: 0;bottom: 0;left: 50%;z-index: 0;}#sk-container-id-1 div.sk-serial {display: flex;flex-direction: column;align-items: center;background-color: white;padding-right: 0.2em;padding-left: 0.2em;position: relative;}#sk-container-id-1 div.sk-item {position: relative;z-index: 1;}#sk-container-id-1 div.sk-parallel {display: flex;align-items: stretch;justify-content: center;background-color: white;position: relative;}#sk-container-id-1 div.sk-item::before, #sk-container-id-1 div.sk-parallel-item::before {content: \"\";position: absolute;border-left: 1px solid gray;box-sizing: border-box;top: 0;bottom: 0;left: 50%;z-index: -1;}#sk-container-id-1 div.sk-parallel-item {display: flex;flex-direction: column;z-index: 1;position: relative;background-color: white;}#sk-container-id-1 div.sk-parallel-item:first-child::after {align-self: flex-end;width: 50%;}#sk-container-id-1 div.sk-parallel-item:last-child::after {align-self: flex-start;width: 50%;}#sk-container-id-1 div.sk-parallel-item:only-child::after {width: 0;}#sk-container-id-1 div.sk-dashed-wrapped {border: 1px dashed gray;margin: 0 0.4em 0.5em 0.4em;box-sizing: border-box;padding-bottom: 0.4em;background-color: white;}#sk-container-id-1 div.sk-label label {font-family: monospace;font-weight: bold;display: inline-block;line-height: 1.2em;}#sk-container-id-1 div.sk-label-container {text-align: center;}#sk-container-id-1 div.sk-container {/* jupyter's `normalize.less` sets `[hidden] { display: none; }` but bootstrap.min.css set `[hidden] { display: none !important; }` so we also need the `!important` here to be able to override the default hidden behavior on the sphinx rendered scikit-learn.org. See: https://github.com/scikit-learn/scikit-learn/issues/21755 */display: inline-block !important;position: relative;}#sk-container-id-1 div.sk-text-repr-fallback {display: none;}</style><div id=\"sk-container-id-1\" class=\"sk-top-container\"><div class=\"sk-text-repr-fallback\"><pre>StandardScaler()</pre><b>In a Jupyter environment, please rerun this cell to show the HTML representation or trust the notebook. <br />On GitHub, the HTML representation is unable to render, please try loading this page with nbviewer.org.</b></div><div class=\"sk-container\" hidden><div class=\"sk-item\"><div class=\"sk-estimator sk-toggleable\"><input class=\"sk-toggleable__control sk-hidden--visually\" id=\"sk-estimator-id-1\" type=\"checkbox\" checked><label for=\"sk-estimator-id-1\" class=\"sk-toggleable__label sk-toggleable__label-arrow\">StandardScaler</label><div class=\"sk-toggleable__content\"><pre>StandardScaler()</pre></div></div></div></div></div>"
      ],
      "text/plain": [
       "StandardScaler()"
      ]
     },
     "execution_count": 9,
     "metadata": {},
     "output_type": "execute_result"
    }
   ],
   "source": [
    "scaler.fit(df_mpg)"
   ]
  },
  {
   "cell_type": "code",
   "execution_count": 11,
   "metadata": {},
   "outputs": [],
   "source": [
    "scaled = scaler.fit_transform(df_mpg)"
   ]
  },
  {
   "cell_type": "code",
   "execution_count": 12,
   "metadata": {},
   "outputs": [
    {
     "data": {
      "text/plain": [
       "array([[-0.69863841,  1.48394702,  1.07728956, ..., -1.62531533,\n",
       "        -0.50239045,  0.77459667],\n",
       "       [-1.08349824,  1.48394702,  1.48873169, ..., -1.62531533,\n",
       "        -0.50239045,  0.77459667],\n",
       "       [-0.69863841,  1.48394702,  1.1825422 , ..., -1.62531533,\n",
       "        -0.50239045,  0.77459667],\n",
       "       ...,\n",
       "       [ 1.09737414, -0.86401356, -0.56847897, ...,  1.63640964,\n",
       "        -0.50239045,  0.77459667],\n",
       "       [ 0.5842277 , -0.86401356, -0.7120053 , ...,  1.63640964,\n",
       "        -0.50239045,  0.77459667],\n",
       "       [ 0.96908753, -0.86401356, -0.72157372, ...,  1.63640964,\n",
       "        -0.50239045,  0.77459667]])"
      ]
     },
     "execution_count": 12,
     "metadata": {},
     "output_type": "execute_result"
    }
   ],
   "source": [
    "scaled"
   ]
  },
  {
   "cell_type": "markdown",
   "metadata": {},
   "source": [
    "## `KMeans()` Model in Python"
   ]
  },
  {
   "cell_type": "markdown",
   "metadata": {},
   "source": [
    "#### i have to convert  into dataframe  to avoid errors in the feature\n",
    "#### i take  the rows for columns as columns  of the data frame"
   ]
  },
  {
   "cell_type": "code",
   "execution_count": 14,
   "metadata": {},
   "outputs": [],
   "source": [
    "scaled_data =pd.DataFrame(scaled ,index=df_mpg.index, columns=df_mpg.columns)"
   ]
  },
  {
   "cell_type": "code",
   "execution_count": 15,
   "metadata": {},
   "outputs": [
    {
     "data": {
      "text/html": [
       "<div>\n",
       "<style scoped>\n",
       "    .dataframe tbody tr th:only-of-type {\n",
       "        vertical-align: middle;\n",
       "    }\n",
       "\n",
       "    .dataframe tbody tr th {\n",
       "        vertical-align: top;\n",
       "    }\n",
       "\n",
       "    .dataframe thead th {\n",
       "        text-align: right;\n",
       "    }\n",
       "</style>\n",
       "<table border=\"1\" class=\"dataframe\">\n",
       "  <thead>\n",
       "    <tr style=\"text-align: right;\">\n",
       "      <th></th>\n",
       "      <th>mpg</th>\n",
       "      <th>cylinders</th>\n",
       "      <th>displacement</th>\n",
       "      <th>horsepower</th>\n",
       "      <th>weight</th>\n",
       "      <th>acceleration</th>\n",
       "      <th>model_year</th>\n",
       "      <th>origin_japan</th>\n",
       "      <th>origin_usa</th>\n",
       "    </tr>\n",
       "    <tr>\n",
       "      <th>name</th>\n",
       "      <th></th>\n",
       "      <th></th>\n",
       "      <th></th>\n",
       "      <th></th>\n",
       "      <th></th>\n",
       "      <th></th>\n",
       "      <th></th>\n",
       "      <th></th>\n",
       "      <th></th>\n",
       "    </tr>\n",
       "  </thead>\n",
       "  <tbody>\n",
       "    <tr>\n",
       "      <th>chevrolet chevelle malibu</th>\n",
       "      <td>-0.698638</td>\n",
       "      <td>1.483947</td>\n",
       "      <td>1.077290</td>\n",
       "      <td>0.664133</td>\n",
       "      <td>0.620540</td>\n",
       "      <td>-1.285258</td>\n",
       "      <td>-1.625315</td>\n",
       "      <td>-0.50239</td>\n",
       "      <td>0.774597</td>\n",
       "    </tr>\n",
       "    <tr>\n",
       "      <th>buick skylark 320</th>\n",
       "      <td>-1.083498</td>\n",
       "      <td>1.483947</td>\n",
       "      <td>1.488732</td>\n",
       "      <td>1.574594</td>\n",
       "      <td>0.843334</td>\n",
       "      <td>-1.466724</td>\n",
       "      <td>-1.625315</td>\n",
       "      <td>-0.50239</td>\n",
       "      <td>0.774597</td>\n",
       "    </tr>\n",
       "    <tr>\n",
       "      <th>plymouth satellite</th>\n",
       "      <td>-0.698638</td>\n",
       "      <td>1.483947</td>\n",
       "      <td>1.182542</td>\n",
       "      <td>1.184397</td>\n",
       "      <td>0.540382</td>\n",
       "      <td>-1.648189</td>\n",
       "      <td>-1.625315</td>\n",
       "      <td>-0.50239</td>\n",
       "      <td>0.774597</td>\n",
       "    </tr>\n",
       "    <tr>\n",
       "      <th>amc rebel sst</th>\n",
       "      <td>-0.955212</td>\n",
       "      <td>1.483947</td>\n",
       "      <td>1.048584</td>\n",
       "      <td>1.184397</td>\n",
       "      <td>0.536845</td>\n",
       "      <td>-1.285258</td>\n",
       "      <td>-1.625315</td>\n",
       "      <td>-0.50239</td>\n",
       "      <td>0.774597</td>\n",
       "    </tr>\n",
       "    <tr>\n",
       "      <th>ford torino</th>\n",
       "      <td>-0.826925</td>\n",
       "      <td>1.483947</td>\n",
       "      <td>1.029447</td>\n",
       "      <td>0.924265</td>\n",
       "      <td>0.555706</td>\n",
       "      <td>-1.829655</td>\n",
       "      <td>-1.625315</td>\n",
       "      <td>-0.50239</td>\n",
       "      <td>0.774597</td>\n",
       "    </tr>\n",
       "    <tr>\n",
       "      <th>...</th>\n",
       "      <td>...</td>\n",
       "      <td>...</td>\n",
       "      <td>...</td>\n",
       "      <td>...</td>\n",
       "      <td>...</td>\n",
       "      <td>...</td>\n",
       "      <td>...</td>\n",
       "      <td>...</td>\n",
       "      <td>...</td>\n",
       "    </tr>\n",
       "    <tr>\n",
       "      <th>ford mustang gl</th>\n",
       "      <td>0.455941</td>\n",
       "      <td>-0.864014</td>\n",
       "      <td>-0.520637</td>\n",
       "      <td>-0.480448</td>\n",
       "      <td>-0.221125</td>\n",
       "      <td>0.021294</td>\n",
       "      <td>1.636410</td>\n",
       "      <td>-0.50239</td>\n",
       "      <td>0.774597</td>\n",
       "    </tr>\n",
       "    <tr>\n",
       "      <th>vw pickup</th>\n",
       "      <td>2.636813</td>\n",
       "      <td>-0.864014</td>\n",
       "      <td>-0.932079</td>\n",
       "      <td>-1.364896</td>\n",
       "      <td>-0.999134</td>\n",
       "      <td>3.287676</td>\n",
       "      <td>1.636410</td>\n",
       "      <td>-0.50239</td>\n",
       "      <td>-1.290994</td>\n",
       "    </tr>\n",
       "    <tr>\n",
       "      <th>dodge rampage</th>\n",
       "      <td>1.097374</td>\n",
       "      <td>-0.864014</td>\n",
       "      <td>-0.568479</td>\n",
       "      <td>-0.532474</td>\n",
       "      <td>-0.804632</td>\n",
       "      <td>-1.430430</td>\n",
       "      <td>1.636410</td>\n",
       "      <td>-0.50239</td>\n",
       "      <td>0.774597</td>\n",
       "    </tr>\n",
       "    <tr>\n",
       "      <th>ford ranger</th>\n",
       "      <td>0.584228</td>\n",
       "      <td>-0.864014</td>\n",
       "      <td>-0.712005</td>\n",
       "      <td>-0.662540</td>\n",
       "      <td>-0.415627</td>\n",
       "      <td>1.110088</td>\n",
       "      <td>1.636410</td>\n",
       "      <td>-0.50239</td>\n",
       "      <td>0.774597</td>\n",
       "    </tr>\n",
       "    <tr>\n",
       "      <th>chevy s-10</th>\n",
       "      <td>0.969088</td>\n",
       "      <td>-0.864014</td>\n",
       "      <td>-0.721574</td>\n",
       "      <td>-0.584501</td>\n",
       "      <td>-0.303641</td>\n",
       "      <td>1.400433</td>\n",
       "      <td>1.636410</td>\n",
       "      <td>-0.50239</td>\n",
       "      <td>0.774597</td>\n",
       "    </tr>\n",
       "  </tbody>\n",
       "</table>\n",
       "<p>392 rows × 9 columns</p>\n",
       "</div>"
      ],
      "text/plain": [
       "                                mpg  cylinders  displacement  horsepower  \\\n",
       "name                                                                       \n",
       "chevrolet chevelle malibu -0.698638   1.483947      1.077290    0.664133   \n",
       "buick skylark 320         -1.083498   1.483947      1.488732    1.574594   \n",
       "plymouth satellite        -0.698638   1.483947      1.182542    1.184397   \n",
       "amc rebel sst             -0.955212   1.483947      1.048584    1.184397   \n",
       "ford torino               -0.826925   1.483947      1.029447    0.924265   \n",
       "...                             ...        ...           ...         ...   \n",
       "ford mustang gl            0.455941  -0.864014     -0.520637   -0.480448   \n",
       "vw pickup                  2.636813  -0.864014     -0.932079   -1.364896   \n",
       "dodge rampage              1.097374  -0.864014     -0.568479   -0.532474   \n",
       "ford ranger                0.584228  -0.864014     -0.712005   -0.662540   \n",
       "chevy s-10                 0.969088  -0.864014     -0.721574   -0.584501   \n",
       "\n",
       "                             weight  acceleration  model_year  origin_japan  \\\n",
       "name                                                                          \n",
       "chevrolet chevelle malibu  0.620540     -1.285258   -1.625315      -0.50239   \n",
       "buick skylark 320          0.843334     -1.466724   -1.625315      -0.50239   \n",
       "plymouth satellite         0.540382     -1.648189   -1.625315      -0.50239   \n",
       "amc rebel sst              0.536845     -1.285258   -1.625315      -0.50239   \n",
       "ford torino                0.555706     -1.829655   -1.625315      -0.50239   \n",
       "...                             ...           ...         ...           ...   \n",
       "ford mustang gl           -0.221125      0.021294    1.636410      -0.50239   \n",
       "vw pickup                 -0.999134      3.287676    1.636410      -0.50239   \n",
       "dodge rampage             -0.804632     -1.430430    1.636410      -0.50239   \n",
       "ford ranger               -0.415627      1.110088    1.636410      -0.50239   \n",
       "chevy s-10                -0.303641      1.400433    1.636410      -0.50239   \n",
       "\n",
       "                           origin_usa  \n",
       "name                                   \n",
       "chevrolet chevelle malibu    0.774597  \n",
       "buick skylark 320            0.774597  \n",
       "plymouth satellite           0.774597  \n",
       "amc rebel sst                0.774597  \n",
       "ford torino                  0.774597  \n",
       "...                               ...  \n",
       "ford mustang gl              0.774597  \n",
       "vw pickup                   -1.290994  \n",
       "dodge rampage                0.774597  \n",
       "ford ranger                  0.774597  \n",
       "chevy s-10                   0.774597  \n",
       "\n",
       "[392 rows x 9 columns]"
      ]
     },
     "execution_count": 15,
     "metadata": {},
     "output_type": "execute_result"
    }
   ],
   "source": [
    "scaled_data"
   ]
  },
  {
   "cell_type": "markdown",
   "metadata": {},
   "source": [
    "### Fit the Model"
   ]
  },
  {
   "cell_type": "code",
   "execution_count": 16,
   "metadata": {},
   "outputs": [],
   "source": [
    "from sklearn.cluster import KMeans"
   ]
  },
  {
   "cell_type": "code",
   "execution_count": 17,
   "metadata": {},
   "outputs": [],
   "source": [
    "model_k = KMeans(n_clusters=3)"
   ]
  },
  {
   "cell_type": "code",
   "execution_count": 18,
   "metadata": {},
   "outputs": [
    {
     "data": {
      "text/html": [
       "<style>#sk-container-id-2 {color: black;background-color: white;}#sk-container-id-2 pre{padding: 0;}#sk-container-id-2 div.sk-toggleable {background-color: white;}#sk-container-id-2 label.sk-toggleable__label {cursor: pointer;display: block;width: 100%;margin-bottom: 0;padding: 0.3em;box-sizing: border-box;text-align: center;}#sk-container-id-2 label.sk-toggleable__label-arrow:before {content: \"▸\";float: left;margin-right: 0.25em;color: #696969;}#sk-container-id-2 label.sk-toggleable__label-arrow:hover:before {color: black;}#sk-container-id-2 div.sk-estimator:hover label.sk-toggleable__label-arrow:before {color: black;}#sk-container-id-2 div.sk-toggleable__content {max-height: 0;max-width: 0;overflow: hidden;text-align: left;background-color: #f0f8ff;}#sk-container-id-2 div.sk-toggleable__content pre {margin: 0.2em;color: black;border-radius: 0.25em;background-color: #f0f8ff;}#sk-container-id-2 input.sk-toggleable__control:checked~div.sk-toggleable__content {max-height: 200px;max-width: 100%;overflow: auto;}#sk-container-id-2 input.sk-toggleable__control:checked~label.sk-toggleable__label-arrow:before {content: \"▾\";}#sk-container-id-2 div.sk-estimator input.sk-toggleable__control:checked~label.sk-toggleable__label {background-color: #d4ebff;}#sk-container-id-2 div.sk-label input.sk-toggleable__control:checked~label.sk-toggleable__label {background-color: #d4ebff;}#sk-container-id-2 input.sk-hidden--visually {border: 0;clip: rect(1px 1px 1px 1px);clip: rect(1px, 1px, 1px, 1px);height: 1px;margin: -1px;overflow: hidden;padding: 0;position: absolute;width: 1px;}#sk-container-id-2 div.sk-estimator {font-family: monospace;background-color: #f0f8ff;border: 1px dotted black;border-radius: 0.25em;box-sizing: border-box;margin-bottom: 0.5em;}#sk-container-id-2 div.sk-estimator:hover {background-color: #d4ebff;}#sk-container-id-2 div.sk-parallel-item::after {content: \"\";width: 100%;border-bottom: 1px solid gray;flex-grow: 1;}#sk-container-id-2 div.sk-label:hover label.sk-toggleable__label {background-color: #d4ebff;}#sk-container-id-2 div.sk-serial::before {content: \"\";position: absolute;border-left: 1px solid gray;box-sizing: border-box;top: 0;bottom: 0;left: 50%;z-index: 0;}#sk-container-id-2 div.sk-serial {display: flex;flex-direction: column;align-items: center;background-color: white;padding-right: 0.2em;padding-left: 0.2em;position: relative;}#sk-container-id-2 div.sk-item {position: relative;z-index: 1;}#sk-container-id-2 div.sk-parallel {display: flex;align-items: stretch;justify-content: center;background-color: white;position: relative;}#sk-container-id-2 div.sk-item::before, #sk-container-id-2 div.sk-parallel-item::before {content: \"\";position: absolute;border-left: 1px solid gray;box-sizing: border-box;top: 0;bottom: 0;left: 50%;z-index: -1;}#sk-container-id-2 div.sk-parallel-item {display: flex;flex-direction: column;z-index: 1;position: relative;background-color: white;}#sk-container-id-2 div.sk-parallel-item:first-child::after {align-self: flex-end;width: 50%;}#sk-container-id-2 div.sk-parallel-item:last-child::after {align-self: flex-start;width: 50%;}#sk-container-id-2 div.sk-parallel-item:only-child::after {width: 0;}#sk-container-id-2 div.sk-dashed-wrapped {border: 1px dashed gray;margin: 0 0.4em 0.5em 0.4em;box-sizing: border-box;padding-bottom: 0.4em;background-color: white;}#sk-container-id-2 div.sk-label label {font-family: monospace;font-weight: bold;display: inline-block;line-height: 1.2em;}#sk-container-id-2 div.sk-label-container {text-align: center;}#sk-container-id-2 div.sk-container {/* jupyter's `normalize.less` sets `[hidden] { display: none; }` but bootstrap.min.css set `[hidden] { display: none !important; }` so we also need the `!important` here to be able to override the default hidden behavior on the sphinx rendered scikit-learn.org. See: https://github.com/scikit-learn/scikit-learn/issues/21755 */display: inline-block !important;position: relative;}#sk-container-id-2 div.sk-text-repr-fallback {display: none;}</style><div id=\"sk-container-id-2\" class=\"sk-top-container\"><div class=\"sk-text-repr-fallback\"><pre>KMeans(n_clusters=3)</pre><b>In a Jupyter environment, please rerun this cell to show the HTML representation or trust the notebook. <br />On GitHub, the HTML representation is unable to render, please try loading this page with nbviewer.org.</b></div><div class=\"sk-container\" hidden><div class=\"sk-item\"><div class=\"sk-estimator sk-toggleable\"><input class=\"sk-toggleable__control sk-hidden--visually\" id=\"sk-estimator-id-2\" type=\"checkbox\" checked><label for=\"sk-estimator-id-2\" class=\"sk-toggleable__label sk-toggleable__label-arrow\">KMeans</label><div class=\"sk-toggleable__content\"><pre>KMeans(n_clusters=3)</pre></div></div></div></div></div>"
      ],
      "text/plain": [
       "KMeans(n_clusters=3)"
      ]
     },
     "execution_count": 18,
     "metadata": {},
     "output_type": "execute_result"
    }
   ],
   "source": [
    "model_k.fit(scaled_data)"
   ]
  },
  {
   "cell_type": "markdown",
   "metadata": {},
   "source": [
    "### Calculate Predictions"
   ]
  },
  {
   "cell_type": "code",
   "execution_count": 19,
   "metadata": {},
   "outputs": [
    {
     "data": {
      "text/plain": [
       "array([2, 2, 2, 2, 2, 2, 2, 2, 2, 2, 2, 2, 2, 2, 0, 1, 1, 1, 0, 0, 0, 0,\n",
       "       0, 0, 1, 2, 2, 2, 2, 0, 1, 0, 1, 1, 1, 1, 1, 2, 2, 2, 2, 2, 2, 2,\n",
       "       1, 1, 1, 1, 1, 0, 0, 0, 0, 0, 0, 1, 0, 1, 0, 1, 1, 2, 2, 2, 2, 2,\n",
       "       2, 2, 2, 2, 0, 2, 2, 2, 2, 0, 0, 0, 0, 1, 0, 0, 1, 0, 2, 2, 2, 2,\n",
       "       2, 2, 2, 2, 2, 2, 2, 2, 1, 1, 1, 1, 1, 0, 2, 2, 2, 2, 1, 0, 1, 0,\n",
       "       0, 1, 1, 0, 2, 2, 0, 0, 0, 0, 2, 0, 0, 2, 1, 1, 1, 0, 1, 0, 1, 1,\n",
       "       1, 1, 2, 2, 2, 2, 2, 0, 0, 0, 0, 0, 1, 0, 0, 0, 0, 0, 1, 1, 1, 1,\n",
       "       2, 2, 2, 2, 1, 1, 1, 1, 1, 2, 2, 0, 1, 1, 1, 0, 0, 0, 1, 0, 1, 0,\n",
       "       0, 0, 0, 0, 0, 0, 1, 1, 0, 2, 2, 2, 2, 1, 1, 1, 1, 1, 1, 0, 0, 1,\n",
       "       1, 1, 1, 0, 0, 0, 1, 0, 2, 1, 0, 1, 2, 2, 2, 2, 0, 1, 0, 1, 0, 2,\n",
       "       1, 2, 2, 1, 1, 1, 1, 2, 2, 2, 2, 0, 1, 0, 1, 1, 1, 0, 0, 0, 0, 0,\n",
       "       0, 1, 0, 0, 0, 1, 2, 2, 1, 1, 1, 1, 1, 1, 1, 1, 1, 1, 2, 2, 2, 2,\n",
       "       1, 0, 0, 1, 0, 1, 1, 0, 1, 1, 0, 1, 0, 0, 1, 1, 1, 1, 1, 2, 2, 2,\n",
       "       2, 2, 2, 2, 2, 0, 0, 1, 1, 1, 2, 0, 1, 1, 1, 0, 0, 1, 1, 1, 1, 0,\n",
       "       0, 1, 0, 1, 1, 1, 1, 0, 0, 0, 0, 0, 0, 1, 0, 0, 0, 0, 0, 0, 0, 0,\n",
       "       0, 0, 0, 0, 1, 1, 1, 1, 1, 0, 1, 0, 0, 0, 0, 0, 1, 1, 1, 0, 0, 0,\n",
       "       0, 0, 0, 0, 0, 0, 1, 1, 1, 1, 1, 1, 1, 1, 1, 1, 1, 0, 0, 0, 1, 1,\n",
       "       0, 0, 0, 0, 0, 0, 1, 1, 1, 1, 0, 1, 1, 1, 0, 1, 1, 1])"
      ]
     },
     "execution_count": 19,
     "metadata": {},
     "output_type": "execute_result"
    }
   ],
   "source": [
    "model_k.predict(X=scaled_data)"
   ]
  },
  {
   "cell_type": "markdown",
   "metadata": {},
   "source": [
    "### Create a New DataFrame for the Predictions"
   ]
  },
  {
   "cell_type": "code",
   "execution_count": 22,
   "metadata": {},
   "outputs": [],
   "source": [
    "df_pred= scaled_data.copy()\n",
    "df_pred['pred_km'] = model_k.predict(X=scaled_data)"
   ]
  },
  {
   "cell_type": "code",
   "execution_count": 23,
   "metadata": {},
   "outputs": [
    {
     "data": {
      "text/html": [
       "<div>\n",
       "<style scoped>\n",
       "    .dataframe tbody tr th:only-of-type {\n",
       "        vertical-align: middle;\n",
       "    }\n",
       "\n",
       "    .dataframe tbody tr th {\n",
       "        vertical-align: top;\n",
       "    }\n",
       "\n",
       "    .dataframe thead th {\n",
       "        text-align: right;\n",
       "    }\n",
       "</style>\n",
       "<table border=\"1\" class=\"dataframe\">\n",
       "  <thead>\n",
       "    <tr style=\"text-align: right;\">\n",
       "      <th></th>\n",
       "      <th>mpg</th>\n",
       "      <th>cylinders</th>\n",
       "      <th>displacement</th>\n",
       "      <th>horsepower</th>\n",
       "      <th>weight</th>\n",
       "      <th>acceleration</th>\n",
       "      <th>model_year</th>\n",
       "      <th>origin_japan</th>\n",
       "      <th>origin_usa</th>\n",
       "      <th>pred_km</th>\n",
       "    </tr>\n",
       "    <tr>\n",
       "      <th>name</th>\n",
       "      <th></th>\n",
       "      <th></th>\n",
       "      <th></th>\n",
       "      <th></th>\n",
       "      <th></th>\n",
       "      <th></th>\n",
       "      <th></th>\n",
       "      <th></th>\n",
       "      <th></th>\n",
       "      <th></th>\n",
       "    </tr>\n",
       "  </thead>\n",
       "  <tbody>\n",
       "    <tr>\n",
       "      <th>chevrolet chevelle malibu</th>\n",
       "      <td>-0.698638</td>\n",
       "      <td>1.483947</td>\n",
       "      <td>1.077290</td>\n",
       "      <td>0.664133</td>\n",
       "      <td>0.620540</td>\n",
       "      <td>-1.285258</td>\n",
       "      <td>-1.625315</td>\n",
       "      <td>-0.50239</td>\n",
       "      <td>0.774597</td>\n",
       "      <td>2</td>\n",
       "    </tr>\n",
       "    <tr>\n",
       "      <th>buick skylark 320</th>\n",
       "      <td>-1.083498</td>\n",
       "      <td>1.483947</td>\n",
       "      <td>1.488732</td>\n",
       "      <td>1.574594</td>\n",
       "      <td>0.843334</td>\n",
       "      <td>-1.466724</td>\n",
       "      <td>-1.625315</td>\n",
       "      <td>-0.50239</td>\n",
       "      <td>0.774597</td>\n",
       "      <td>2</td>\n",
       "    </tr>\n",
       "    <tr>\n",
       "      <th>plymouth satellite</th>\n",
       "      <td>-0.698638</td>\n",
       "      <td>1.483947</td>\n",
       "      <td>1.182542</td>\n",
       "      <td>1.184397</td>\n",
       "      <td>0.540382</td>\n",
       "      <td>-1.648189</td>\n",
       "      <td>-1.625315</td>\n",
       "      <td>-0.50239</td>\n",
       "      <td>0.774597</td>\n",
       "      <td>2</td>\n",
       "    </tr>\n",
       "    <tr>\n",
       "      <th>amc rebel sst</th>\n",
       "      <td>-0.955212</td>\n",
       "      <td>1.483947</td>\n",
       "      <td>1.048584</td>\n",
       "      <td>1.184397</td>\n",
       "      <td>0.536845</td>\n",
       "      <td>-1.285258</td>\n",
       "      <td>-1.625315</td>\n",
       "      <td>-0.50239</td>\n",
       "      <td>0.774597</td>\n",
       "      <td>2</td>\n",
       "    </tr>\n",
       "    <tr>\n",
       "      <th>ford torino</th>\n",
       "      <td>-0.826925</td>\n",
       "      <td>1.483947</td>\n",
       "      <td>1.029447</td>\n",
       "      <td>0.924265</td>\n",
       "      <td>0.555706</td>\n",
       "      <td>-1.829655</td>\n",
       "      <td>-1.625315</td>\n",
       "      <td>-0.50239</td>\n",
       "      <td>0.774597</td>\n",
       "      <td>2</td>\n",
       "    </tr>\n",
       "    <tr>\n",
       "      <th>...</th>\n",
       "      <td>...</td>\n",
       "      <td>...</td>\n",
       "      <td>...</td>\n",
       "      <td>...</td>\n",
       "      <td>...</td>\n",
       "      <td>...</td>\n",
       "      <td>...</td>\n",
       "      <td>...</td>\n",
       "      <td>...</td>\n",
       "      <td>...</td>\n",
       "    </tr>\n",
       "    <tr>\n",
       "      <th>ford mustang gl</th>\n",
       "      <td>0.455941</td>\n",
       "      <td>-0.864014</td>\n",
       "      <td>-0.520637</td>\n",
       "      <td>-0.480448</td>\n",
       "      <td>-0.221125</td>\n",
       "      <td>0.021294</td>\n",
       "      <td>1.636410</td>\n",
       "      <td>-0.50239</td>\n",
       "      <td>0.774597</td>\n",
       "      <td>1</td>\n",
       "    </tr>\n",
       "    <tr>\n",
       "      <th>vw pickup</th>\n",
       "      <td>2.636813</td>\n",
       "      <td>-0.864014</td>\n",
       "      <td>-0.932079</td>\n",
       "      <td>-1.364896</td>\n",
       "      <td>-0.999134</td>\n",
       "      <td>3.287676</td>\n",
       "      <td>1.636410</td>\n",
       "      <td>-0.50239</td>\n",
       "      <td>-1.290994</td>\n",
       "      <td>0</td>\n",
       "    </tr>\n",
       "    <tr>\n",
       "      <th>dodge rampage</th>\n",
       "      <td>1.097374</td>\n",
       "      <td>-0.864014</td>\n",
       "      <td>-0.568479</td>\n",
       "      <td>-0.532474</td>\n",
       "      <td>-0.804632</td>\n",
       "      <td>-1.430430</td>\n",
       "      <td>1.636410</td>\n",
       "      <td>-0.50239</td>\n",
       "      <td>0.774597</td>\n",
       "      <td>1</td>\n",
       "    </tr>\n",
       "    <tr>\n",
       "      <th>ford ranger</th>\n",
       "      <td>0.584228</td>\n",
       "      <td>-0.864014</td>\n",
       "      <td>-0.712005</td>\n",
       "      <td>-0.662540</td>\n",
       "      <td>-0.415627</td>\n",
       "      <td>1.110088</td>\n",
       "      <td>1.636410</td>\n",
       "      <td>-0.50239</td>\n",
       "      <td>0.774597</td>\n",
       "      <td>1</td>\n",
       "    </tr>\n",
       "    <tr>\n",
       "      <th>chevy s-10</th>\n",
       "      <td>0.969088</td>\n",
       "      <td>-0.864014</td>\n",
       "      <td>-0.721574</td>\n",
       "      <td>-0.584501</td>\n",
       "      <td>-0.303641</td>\n",
       "      <td>1.400433</td>\n",
       "      <td>1.636410</td>\n",
       "      <td>-0.50239</td>\n",
       "      <td>0.774597</td>\n",
       "      <td>1</td>\n",
       "    </tr>\n",
       "  </tbody>\n",
       "</table>\n",
       "<p>392 rows × 10 columns</p>\n",
       "</div>"
      ],
      "text/plain": [
       "                                mpg  cylinders  displacement  horsepower  \\\n",
       "name                                                                       \n",
       "chevrolet chevelle malibu -0.698638   1.483947      1.077290    0.664133   \n",
       "buick skylark 320         -1.083498   1.483947      1.488732    1.574594   \n",
       "plymouth satellite        -0.698638   1.483947      1.182542    1.184397   \n",
       "amc rebel sst             -0.955212   1.483947      1.048584    1.184397   \n",
       "ford torino               -0.826925   1.483947      1.029447    0.924265   \n",
       "...                             ...        ...           ...         ...   \n",
       "ford mustang gl            0.455941  -0.864014     -0.520637   -0.480448   \n",
       "vw pickup                  2.636813  -0.864014     -0.932079   -1.364896   \n",
       "dodge rampage              1.097374  -0.864014     -0.568479   -0.532474   \n",
       "ford ranger                0.584228  -0.864014     -0.712005   -0.662540   \n",
       "chevy s-10                 0.969088  -0.864014     -0.721574   -0.584501   \n",
       "\n",
       "                             weight  acceleration  model_year  origin_japan  \\\n",
       "name                                                                          \n",
       "chevrolet chevelle malibu  0.620540     -1.285258   -1.625315      -0.50239   \n",
       "buick skylark 320          0.843334     -1.466724   -1.625315      -0.50239   \n",
       "plymouth satellite         0.540382     -1.648189   -1.625315      -0.50239   \n",
       "amc rebel sst              0.536845     -1.285258   -1.625315      -0.50239   \n",
       "ford torino                0.555706     -1.829655   -1.625315      -0.50239   \n",
       "...                             ...           ...         ...           ...   \n",
       "ford mustang gl           -0.221125      0.021294    1.636410      -0.50239   \n",
       "vw pickup                 -0.999134      3.287676    1.636410      -0.50239   \n",
       "dodge rampage             -0.804632     -1.430430    1.636410      -0.50239   \n",
       "ford ranger               -0.415627      1.110088    1.636410      -0.50239   \n",
       "chevy s-10                -0.303641      1.400433    1.636410      -0.50239   \n",
       "\n",
       "                           origin_usa  pred_km  \n",
       "name                                            \n",
       "chevrolet chevelle malibu    0.774597        2  \n",
       "buick skylark 320            0.774597        2  \n",
       "plymouth satellite           0.774597        2  \n",
       "amc rebel sst                0.774597        2  \n",
       "ford torino                  0.774597        2  \n",
       "...                               ...      ...  \n",
       "ford mustang gl              0.774597        1  \n",
       "vw pickup                   -1.290994        0  \n",
       "dodge rampage                0.774597        1  \n",
       "ford ranger                  0.774597        1  \n",
       "chevy s-10                   0.774597        1  \n",
       "\n",
       "[392 rows x 10 columns]"
      ]
     },
     "execution_count": 23,
     "metadata": {},
     "output_type": "execute_result"
    }
   ],
   "source": [
    "df_pred"
   ]
  },
  {
   "cell_type": "markdown",
   "metadata": {},
   "source": [
    "### Visualize the Model"
   ]
  },
  {
   "cell_type": "code",
   "execution_count": 24,
   "metadata": {},
   "outputs": [
    {
     "data": {
      "image/png": "[encoded data removed]",
      "text/plain": [
       "<Figure size 640x480 with 1 Axes>"
      ]
     },
     "metadata": {},
     "output_type": "display_data"
    }
   ],
   "source": [
    "sns.scatterplot(x ='mpg' , y= 'weight', hue='pred_km' ,data= df_pred , palette= 'Set1' );"
   ]
  },
  {
   "cell_type": "markdown",
   "metadata": {},
   "source": [
    "### Model Interpretation"
   ]
  },
  {
   "cell_type": "markdown",
   "metadata": {},
   "source": [
    "- Does the visualization makes sense?\n",
    "- The points are mixed between the groups, why?\n",
    "- We are **just representing 2 variables**\n",
    "- And the model was **fitted with 7 variables**"
   ]
  },
  {
   "cell_type": "markdown",
   "metadata": {},
   "source": [
    "## Grouping Variables with `PCA()`"
   ]
  },
  {
   "cell_type": "code",
   "execution_count": 61,
   "metadata": {},
   "outputs": [
    {
     "data": {
      "text/html": [
       "\n",
       "<iframe width=\"560\" height=\"315\" src=\"https://www.youtube.com/embed/HMOI_lkzW08\" title=\"YouTube video player\" frameborder=\"0\" allow=\"accelerometer; autoplay; clipboard-write; encrypted-media; gyroscope; picture-in-picture\" allowfullscreen></iframe>\n"
      ],
      "text/plain": [
       "<IPython.core.display.HTML object>"
      ]
     },
     "metadata": {},
     "output_type": "display_data"
    }
   ],
   "source": [
    "%%HTML\n",
    "\n",
    "<iframe width=\"560\" height=\"315\" src=\"https://www.youtube.com/embed/HMOI_lkzW08\" title=\"YouTube video player\" frameborder=\"0\" allow=\"accelerometer; autoplay; clipboard-write; encrypted-media; gyroscope; picture-in-picture\" allowfullscreen></iframe>"
   ]
  },
  {
   "cell_type": "markdown",
   "metadata": {},
   "source": [
    "### Transform Data to Components"
   ]
  },
  {
   "cell_type": "markdown",
   "metadata": {},
   "source": [
    "- `PCA()` is another technique used to transform data.\n",
    "\n",
    "How has the data been manipulated so far?\n",
    "\n",
    "1. Original Data `df`\n",
    "2. Normalized Data `dfnorm`\n",
    "3. Principal Components Data `dfpca` (now)"
   ]
  },
  {
   "cell_type": "code",
   "execution_count": 25,
   "metadata": {},
   "outputs": [],
   "source": [
    "from sklearn.decomposition import PCA"
   ]
  },
  {
   "cell_type": "code",
   "execution_count": 26,
   "metadata": {},
   "outputs": [],
   "source": [
    "pca =PCA()"
   ]
  },
  {
   "cell_type": "code",
   "execution_count": 27,
   "metadata": {},
   "outputs": [
    {
     "data": {
      "text/html": [
       "<style>#sk-container-id-3 {color: black;background-color: white;}#sk-container-id-3 pre{padding: 0;}#sk-container-id-3 div.sk-toggleable {background-color: white;}#sk-container-id-3 label.sk-toggleable__label {cursor: pointer;display: block;width: 100%;margin-bottom: 0;padding: 0.3em;box-sizing: border-box;text-align: center;}#sk-container-id-3 label.sk-toggleable__label-arrow:before {content: \"▸\";float: left;margin-right: 0.25em;color: #696969;}#sk-container-id-3 label.sk-toggleable__label-arrow:hover:before {color: black;}#sk-container-id-3 div.sk-estimator:hover label.sk-toggleable__label-arrow:before {color: black;}#sk-container-id-3 div.sk-toggleable__content {max-height: 0;max-width: 0;overflow: hidden;text-align: left;background-color: #f0f8ff;}#sk-container-id-3 div.sk-toggleable__content pre {margin: 0.2em;color: black;border-radius: 0.25em;background-color: #f0f8ff;}#sk-container-id-3 input.sk-toggleable__control:checked~div.sk-toggleable__content {max-height: 200px;max-width: 100%;overflow: auto;}#sk-container-id-3 input.sk-toggleable__control:checked~label.sk-toggleable__label-arrow:before {content: \"▾\";}#sk-container-id-3 div.sk-estimator input.sk-toggleable__control:checked~label.sk-toggleable__label {background-color: #d4ebff;}#sk-container-id-3 div.sk-label input.sk-toggleable__control:checked~label.sk-toggleable__label {background-color: #d4ebff;}#sk-container-id-3 input.sk-hidden--visually {border: 0;clip: rect(1px 1px 1px 1px);clip: rect(1px, 1px, 1px, 1px);height: 1px;margin: -1px;overflow: hidden;padding: 0;position: absolute;width: 1px;}#sk-container-id-3 div.sk-estimator {font-family: monospace;background-color: #f0f8ff;border: 1px dotted black;border-radius: 0.25em;box-sizing: border-box;margin-bottom: 0.5em;}#sk-container-id-3 div.sk-estimator:hover {background-color: #d4ebff;}#sk-container-id-3 div.sk-parallel-item::after {content: \"\";width: 100%;border-bottom: 1px solid gray;flex-grow: 1;}#sk-container-id-3 div.sk-label:hover label.sk-toggleable__label {background-color: #d4ebff;}#sk-container-id-3 div.sk-serial::before {content: \"\";position: absolute;border-left: 1px solid gray;box-sizing: border-box;top: 0;bottom: 0;left: 50%;z-index: 0;}#sk-container-id-3 div.sk-serial {display: flex;flex-direction: column;align-items: center;background-color: white;padding-right: 0.2em;padding-left: 0.2em;position: relative;}#sk-container-id-3 div.sk-item {position: relative;z-index: 1;}#sk-container-id-3 div.sk-parallel {display: flex;align-items: stretch;justify-content: center;background-color: white;position: relative;}#sk-container-id-3 div.sk-item::before, #sk-container-id-3 div.sk-parallel-item::before {content: \"\";position: absolute;border-left: 1px solid gray;box-sizing: border-box;top: 0;bottom: 0;left: 50%;z-index: -1;}#sk-container-id-3 div.sk-parallel-item {display: flex;flex-direction: column;z-index: 1;position: relative;background-color: white;}#sk-container-id-3 div.sk-parallel-item:first-child::after {align-self: flex-end;width: 50%;}#sk-container-id-3 div.sk-parallel-item:last-child::after {align-self: flex-start;width: 50%;}#sk-container-id-3 div.sk-parallel-item:only-child::after {width: 0;}#sk-container-id-3 div.sk-dashed-wrapped {border: 1px dashed gray;margin: 0 0.4em 0.5em 0.4em;box-sizing: border-box;padding-bottom: 0.4em;background-color: white;}#sk-container-id-3 div.sk-label label {font-family: monospace;font-weight: bold;display: inline-block;line-height: 1.2em;}#sk-container-id-3 div.sk-label-container {text-align: center;}#sk-container-id-3 div.sk-container {/* jupyter's `normalize.less` sets `[hidden] { display: none; }` but bootstrap.min.css set `[hidden] { display: none !important; }` so we also need the `!important` here to be able to override the default hidden behavior on the sphinx rendered scikit-learn.org. See: https://github.com/scikit-learn/scikit-learn/issues/21755 */display: inline-block !important;position: relative;}#sk-container-id-3 div.sk-text-repr-fallback {display: none;}</style><div id=\"sk-container-id-3\" class=\"sk-top-container\"><div class=\"sk-text-repr-fallback\"><pre>PCA()</pre><b>In a Jupyter environment, please rerun this cell to show the HTML representation or trust the notebook. <br />On GitHub, the HTML representation is unable to render, please try loading this page with nbviewer.org.</b></div><div class=\"sk-container\" hidden><div class=\"sk-item\"><div class=\"sk-estimator sk-toggleable\"><input class=\"sk-toggleable__control sk-hidden--visually\" id=\"sk-estimator-id-3\" type=\"checkbox\" checked><label for=\"sk-estimator-id-3\" class=\"sk-toggleable__label sk-toggleable__label-arrow\">PCA</label><div class=\"sk-toggleable__content\"><pre>PCA()</pre></div></div></div></div></div>"
      ],
      "text/plain": [
       "PCA()"
      ]
     },
     "execution_count": 27,
     "metadata": {},
     "output_type": "execute_result"
    }
   ],
   "source": [
    "pca.fit(X=scaled_data)"
   ]
  },
  {
   "cell_type": "code",
   "execution_count": 28,
   "metadata": {},
   "outputs": [],
   "source": [
    "df_pca =pca.transform(scaled_data)"
   ]
  },
  {
   "cell_type": "code",
   "execution_count": 29,
   "metadata": {},
   "outputs": [
    {
     "data": {
      "text/plain": [
       "array([[ 2.76810154,  0.65366867,  0.66164275, ..., -0.46885976,\n",
       "        -0.09552021, -0.12058569],\n",
       "       [ 3.56179561,  0.96184244,  0.47465886, ...,  0.00937015,\n",
       "         0.21329283,  0.07362043],\n",
       "       [ 3.07048871,  0.94221704,  0.47373469, ..., -0.21427127,\n",
       "         0.14318812, -0.08388762],\n",
       "       ...,\n",
       "       [-1.12680828, -0.78921394, -1.52286893, ..., -0.03081294,\n",
       "        -0.22178676,  0.04567046],\n",
       "       [-1.52571881, -1.95124015, -0.69244294, ...,  0.31843331,\n",
       "         0.11418265, -0.02962877],\n",
       "       [-1.67259558, -2.08553214, -0.73648186, ...,  0.59100743,\n",
       "         0.0666075 , -0.12369223]])"
      ]
     },
     "execution_count": 29,
     "metadata": {},
     "output_type": "execute_result"
    }
   ],
   "source": [
    "df_pca"
   ]
  },
  {
   "cell_type": "code",
   "execution_count": 34,
   "metadata": {},
   "outputs": [],
   "source": [
    "df_pca1 = pd.DataFrame(df_pca)"
   ]
  },
  {
   "cell_type": "code",
   "execution_count": 35,
   "metadata": {},
   "outputs": [
    {
     "data": {
      "text/html": [
       "<div>\n",
       "<style scoped>\n",
       "    .dataframe tbody tr th:only-of-type {\n",
       "        vertical-align: middle;\n",
       "    }\n",
       "\n",
       "    .dataframe tbody tr th {\n",
       "        vertical-align: top;\n",
       "    }\n",
       "\n",
       "    .dataframe thead th {\n",
       "        text-align: right;\n",
       "    }\n",
       "</style>\n",
       "<table border=\"1\" class=\"dataframe\">\n",
       "  <thead>\n",
       "    <tr style=\"text-align: right;\">\n",
       "      <th></th>\n",
       "      <th>0</th>\n",
       "      <th>1</th>\n",
       "      <th>2</th>\n",
       "      <th>3</th>\n",
       "      <th>4</th>\n",
       "      <th>5</th>\n",
       "      <th>6</th>\n",
       "      <th>7</th>\n",
       "      <th>8</th>\n",
       "    </tr>\n",
       "  </thead>\n",
       "  <tbody>\n",
       "    <tr>\n",
       "      <th>0</th>\n",
       "      <td>2.768102</td>\n",
       "      <td>0.653669</td>\n",
       "      <td>0.661643</td>\n",
       "      <td>-0.585333</td>\n",
       "      <td>-0.382837</td>\n",
       "      <td>0.750140</td>\n",
       "      <td>-0.468860</td>\n",
       "      <td>-0.095520</td>\n",
       "      <td>-0.120586</td>\n",
       "    </tr>\n",
       "    <tr>\n",
       "      <th>1</th>\n",
       "      <td>3.561796</td>\n",
       "      <td>0.961842</td>\n",
       "      <td>0.474659</td>\n",
       "      <td>-0.511149</td>\n",
       "      <td>-0.199102</td>\n",
       "      <td>0.489416</td>\n",
       "      <td>0.009370</td>\n",
       "      <td>0.213293</td>\n",
       "      <td>0.073620</td>\n",
       "    </tr>\n",
       "    <tr>\n",
       "      <th>2</th>\n",
       "      <td>3.070489</td>\n",
       "      <td>0.942217</td>\n",
       "      <td>0.473735</td>\n",
       "      <td>-0.870489</td>\n",
       "      <td>-0.313946</td>\n",
       "      <td>0.723960</td>\n",
       "      <td>-0.214271</td>\n",
       "      <td>0.143188</td>\n",
       "      <td>-0.083888</td>\n",
       "    </tr>\n",
       "    <tr>\n",
       "      <th>3</th>\n",
       "      <td>3.020337</td>\n",
       "      <td>0.789743</td>\n",
       "      <td>0.661786</td>\n",
       "      <td>-0.571355</td>\n",
       "      <td>-0.319349</td>\n",
       "      <td>0.528048</td>\n",
       "      <td>-0.229069</td>\n",
       "      <td>0.292331</td>\n",
       "      <td>-0.147325</td>\n",
       "    </tr>\n",
       "    <tr>\n",
       "      <th>4</th>\n",
       "      <td>3.007717</td>\n",
       "      <td>0.965885</td>\n",
       "      <td>0.517871</td>\n",
       "      <td>-0.996022</td>\n",
       "      <td>-0.358667</td>\n",
       "      <td>0.575475</td>\n",
       "      <td>-0.469787</td>\n",
       "      <td>-0.001799</td>\n",
       "      <td>-0.174247</td>\n",
       "    </tr>\n",
       "    <tr>\n",
       "      <th>...</th>\n",
       "      <td>...</td>\n",
       "      <td>...</td>\n",
       "      <td>...</td>\n",
       "      <td>...</td>\n",
       "      <td>...</td>\n",
       "      <td>...</td>\n",
       "      <td>...</td>\n",
       "      <td>...</td>\n",
       "      <td>...</td>\n",
       "    </tr>\n",
       "    <tr>\n",
       "      <th>387</th>\n",
       "      <td>-0.982108</td>\n",
       "      <td>-1.420514</td>\n",
       "      <td>-1.047497</td>\n",
       "      <td>-0.683221</td>\n",
       "      <td>-0.120900</td>\n",
       "      <td>-0.637493</td>\n",
       "      <td>0.201264</td>\n",
       "      <td>-0.166382</td>\n",
       "      <td>0.015283</td>\n",
       "    </tr>\n",
       "    <tr>\n",
       "      <th>388</th>\n",
       "      <td>-4.036985</td>\n",
       "      <td>-2.127140</td>\n",
       "      <td>-0.261675</td>\n",
       "      <td>1.418216</td>\n",
       "      <td>1.221944</td>\n",
       "      <td>1.416191</td>\n",
       "      <td>0.579246</td>\n",
       "      <td>0.291104</td>\n",
       "      <td>0.119184</td>\n",
       "    </tr>\n",
       "    <tr>\n",
       "      <th>389</th>\n",
       "      <td>-1.126808</td>\n",
       "      <td>-0.789214</td>\n",
       "      <td>-1.522869</td>\n",
       "      <td>-2.097001</td>\n",
       "      <td>-0.237654</td>\n",
       "      <td>-0.251873</td>\n",
       "      <td>-0.030813</td>\n",
       "      <td>-0.221787</td>\n",
       "      <td>0.045670</td>\n",
       "    </tr>\n",
       "    <tr>\n",
       "      <th>390</th>\n",
       "      <td>-1.525719</td>\n",
       "      <td>-1.951240</td>\n",
       "      <td>-0.692443</td>\n",
       "      <td>0.005939</td>\n",
       "      <td>-0.179771</td>\n",
       "      <td>-0.454670</td>\n",
       "      <td>0.318433</td>\n",
       "      <td>0.114183</td>\n",
       "      <td>-0.029629</td>\n",
       "    </tr>\n",
       "    <tr>\n",
       "      <th>391</th>\n",
       "      <td>-1.672596</td>\n",
       "      <td>-2.085532</td>\n",
       "      <td>-0.736482</td>\n",
       "      <td>0.181318</td>\n",
       "      <td>-0.129705</td>\n",
       "      <td>-0.153139</td>\n",
       "      <td>0.591007</td>\n",
       "      <td>0.066608</td>\n",
       "      <td>-0.123692</td>\n",
       "    </tr>\n",
       "  </tbody>\n",
       "</table>\n",
       "<p>392 rows × 9 columns</p>\n",
       "</div>"
      ],
      "text/plain": [
       "            0         1         2         3         4         5         6  \\\n",
       "0    2.768102  0.653669  0.661643 -0.585333 -0.382837  0.750140 -0.468860   \n",
       "1    3.561796  0.961842  0.474659 -0.511149 -0.199102  0.489416  0.009370   \n",
       "2    3.070489  0.942217  0.473735 -0.870489 -0.313946  0.723960 -0.214271   \n",
       "3    3.020337  0.789743  0.661786 -0.571355 -0.319349  0.528048 -0.229069   \n",
       "4    3.007717  0.965885  0.517871 -0.996022 -0.358667  0.575475 -0.469787   \n",
       "..        ...       ...       ...       ...       ...       ...       ...   \n",
       "387 -0.982108 -1.420514 -1.047497 -0.683221 -0.120900 -0.637493  0.201264   \n",
       "388 -4.036985 -2.127140 -0.261675  1.418216  1.221944  1.416191  0.579246   \n",
       "389 -1.126808 -0.789214 -1.522869 -2.097001 -0.237654 -0.251873 -0.030813   \n",
       "390 -1.525719 -1.951240 -0.692443  0.005939 -0.179771 -0.454670  0.318433   \n",
       "391 -1.672596 -2.085532 -0.736482  0.181318 -0.129705 -0.153139  0.591007   \n",
       "\n",
       "            7         8  \n",
       "0   -0.095520 -0.120586  \n",
       "1    0.213293  0.073620  \n",
       "2    0.143188 -0.083888  \n",
       "3    0.292331 -0.147325  \n",
       "4   -0.001799 -0.174247  \n",
       "..        ...       ...  \n",
       "387 -0.166382  0.015283  \n",
       "388  0.291104  0.119184  \n",
       "389 -0.221787  0.045670  \n",
       "390  0.114183 -0.029629  \n",
       "391  0.066608 -0.123692  \n",
       "\n",
       "[392 rows x 9 columns]"
      ]
     },
     "execution_count": 35,
     "metadata": {},
     "output_type": "execute_result"
    }
   ],
   "source": [
    "df_pca1"
   ]
  },
  {
   "cell_type": "code",
   "execution_count": 62,
   "metadata": {},
   "outputs": [],
   "source": [
    "cols_pca = [ f'PC{i}' for i in range(1, pca.n_components_+1)]"
   ]
  },
  {
   "cell_type": "code",
   "execution_count": 63,
   "metadata": {},
   "outputs": [
    {
     "data": {
      "text/plain": [
       "['PC1', 'PC2', 'PC3', 'PC4', 'PC5', 'PC6', 'PC7', 'PC8', 'PC9']"
      ]
     },
     "execution_count": 63,
     "metadata": {},
     "output_type": "execute_result"
    }
   ],
   "source": [
    "cols_pca"
   ]
  },
  {
   "cell_type": "code",
   "execution_count": 64,
   "metadata": {},
   "outputs": [],
   "source": [
    "df_pca =pd.DataFrame(df_pca ,columns= cols_pca , index=df_mpg.index)"
   ]
  },
  {
   "cell_type": "code",
   "execution_count": 65,
   "metadata": {},
   "outputs": [
    {
     "data": {
      "text/html": [
       "<div>\n",
       "<style scoped>\n",
       "    .dataframe tbody tr th:only-of-type {\n",
       "        vertical-align: middle;\n",
       "    }\n",
       "\n",
       "    .dataframe tbody tr th {\n",
       "        vertical-align: top;\n",
       "    }\n",
       "\n",
       "    .dataframe thead th {\n",
       "        text-align: right;\n",
       "    }\n",
       "</style>\n",
       "<table border=\"1\" class=\"dataframe\">\n",
       "  <thead>\n",
       "    <tr style=\"text-align: right;\">\n",
       "      <th></th>\n",
       "      <th>PC1</th>\n",
       "      <th>PC2</th>\n",
       "      <th>PC3</th>\n",
       "      <th>PC4</th>\n",
       "      <th>PC5</th>\n",
       "      <th>PC6</th>\n",
       "      <th>PC7</th>\n",
       "      <th>PC8</th>\n",
       "      <th>PC9</th>\n",
       "    </tr>\n",
       "    <tr>\n",
       "      <th>name</th>\n",
       "      <th></th>\n",
       "      <th></th>\n",
       "      <th></th>\n",
       "      <th></th>\n",
       "      <th></th>\n",
       "      <th></th>\n",
       "      <th></th>\n",
       "      <th></th>\n",
       "      <th></th>\n",
       "    </tr>\n",
       "  </thead>\n",
       "  <tbody>\n",
       "    <tr>\n",
       "      <th>chevrolet chevelle malibu</th>\n",
       "      <td>2.768102</td>\n",
       "      <td>0.653669</td>\n",
       "      <td>0.661643</td>\n",
       "      <td>-0.585333</td>\n",
       "      <td>-0.382837</td>\n",
       "      <td>0.750140</td>\n",
       "      <td>-0.468860</td>\n",
       "      <td>-0.095520</td>\n",
       "      <td>-0.120586</td>\n",
       "    </tr>\n",
       "    <tr>\n",
       "      <th>buick skylark 320</th>\n",
       "      <td>3.561796</td>\n",
       "      <td>0.961842</td>\n",
       "      <td>0.474659</td>\n",
       "      <td>-0.511149</td>\n",
       "      <td>-0.199102</td>\n",
       "      <td>0.489416</td>\n",
       "      <td>0.009370</td>\n",
       "      <td>0.213293</td>\n",
       "      <td>0.073620</td>\n",
       "    </tr>\n",
       "    <tr>\n",
       "      <th>plymouth satellite</th>\n",
       "      <td>3.070489</td>\n",
       "      <td>0.942217</td>\n",
       "      <td>0.473735</td>\n",
       "      <td>-0.870489</td>\n",
       "      <td>-0.313946</td>\n",
       "      <td>0.723960</td>\n",
       "      <td>-0.214271</td>\n",
       "      <td>0.143188</td>\n",
       "      <td>-0.083888</td>\n",
       "    </tr>\n",
       "    <tr>\n",
       "      <th>amc rebel sst</th>\n",
       "      <td>3.020337</td>\n",
       "      <td>0.789743</td>\n",
       "      <td>0.661786</td>\n",
       "      <td>-0.571355</td>\n",
       "      <td>-0.319349</td>\n",
       "      <td>0.528048</td>\n",
       "      <td>-0.229069</td>\n",
       "      <td>0.292331</td>\n",
       "      <td>-0.147325</td>\n",
       "    </tr>\n",
       "    <tr>\n",
       "      <th>ford torino</th>\n",
       "      <td>3.007717</td>\n",
       "      <td>0.965885</td>\n",
       "      <td>0.517871</td>\n",
       "      <td>-0.996022</td>\n",
       "      <td>-0.358667</td>\n",
       "      <td>0.575475</td>\n",
       "      <td>-0.469787</td>\n",
       "      <td>-0.001799</td>\n",
       "      <td>-0.174247</td>\n",
       "    </tr>\n",
       "    <tr>\n",
       "      <th>...</th>\n",
       "      <td>...</td>\n",
       "      <td>...</td>\n",
       "      <td>...</td>\n",
       "      <td>...</td>\n",
       "      <td>...</td>\n",
       "      <td>...</td>\n",
       "      <td>...</td>\n",
       "      <td>...</td>\n",
       "      <td>...</td>\n",
       "    </tr>\n",
       "    <tr>\n",
       "      <th>ford mustang gl</th>\n",
       "      <td>-0.982108</td>\n",
       "      <td>-1.420514</td>\n",
       "      <td>-1.047497</td>\n",
       "      <td>-0.683221</td>\n",
       "      <td>-0.120900</td>\n",
       "      <td>-0.637493</td>\n",
       "      <td>0.201264</td>\n",
       "      <td>-0.166382</td>\n",
       "      <td>0.015283</td>\n",
       "    </tr>\n",
       "    <tr>\n",
       "      <th>vw pickup</th>\n",
       "      <td>-4.036985</td>\n",
       "      <td>-2.127140</td>\n",
       "      <td>-0.261675</td>\n",
       "      <td>1.418216</td>\n",
       "      <td>1.221944</td>\n",
       "      <td>1.416191</td>\n",
       "      <td>0.579246</td>\n",
       "      <td>0.291104</td>\n",
       "      <td>0.119184</td>\n",
       "    </tr>\n",
       "    <tr>\n",
       "      <th>dodge rampage</th>\n",
       "      <td>-1.126808</td>\n",
       "      <td>-0.789214</td>\n",
       "      <td>-1.522869</td>\n",
       "      <td>-2.097001</td>\n",
       "      <td>-0.237654</td>\n",
       "      <td>-0.251873</td>\n",
       "      <td>-0.030813</td>\n",
       "      <td>-0.221787</td>\n",
       "      <td>0.045670</td>\n",
       "    </tr>\n",
       "    <tr>\n",
       "      <th>ford ranger</th>\n",
       "      <td>-1.525719</td>\n",
       "      <td>-1.951240</td>\n",
       "      <td>-0.692443</td>\n",
       "      <td>0.005939</td>\n",
       "      <td>-0.179771</td>\n",
       "      <td>-0.454670</td>\n",
       "      <td>0.318433</td>\n",
       "      <td>0.114183</td>\n",
       "      <td>-0.029629</td>\n",
       "    </tr>\n",
       "    <tr>\n",
       "      <th>chevy s-10</th>\n",
       "      <td>-1.672596</td>\n",
       "      <td>-2.085532</td>\n",
       "      <td>-0.736482</td>\n",
       "      <td>0.181318</td>\n",
       "      <td>-0.129705</td>\n",
       "      <td>-0.153139</td>\n",
       "      <td>0.591007</td>\n",
       "      <td>0.066608</td>\n",
       "      <td>-0.123692</td>\n",
       "    </tr>\n",
       "  </tbody>\n",
       "</table>\n",
       "<p>392 rows × 9 columns</p>\n",
       "</div>"
      ],
      "text/plain": [
       "                                PC1       PC2       PC3       PC4       PC5  \\\n",
       "name                                                                          \n",
       "chevrolet chevelle malibu  2.768102  0.653669  0.661643 -0.585333 -0.382837   \n",
       "buick skylark 320          3.561796  0.961842  0.474659 -0.511149 -0.199102   \n",
       "plymouth satellite         3.070489  0.942217  0.473735 -0.870489 -0.313946   \n",
       "amc rebel sst              3.020337  0.789743  0.661786 -0.571355 -0.319349   \n",
       "ford torino                3.007717  0.965885  0.517871 -0.996022 -0.358667   \n",
       "...                             ...       ...       ...       ...       ...   \n",
       "ford mustang gl           -0.982108 -1.420514 -1.047497 -0.683221 -0.120900   \n",
       "vw pickup                 -4.036985 -2.127140 -0.261675  1.418216  1.221944   \n",
       "dodge rampage             -1.126808 -0.789214 -1.522869 -2.097001 -0.237654   \n",
       "ford ranger               -1.525719 -1.951240 -0.692443  0.005939 -0.179771   \n",
       "chevy s-10                -1.672596 -2.085532 -0.736482  0.181318 -0.129705   \n",
       "\n",
       "                                PC6       PC7       PC8       PC9  \n",
       "name                                                               \n",
       "chevrolet chevelle malibu  0.750140 -0.468860 -0.095520 -0.120586  \n",
       "buick skylark 320          0.489416  0.009370  0.213293  0.073620  \n",
       "plymouth satellite         0.723960 -0.214271  0.143188 -0.083888  \n",
       "amc rebel sst              0.528048 -0.229069  0.292331 -0.147325  \n",
       "ford torino                0.575475 -0.469787 -0.001799 -0.174247  \n",
       "...                             ...       ...       ...       ...  \n",
       "ford mustang gl           -0.637493  0.201264 -0.166382  0.015283  \n",
       "vw pickup                  1.416191  0.579246  0.291104  0.119184  \n",
       "dodge rampage             -0.251873 -0.030813 -0.221787  0.045670  \n",
       "ford ranger               -0.454670  0.318433  0.114183 -0.029629  \n",
       "chevy s-10                -0.153139  0.591007  0.066608 -0.123692  \n",
       "\n",
       "[392 rows x 9 columns]"
      ]
     },
     "execution_count": 65,
     "metadata": {},
     "output_type": "execute_result"
    }
   ],
   "source": [
    "df_pca"
   ]
  },
  {
   "cell_type": "markdown",
   "metadata": {},
   "source": [
    "### Visualize Components & Clusters"
   ]
  },
  {
   "cell_type": "markdown",
   "metadata": {},
   "source": [
    "- A **scatterplot** with `PC1` & `PC2`\n",
    "- Colour points by cluster\n",
    "- Are they **mixed** now?"
   ]
  },
  {
   "cell_type": "code",
   "execution_count": 66,
   "metadata": {},
   "outputs": [],
   "source": [
    "import plotly.express as px"
   ]
  },
  {
   "cell_type": "code",
   "execution_count": 67,
   "metadata": {},
   "outputs": [
    {
     "data": {
      "application/vnd.plotly.v1+json": {
       "config": {
        "plotlyServerURL": "https://plot.ly"
       },
       "data": [
        {
         "hovertemplate": "PC1=%{x}<br>PC2=%{y}<br>color=%{marker.color}<extra></extra>",
         "legendgroup": "",
         "marker": {
          "color": [
           2,
           2,
           2,
           2,
           2,
           2,
           2,
           2,
           2,
           2,
           2,
           2,
           2,
           2,
           0,
           1,
           1,
           1,
           0,
           0,
           0,
           0,
           0,
           0,
           1,
           2,
           2,
           2,
           2,
           0,
           1,
           0,
           1,
           1,
           1,
           1,
           1,
           2,
           2,
           2,
           2,
           2,
           2,
           2,
           1,
           1,
           1,
           1,
           1,
           0,
           0,
           0,
           0,
           0,
           0,
           1,
           0,
           1,
           0,
           1,
           1,
           2,
           2,
           2,
           2,
           2,
           2,
           2,
           2,
           2,
           0,
           2,
           2,
           2,
           2,
           0,
           0,
           0,
           0,
           1,
           0,
           0,
           1,
           0,
           2,
           2,
           2,
           2,
           2,
           2,
           2,
           2,
           2,
           2,
           2,
           2,
           1,
           1,
           1,
           1,
           1,
           0,
           2,
           2,
           2,
           2,
           1,
           0,
           1,
           0,
           0,
           1,
           1,
           0,
           2,
           2,
           0,
           0,
           0,
           0,
           2,
           0,
           0,
           2,
           1,
           1,
           1,
           0,
           1,
           0,
           1,
           1,
           1,
           1,
           2,
           2,
           2,
           2,
           2,
           0,
           0,
           0,
           0,
           0,
           1,
           0,
           0,
           0,
           0,
           0,
           1,
           1,
           1,
           1,
           2,
           2,
           2,
           2,
           1,
           1,
           1,
           1,
           1,
           2,
           2,
           0,
           1,
           1,
           1,
           0,
           0,
           0,
           1,
           0,
           1,
           0,
           0,
           0,
           0,
           0,
           0,
           0,
           1,
           1,
           0,
           2,
           2,
           2,
           2,
           1,
           1,
           1,
           1,
           1,
           1,
           0,
           0,
           1,
           1,
           1,
           1,
           0,
           0,
           0,
           1,
           0,
           2,
           1,
           0,
           1,
           2,
           2,
           2,
           2,
           0,
           1,
           0,
           1,
           0,
           2,
           1,
           2,
           2,
           1,
           1,
           1,
           1,
           2,
           2,
           2,
           2,
           0,
           1,
           0,
           1,
           1,
           1,
           0,
           0,
           0,
           0,
           0,
           0,
           1,
           0,
           0,
           0,
           1,
           2,
           2,
           1,
           1,
           1,
           1,
           1,
           1,
           1,
           1,
           1,
           1,
           2,
           2,
           2,
           2,
           1,
           0,
           0,
           1,
           0,
           1,
           1,
           0,
           1,
           1,
           0,
           1,
           0,
           0,
           1,
           1,
           1,
           1,
           1,
           2,
           2,
           2,
           2,
           2,
           2,
           2,
           2,
           0,
           0,
           1,
           1,
           1,
           2,
           0,
           1,
           1,
           1,
           0,
           0,
           1,
           1,
           1,
           1,
           0,
           0,
           1,
           0,
           1,
           1,
           1,
           1,
           0,
           0,
           0,
           0,
           0,
           0,
           1,
           0,
           0,
           0,
           0,
           0,
           0,
           0,
           0,
           0,
           0,
           0,
           0,
           1,
           1,
           1,
           1,
           1,
           0,
           1,
           0,
           0,
           0,
           0,
           0,
           1,
           1,
           1,
           0,
           0,
           0,
           0,
           0,
           0,
           0,
           0,
           0,
           1,
           1,
           1,
           1,
           1,
           1,
           1,
           1,
           1,
           1,
           1,
           0,
           0,
           0,
           1,
           1,
           0,
           0,
           0,
           0,
           0,
           0,
           1,
           1,
           1,
           1,
           0,
           1,
           1,
           1,
           0,
           1,
           1,
           1
          ],
          "coloraxis": "coloraxis",
          "symbol": "circle"
         },
         "mode": "markers",
         "name": "",
         "orientation": "v",
         "showlegend": false,
         "type": "scatter",
         "x": [
          2.768101540871218,
          3.5617956121137855,
          3.0704887096489473,
          3.020336929873965,
          3.007717109083675,
          4.632490431458017,
          5.094469429700947,
          5.016170883199186,
          5.090410338149976,
          4.311461998206059,
          3.8159430065972666,
          3.7997906445666967,
          3.817831087801164,
          4.474529595624324,
          -1.511709090032722,
          0.7187417879547205,
          0.9077937459259197,
          0.5158811834731746,
          -1.8539919546004495,
          -2.337105206283634,
          -1.1708840167191017,
          -0.9436398046030893,
          -1.2505822929287729,
          -0.6639071167898438,
          0.6808411089928279,
          4.539184109214653,
          3.9829985413493474,
          4.2165074953613875,
          3.7956717556448845,
          -1.9088774646442976,
          -0.619231158427669,
          -1.5902151179477677,
          1.1250318471951035,
          1.435777384636931,
          1.3838557788447654,
          1.155073687111207,
          1.2472056740007094,
          3.7469755307411203,
          4.203465298813928,
          3.469303293081093,
          3.3300870483405993,
          4.50968736198196,
          4.285807745344449,
          4.517123646681602,
          1.479522233419897,
          -0.7623053353808523,
          1.3114399566376749,
          1.2188532859466845,
          -0.3728938521711008,
          -1.2518077657249247,
          -2.212931357517504,
          -1.668684076477319,
          -3.004571896267772,
          -3.135812489521802,
          -2.1642348431144685,
          -1.5088048394367783,
          -1.7100573238164953,
          -0.9942144973557242,
          -2.3018447569371916,
          -0.5860569270947419,
          -0.5555872202245108,
          3.7700567820514763,
          4.066901911248673,
          3.1997288007521294,
          3.4482602630809307,
          3.0177670685735394,
          4.858808968921738,
          3.6387158952704888,
          3.715720906747915,
          4.236928551522718,
          -1.6400477727138774,
          3.1244138609937004,
          2.990526928281098,
          2.980132134875459,
          3.175779631805892,
          -0.2589961299285349,
          -1.323437653982443,
          -1.0898009652878242,
          -1.8307891304318469,
          -0.4805829635857063,
          -2.125791803000297,
          -1.4192834730357569,
          -0.9376428681278565,
          -2.158927141710039,
          3.6446429006767427,
          3.1070904723215795,
          3.292567830344468,
          2.867236257481446,
          3.070861881342404,
          4.757051654295556,
          3.845955853909782,
          3.5991673731083718,
          3.1491456672903997,
          4.86743840278331,
          5.173147058401887,
          3.7364153432611458,
          0.9929184144486708,
          1.0719897853531273,
          0.9343284597173934,
          0.8734419932790236,
          0.49333110411785364,
          -2.494208199410836,
          4.005886047171806,
          4.222301906026265,
          3.8880996463395485,
          3.971669592337553,
          0.9532581108370882,
          -2.0216999762290953,
          -0.8725677814209033,
          -1.7424167430361002,
          -1.8117452012346846,
          -0.6670813340646505,
          0.5258002203078571,
          -1.4058721965382137,
          3.2396643945111494,
          4.644395444945272,
          -2.622843658548154,
          -1.439505917467649,
          -0.7636302480116363,
          -0.4825311486628632,
          3.0330227307451025,
          -0.7025633473933524,
          -0.2527186232612685,
          3.7717003042158974,
          0.628384371703416,
          0.8111352589638805,
          1.1825340937849131,
          -3.03679124380329,
          -0.8623283927242303,
          -3.369686347068877,
          -0.7981152121151961,
          1.3391447623695305,
          1.311102965271686,
          1.1643311309340392,
          2.83714446668678,
          3.4787800717914115,
          3.2861331684780053,
          2.9805162531295943,
          2.9585480837448066,
          -1.7869380049213204,
          -1.9036894369634676,
          -1.4780739790055182,
          -3.110431448376589,
          -3.1051013923247326,
          -1.101091807025937,
          -1.6180991767383155,
          -1.4140304768102707,
          -1.6302847523868471,
          -1.90339725608961,
          -2.1723606377205624,
          0.8460061259987729,
          1.1807903117335456,
          0.5285506541454442,
          0.5385469010258633,
          3.931521616937018,
          3.2038747837893315,
          3.063283820780725,
          3.431025654813889,
          0.958003983103366,
          1.2516833355545147,
          1.2586800088300438,
          0.8616644650541557,
          0.910580328757528,
          1.7566640632710426,
          2.5505510377939418,
          -2.471967394462309,
          -0.6320963985296504,
          0.7141595356741184,
          -0.8398317773638221,
          -1.4069657942440763,
          -1.7989168316292194,
          -1.8446516954605476,
          0.7121827673582913,
          -1.9060545256379364,
          0.707966606895386,
          -1.0128297554612462,
          -1.1239902617662973,
          -0.7506730887270656,
          -0.7599097807329924,
          -3.2168648741469092,
          -1.5803503388483455,
          -1.6905586702330213,
          -0.5333364418736907,
          -1.2740517450200866,
          -1.6879493197806332,
          2.7916088423960153,
          3.0027560622880407,
          2.4855180308359444,
          3.2523574799124377,
          0.7371560602862702,
          1.0208950620039177,
          0.05267333504321242,
          0.3724732918253316,
          -2.248382290914607,
          -1.833162032896757,
          -1.97907658514904,
          -3.26268210945713,
          0.8169865186749331,
          0.4548819514755421,
          1.2193785396388395,
          0.7951634522625587,
          -1.8361280647836749,
          -2.941571414204026,
          -2.5224156574296877,
          -0.6911463687104754,
          -0.6490118810553855,
          3.0138394903681527,
          -1.2869765338572394,
          -0.6343577993866374,
          0.52244772016267,
          3.572238056800296,
          3.2494110824627316,
          2.5560649305340597,
          2.856201479678187,
          -3.0528310144505357,
          -1.2438577654569452,
          -2.9838007640191524,
          -0.821421993035352,
          -3.071122840200576,
          2.6780728692684366,
          1.6705027965101815,
          2.8353363230094226,
          2.6095896109782664,
          1.1369316499361055,
          0.7799964874419747,
          0.8005115759171747,
          0.735162636898158,
          3.752150197665228,
          3.4298229470206065,
          3.824916023414914,
          2.9963455292088743,
          -1.9525234911210596,
          -0.5841321992816298,
          -2.5937957048699842,
          -0.6397553448439851,
          -1.7359023556024242,
          -1.568947958181782,
          -2.831782260486329,
          -1.8733659128379725,
          -0.9446043305140474,
          -0.7207093406373247,
          -1.6862893981364522,
          -3.6269463662439416,
          -1.909595584283505,
          -3.5171867536375294,
          -3.515353691118172,
          -3.358355808126506,
          1.4739357093847067,
          2.4019451841723467,
          2.251875846060634,
          0.6296263197820996,
          0.26277141672702653,
          0.30725263453586493,
          -0.6652570194184618,
          0.6268718336499043,
          0.5054857163793574,
          0.7993570271509532,
          0.245091732397538,
          0.7697582918910981,
          1.2516711529636146,
          2.268711187642098,
          1.7874147479698739,
          2.330030634535997,
          2.606620854589843,
          -1.6234829377193107,
          -1.8786763636182613,
          -2.067249905616301,
          -1.3536385428363504,
          -1.6461383377880132,
          -0.448020675472114,
          -0.7276224505290722,
          -1.878461296689781,
          -0.6955336689261916,
          0.3877145287024384,
          -0.903597073662921,
          0.43100558655647847,
          -2.2419767612277792,
          -2.797884011646174,
          0.7755745919635846,
          0.0654552796816591,
          -0.6796522865491975,
          0.3467593146285248,
          0.6895787816978692,
          2.160678457624367,
          2.2386682110746827,
          2.6954387354066167,
          2.2169802029298324,
          2.8747761749764256,
          2.729367640272803,
          1.785823932335057,
          2.7656218242804966,
          -2.264372777264806,
          -3.0970644526989806,
          -1.7520969825984145,
          -0.9711724669678109,
          -1.1135382824302185,
          1.8427048456742507,
          -2.2345552088695233,
          0.44412145517593604,
          -1.5131582966792472,
          -1.7047376457790087,
          -3.3324107263556955,
          -2.5054262324792576,
          -0.8935343743209302,
          0.2728335805006966,
          0.2721758138466127,
          -0.937212790153069,
          -2.6585199479274366,
          -3.7123790526783513,
          -1.7395785660729697,
          -3.3895470843522744,
          -0.9708537569008396,
          -1.0133686248772078,
          -0.9699683698502276,
          0.32564967852517324,
          -2.375767649067532,
          -2.1975351428076606,
          -2.7332460697898475,
          -2.6637674696137714,
          -2.741827687325792,
          -3.9355698291115977,
          -0.5498511089865387,
          -3.7785269607271794,
          -3.766541926817839,
          -3.7896558111083034,
          -2.286168792679163,
          -2.145097488283883,
          -3.5478151473592265,
          -3.2506028912958116,
          -2.4631640868581566,
          -0.862924187603814,
          -2.1429243842648424,
          -2.0054091025170004,
          -2.9371011292583087,
          -1.1232964053831673,
          -1.0292636015211827,
          -0.7168250917931694,
          0.3096449789395401,
          -1.052275052270056,
          -3.799779490281288,
          -2.4270417342522674,
          -3.5048707066863973,
          -3.252043854574707,
          -3.730978421673933,
          -3.5542588803310164,
          -3.225358810136074,
          -1.8643561429713587,
          -2.0530921851818023,
          -2.090766002939554,
          -2.231237312217606,
          -2.8254424824464315,
          -2.91232328237067,
          -2.3400295843284904,
          -2.8423414523621005,
          -1.8800185769476299,
          -1.5310304021608694,
          -0.8406188760179021,
          -0.9230973863763251,
          0.614366937634298,
          1.1339251266639307,
          0.09846033132955342,
          0.5218453395458189,
          -1.5664203412075781,
          -1.41156950486644,
          -1.8063364794987091,
          -1.4461625890949432,
          -1.2758136368287978,
          -1.1423617825985692,
          -0.815836951931984,
          -2.6266734645686425,
          -3.6007500845194307,
          -3.2832201745076843,
          -2.101130925767055,
          -2.197750340570526,
          -2.842356562403251,
          -3.0022562131892445,
          -3.151577178875639,
          -3.3962509432358208,
          -3.171311038787438,
          -3.4912715676900086,
          -0.02976148337433218,
          -0.6135959456427883,
          -0.8064912552310036,
          0.43559676794770624,
          -2.190278328734009,
          -1.411546000805978,
          -0.9799933742928885,
          -0.9821083541071532,
          -4.036985123492386,
          -1.1268082836860314,
          -1.5257188064315703,
          -1.6725955797061611
         ],
         "xaxis": "x",
         "y": [
          0.6536686698172107,
          0.9618424410466513,
          0.9422170408259083,
          0.7897426311564746,
          0.9658848801234108,
          1.3856317199998154,
          1.6903140188207062,
          1.7412913094917397,
          1.5548599921028239,
          1.5989644651082178,
          1.2468001591473192,
          1.5088024728722194,
          1.1996965708857104,
          1.6192235455454083,
          2.4471909246719803,
          -0.15828156352214517,
          -0.1194788379108267,
          -0.28211116908869316,
          2.477599361160023,
          -0.2450064260787833,
          0.4585260711910433,
          0.9813183200997999,
          0.5204480644827172,
          1.4452685859181185,
          -0.09238511376686354,
          0.845421811677407,
          0.596003258526481,
          0.8956975398278197,
          -0.026758099262872315,
          2.3833117242062163,
          -0.3234959985966575,
          2.5163906703568637,
          0.21611405288568247,
          -0.181712842381326,
          -0.20912618199584693,
          -0.2924197779863674,
          -0.21562473875451998,
          0.7674314988142199,
          0.904102939703836,
          0.4537395827492992,
          0.5149241805420612,
          0.9202583268148081,
          0.7849191070376174,
          0.7962886945067544,
          0.18931913708022124,
          -0.9726941987093682,
          -0.13747243298207434,
          -0.11616811897460955,
          -0.0748077020618434,
          0.9606031680114577,
          -0.06905627550621729,
          0.7814736347329232,
          1.5024668600328224,
          1.6733350185849507,
          -0.016571069624199963,
          -1.2374061118834618,
          2.181888565295983,
          -0.7037336892581534,
          -0.8749253158047524,
          -1.0272656738098875,
          -0.5637603353572269,
          0.6759449061474159,
          0.7323671916642902,
          0.33159087568377804,
          0.4418991678282285,
          0.664999039787268,
          1.1048484639522407,
          0.36063172471550936,
          0.3990768855892784,
          0.746194218821556,
          2.527935225539342,
          0.5037839493161869,
          0.1411861739247962,
          -0.13330685508829876,
          0.259058817362617,
          0.9394536711871764,
          0.14909658748123666,
          -0.04467302791601402,
          0.09490755688720376,
          -0.49656386660449536,
          1.8935230537163417,
          2.352458184044198,
          -0.3982840395967299,
          1.9654840878052116,
          0.48814719505065046,
          0.5884878687200885,
          0.31167969088354847,
          0.004144671501017716,
          0.4170027421384726,
          0.8474389601999839,
          0.4886650066629364,
          0.3725975468908916,
          0.07583472781987621,
          1.0377934014973893,
          1.096073068176274,
          0.8279535841508694,
          -0.5293443757997123,
          -0.7955520435279626,
          -0.4689580728824189,
          -0.6240533753742699,
          -0.5317283302717333,
          -0.6146427126770714,
          0.14991348963541978,
          0.4951477529589437,
          0.4326220505001582,
          0.5864474419466887,
          -0.29896838112096913,
          1.497843068867375,
          -1.2362530180371507,
          1.9253376380640295,
          2.4070432245337523,
          -0.9812784945960484,
          -0.1074663260308858,
          0.5307727526886317,
          0.29531028642370366,
          1.3709932540772924,
          -0.37060630887151824,
          0.4593853364457421,
          0.803147472260344,
          0.6798739646054126,
          0.6789091257072584,
          0.8918578705591249,
          2.6048191608440847,
          0.8762465612864423,
          -0.6990025521584804,
          -0.5670561899875257,
          -0.7242111322323797,
          1.2243498672423454,
          -0.8291486690915528,
          0.8856681022677257,
          -0.9366075707462116,
          -0.7515270475094633,
          -0.84510822146628,
          -0.6472816530027735,
          -0.007322082903606142,
          -0.030212571325995086,
          0.13346307381914607,
          -0.3443431384494699,
          -0.18388386867439332,
          0.21599683190812824,
          0.3088973428691101,
          0.5244119569310582,
          1.553696451680667,
          1.1800718271176769,
          -0.5351782707954801,
          0.3638266371841503,
          0.5927532432904644,
          2.0775290712035677,
          1.9632005460381232,
          0.19624585719811138,
          -0.7100904572545188,
          -0.6493880927758358,
          -1.6428051858037653,
          -1.3858979131819764,
          0.47498693921648855,
          -0.07296449089241108,
          -0.13713736908747087,
          0.022102115547087187,
          -1.4498290332825263,
          -1.064818626897246,
          -1.1006720958322203,
          -1.2166816677579813,
          -0.45686148669467436,
          -0.18734746702333793,
          0.22119249727540652,
          1.6698006875200258,
          -0.9752132195384924,
          -0.6678942044385826,
          -1.2469990709672143,
          2.2126562698007812,
          0.0713478015794532,
          1.6554262284028423,
          -0.4424774894012832,
          0.4615592601169106,
          -0.8993531024109707,
          0.4533091969904492,
          0.0739598569596559,
          0.5474481096650259,
          0.8083823955920562,
          1.2862304277594818,
          0.20351837217316116,
          -0.02350050531828729,
          -0.6823447508101858,
          -1.2127453060570719,
          0.2355029066143977,
          -0.0454276455452145,
          0.027116591313183225,
          -0.2890327266151604,
          0.08408849515691696,
          -0.6928612982628419,
          -0.5185458985377358,
          -1.170274978016758,
          -1.1058179495846303,
          -2.116659630005287,
          -2.0296157652050164,
          0.3347734180949132,
          1.2081918933397708,
          -1.0748322598262539,
          -1.725324765399825,
          -0.75776886974914,
          -1.0798970879027614,
          0.6692273711638221,
          1.371941493780454,
          1.517211223050559,
          -0.6008922802621737,
          0.28568696014592315,
          0.02441194575420813,
          -0.8078772508648059,
          1.9121234022159745,
          0.2504297519066333,
          0.3476363789560624,
          0.18808722427222918,
          -0.3882024408153347,
          -0.09668822523783993,
          1.0239501322415003,
          -0.8468051406687593,
          -0.5848645457913634,
          -0.8423121992908589,
          1.3034269058035903,
          -0.012058337355938087,
          -1.2924589330040817,
          -0.2058571273586728,
          -0.498521011651198,
          -0.8726206763309674,
          -1.000069884007277,
          -1.1621849722868876,
          -1.3740036375627853,
          0.4335597612536098,
          0.3227355948485516,
          0.3133522524081845,
          -0.3192754389696705,
          0.2410771949995389,
          -0.9831774917246026,
          1.1370031965468466,
          -0.9528186836280266,
          -1.3071352621647971,
          -1.026091133090795,
          1.370750589273022,
          0.28516827857001853,
          1.8999861664070434,
          0.7273943771946538,
          2.1031520853300583,
          -1.2592005313250345,
          -0.9818786913457447,
          0.6787877294030374,
          0.8756864935144049,
          1.2059302259768172,
          -0.8018043780174906,
          -0.25284949264436063,
          -0.19298511612064018,
          -1.4656712652216797,
          -1.357615558828656,
          -1.0173435143052094,
          -0.9841190272904061,
          -1.1745016546154594,
          -1.2170363454176414,
          -0.9140468650968556,
          -1.172187909610881,
          -1.355495701348521,
          -0.6921900887398451,
          -0.20829191232438993,
          -0.1463066073766549,
          0.09698900723450554,
          -0.3394201661191465,
          -1.2919052260623485,
          1.7960744347735913,
          1.7391078639633522,
          -0.9324400220526818,
          1.7386660236458886,
          -1.0799904302418943,
          -1.3570159064611165,
          1.7211165920489635,
          0.0965304086096972,
          0.6249023029455685,
          0.18222541188190977,
          0.30767762021551237,
          0.02101346023857087,
          1.2459202669891263,
          -0.8815647470873968,
          -1.500441125988015,
          -1.3787198678945347,
          -1.4811991592124725,
          -1.1079053849765828,
          -0.7578976865132783,
          -0.43742874992662173,
          -0.34798790138248714,
          -0.699883616520346,
          -0.5431528659134583,
          -0.5013144880885372,
          -0.7303202057284306,
          -0.25260724736873275,
          0.07372199498194598,
          1.3396727272046813,
          -0.9944601202630483,
          -1.0758143001365184,
          -0.8943427673573793,
          -1.1452656197464444,
          -1.7067888138103395,
          -2.132361707941512,
          -0.8639099143221637,
          -1.1395188852659313,
          0.7010328466416614,
          -0.09371413654340788,
          -1.1793739742631713,
          -0.2355600859874517,
          -0.48874192859671467,
          -0.7491393006238642,
          -0.1701405618008346,
          0.6071673746916818,
          -1.316627196835149,
          1.0299118366146394,
          -1.3529214754318277,
          -1.6263334610096882,
          -1.9315870804417894,
          -1.6567794861407252,
          -0.29635009541177093,
          1.3450653525099425,
          0.9264144764088776,
          1.4069658046904263,
          1.3064299203383118,
          0.7261014834131542,
          -0.9253299030179978,
          0.5490896583238422,
          -1.4921914341045244,
          -1.8238576386430343,
          -1.0628121949930018,
          -1.356619036018475,
          1.429493483711396,
          0.7976942411578906,
          -0.27007032746824067,
          2.26814507558349,
          1.9221343212009976,
          -0.13760134367887977,
          0.9932328252320076,
          -1.3420704983243896,
          -1.456967618090032,
          -1.077323876690578,
          -0.6405260188073476,
          -0.8986398162090821,
          0.8123890882804229,
          -1.6243320231295255,
          0.9782495843906719,
          0.7486385121748166,
          0.45130990364777,
          0.7671682752999825,
          1.0395156964581536,
          -1.3748356390668648,
          -1.5649905743055983,
          -2.2856383949642214,
          -0.1461613054177614,
          1.3357493051173743,
          0.9468857332815227,
          1.4092641436297857,
          0.6898243083623744,
          -1.1331039023303489,
          -1.0146147579305862,
          1.9256176724975558,
          1.7574346225649178,
          -1.1789495215790775,
          -1.7279804358010733,
          -1.497826137475452,
          -1.4352940074107412,
          -2.0593450689143933,
          -1.8926109480517255,
          -1.8248180014991453,
          -1.5413951136180664,
          -1.4974537155196215,
          -1.7820476960679472,
          -1.4999656556412555,
          -0.4268711774902708,
          0.5686411517508937,
          0.7043324593256896,
          -1.451853029723638,
          -1.8210360638815475,
          1.2946267712714037,
          1.2118242836555102,
          0.8016068642905702,
          1.079509341278826,
          1.001318555313412,
          0.8830780596349701,
          -1.3706122178395719,
          -1.6885981848479792,
          -1.1873633207970926,
          -1.051982441000993,
          1.4434342837483916,
          -1.0440084618528827,
          -1.6786386788447056,
          -1.420514405590347,
          -2.1271400067947894,
          -0.7892139437732671,
          -1.9512401501478516,
          -2.085532141866373
         ],
         "yaxis": "y"
        }
       ],
       "layout": {
        "coloraxis": {
         "colorbar": {
          "title": {
           "text": "color"
          }
         },
         "colorscale": [
          [
           0,
           "#0d0887"
          ],
          [
           0.1111111111111111,
           "#46039f"
          ],
          [
           0.2222222222222222,
           "#7201a8"
          ],
          [
           0.3333333333333333,
           "#9c179e"
          ],
          [
           0.4444444444444444,
           "#bd3786"
          ],
          [
           0.5555555555555556,
           "#d8576b"
          ],
          [
           0.6666666666666666,
           "#ed7953"
          ],
          [
           0.7777777777777778,
           "#fb9f3a"
          ],
          [
           0.8888888888888888,
           "#fdca26"
          ],
          [
           1,
           "#f0f921"
          ]
         ]
        },
        "legend": {
         "tracegroupgap": 0
        },
        "margin": {
         "t": 60
        },
        "template": {
         "data": {
          "bar": [
           {
            "error_x": {
             "color": "#2a3f5f"
            },
            "error_y": {
             "color": "#2a3f5f"
            },
            "marker": {
             "line": {
              "color": "#E5ECF6",
              "width": 0.5
             },
             "pattern": {
              "fillmode": "overlay",
              "size": 10,
              "solidity": 0.2
             }
            },
            "type": "bar"
           }
          ],
          "barpolar": [
           {
            "marker": {
             "line": {
              "color": "#E5ECF6",
              "width": 0.5
             },
             "pattern": {
              "fillmode": "overlay",
              "size": 10,
              "solidity": 0.2
             }
            },
            "type": "barpolar"
           }
          ],
          "carpet": [
           {
            "aaxis": {
             "endlinecolor": "#2a3f5f",
             "gridcolor": "white",
             "linecolor": "white",
             "minorgridcolor": "white",
             "startlinecolor": "#2a3f5f"
            },
            "baxis": {
             "endlinecolor": "#2a3f5f",
             "gridcolor": "white",
             "linecolor": "white",
             "minorgridcolor": "white",
             "startlinecolor": "#2a3f5f"
            },
            "type": "carpet"
           }
          ],
          "choropleth": [
           {
            "colorbar": {
             "outlinewidth": 0,
             "ticks": ""
            },
            "type": "choropleth"
           }
          ],
          "contour": [
           {
            "colorbar": {
             "outlinewidth": 0,
             "ticks": ""
            },
            "colorscale": [
             [
              0,
              "#0d0887"
             ],
             [
              0.1111111111111111,
              "#46039f"
             ],
             [
              0.2222222222222222,
              "#7201a8"
             ],
             [
              0.3333333333333333,
              "#9c179e"
             ],
             [
              0.4444444444444444,
              "#bd3786"
             ],
             [
              0.5555555555555556,
              "#d8576b"
             ],
             [
              0.6666666666666666,
              "#ed7953"
             ],
             [
              0.7777777777777778,
              "#fb9f3a"
             ],
             [
              0.8888888888888888,
              "#fdca26"
             ],
             [
              1,
              "#f0f921"
             ]
            ],
            "type": "contour"
           }
          ],
          "contourcarpet": [
           {
            "colorbar": {
             "outlinewidth": 0,
             "ticks": ""
            },
            "type": "contourcarpet"
           }
          ],
          "heatmap": [
           {
            "colorbar": {
             "outlinewidth": 0,
             "ticks": ""
            },
            "colorscale": [
             [
              0,
              "#0d0887"
             ],
             [
              0.1111111111111111,
              "#46039f"
             ],
             [
              0.2222222222222222,
              "#7201a8"
             ],
             [
              0.3333333333333333,
              "#9c179e"
             ],
             [
              0.4444444444444444,
              "#bd3786"
             ],
             [
              0.5555555555555556,
              "#d8576b"
             ],
             [
              0.6666666666666666,
              "#ed7953"
             ],
             [
              0.7777777777777778,
              "#fb9f3a"
             ],
             [
              0.8888888888888888,
              "#fdca26"
             ],
             [
              1,
              "#f0f921"
             ]
            ],
            "type": "heatmap"
           }
          ],
          "heatmapgl": [
           {
            "colorbar": {
             "outlinewidth": 0,
             "ticks": ""
            },
            "colorscale": [
             [
              0,
              "#0d0887"
             ],
             [
              0.1111111111111111,
              "#46039f"
             ],
             [
              0.2222222222222222,
              "#7201a8"
             ],
             [
              0.3333333333333333,
              "#9c179e"
             ],
             [
              0.4444444444444444,
              "#bd3786"
             ],
             [
              0.5555555555555556,
              "#d8576b"
             ],
             [
              0.6666666666666666,
              "#ed7953"
             ],
             [
              0.7777777777777778,
              "#fb9f3a"
             ],
             [
              0.8888888888888888,
              "#fdca26"
             ],
             [
              1,
              "#f0f921"
             ]
            ],
            "type": "heatmapgl"
           }
          ],
          "histogram": [
           {
            "marker": {
             "pattern": {
              "fillmode": "overlay",
              "size": 10,
              "solidity": 0.2
             }
            },
            "type": "histogram"
           }
          ],
          "histogram2d": [
           {
            "colorbar": {
             "outlinewidth": 0,
             "ticks": ""
            },
            "colorscale": [
             [
              0,
              "#0d0887"
             ],
             [
              0.1111111111111111,
              "#46039f"
             ],
             [
              0.2222222222222222,
              "#7201a8"
             ],
             [
              0.3333333333333333,
              "#9c179e"
             ],
             [
              0.4444444444444444,
              "#bd3786"
             ],
             [
              0.5555555555555556,
              "#d8576b"
             ],
             [
              0.6666666666666666,
              "#ed7953"
             ],
             [
              0.7777777777777778,
              "#fb9f3a"
             ],
             [
              0.8888888888888888,
              "#fdca26"
             ],
             [
              1,
              "#f0f921"
             ]
            ],
            "type": "histogram2d"
           }
          ],
          "histogram2dcontour": [
           {
            "colorbar": {
             "outlinewidth": 0,
             "ticks": ""
            },
            "colorscale": [
             [
              0,
              "#0d0887"
             ],
             [
              0.1111111111111111,
              "#46039f"
             ],
             [
              0.2222222222222222,
              "#7201a8"
             ],
             [
              0.3333333333333333,
              "#9c179e"
             ],
             [
              0.4444444444444444,
              "#bd3786"
             ],
             [
              0.5555555555555556,
              "#d8576b"
             ],
             [
              0.6666666666666666,
              "#ed7953"
             ],
             [
              0.7777777777777778,
              "#fb9f3a"
             ],
             [
              0.8888888888888888,
              "#fdca26"
             ],
             [
              1,
              "#f0f921"
             ]
            ],
            "type": "histogram2dcontour"
           }
          ],
          "mesh3d": [
           {
            "colorbar": {
             "outlinewidth": 0,
             "ticks": ""
            },
            "type": "mesh3d"
           }
          ],
          "parcoords": [
           {
            "line": {
             "colorbar": {
              "outlinewidth": 0,
              "ticks": ""
             }
            },
            "type": "parcoords"
           }
          ],
          "pie": [
           {
            "automargin": true,
            "type": "pie"
           }
          ],
          "scatter": [
           {
            "fillpattern": {
             "fillmode": "overlay",
             "size": 10,
             "solidity": 0.2
            },
            "type": "scatter"
           }
          ],
          "scatter3d": [
           {
            "line": {
             "colorbar": {
              "outlinewidth": 0,
              "ticks": ""
             }
            },
            "marker": {
             "colorbar": {
              "outlinewidth": 0,
              "ticks": ""
             }
            },
            "type": "scatter3d"
           }
          ],
          "scattercarpet": [
           {
            "marker": {
             "colorbar": {
              "outlinewidth": 0,
              "ticks": ""
             }
            },
            "type": "scattercarpet"
           }
          ],
          "scattergeo": [
           {
            "marker": {
             "colorbar": {
              "outlinewidth": 0,
              "ticks": ""
             }
            },
            "type": "scattergeo"
           }
          ],
          "scattergl": [
           {
            "marker": {
             "colorbar": {
              "outlinewidth": 0,
              "ticks": ""
             }
            },
            "type": "scattergl"
           }
          ],
          "scattermapbox": [
           {
            "marker": {
             "colorbar": {
              "outlinewidth": 0,
              "ticks": ""
             }
            },
            "type": "scattermapbox"
           }
          ],
          "scatterpolar": [
           {
            "marker": {
             "colorbar": {
              "outlinewidth": 0,
              "ticks": ""
             }
            },
            "type": "scatterpolar"
           }
          ],
          "scatterpolargl": [
           {
            "marker": {
             "colorbar": {
              "outlinewidth": 0,
              "ticks": ""
             }
            },
            "type": "scatterpolargl"
           }
          ],
          "scatterternary": [
           {
            "marker": {
             "colorbar": {
              "outlinewidth": 0,
              "ticks": ""
             }
            },
            "type": "scatterternary"
           }
          ],
          "surface": [
           {
            "colorbar": {
             "outlinewidth": 0,
             "ticks": ""
            },
            "colorscale": [
             [
              0,
              "#0d0887"
             ],
             [
              0.1111111111111111,
              "#46039f"
             ],
             [
              0.2222222222222222,
              "#7201a8"
             ],
             [
              0.3333333333333333,
              "#9c179e"
             ],
             [
              0.4444444444444444,
              "#bd3786"
             ],
             [
              0.5555555555555556,
              "#d8576b"
             ],
             [
              0.6666666666666666,
              "#ed7953"
             ],
             [
              0.7777777777777778,
              "#fb9f3a"
             ],
             [
              0.8888888888888888,
              "#fdca26"
             ],
             [
              1,
              "#f0f921"
             ]
            ],
            "type": "surface"
           }
          ],
          "table": [
           {
            "cells": {
             "fill": {
              "color": "#EBF0F8"
             },
             "line": {
              "color": "white"
             }
            },
            "header": {
             "fill": {
              "color": "#C8D4E3"
             },
             "line": {
              "color": "white"
             }
            },
            "type": "table"
           }
          ]
         },
         "layout": {
          "annotationdefaults": {
           "arrowcolor": "#2a3f5f",
           "arrowhead": 0,
           "arrowwidth": 1
          },
          "autotypenumbers": "strict",
          "coloraxis": {
           "colorbar": {
            "outlinewidth": 0,
            "ticks": ""
           }
          },
          "colorscale": {
           "diverging": [
            [
             0,
             "#8e0152"
            ],
            [
             0.1,
             "#c51b7d"
            ],
            [
             0.2,
             "#de77ae"
            ],
            [
             0.3,
             "#f1b6da"
            ],
            [
             0.4,
             "#fde0ef"
            ],
            [
             0.5,
             "#f7f7f7"
            ],
            [
             0.6,
             "#e6f5d0"
            ],
            [
             0.7,
             "#b8e186"
            ],
            [
             0.8,
             "#7fbc41"
            ],
            [
             0.9,
             "#4d9221"
            ],
            [
             1,
             "#276419"
            ]
           ],
           "sequential": [
            [
             0,
             "#0d0887"
            ],
            [
             0.1111111111111111,
             "#46039f"
            ],
            [
             0.2222222222222222,
             "#7201a8"
            ],
            [
             0.3333333333333333,
             "#9c179e"
            ],
            [
             0.4444444444444444,
             "#bd3786"
            ],
            [
             0.5555555555555556,
             "#d8576b"
            ],
            [
             0.6666666666666666,
             "#ed7953"
            ],
            [
             0.7777777777777778,
             "#fb9f3a"
            ],
            [
             0.8888888888888888,
             "#fdca26"
            ],
            [
             1,
             "#f0f921"
            ]
           ],
           "sequentialminus": [
            [
             0,
             "#0d0887"
            ],
            [
             0.1111111111111111,
             "#46039f"
            ],
            [
             0.2222222222222222,
             "#7201a8"
            ],
            [
             0.3333333333333333,
             "#9c179e"
            ],
            [
             0.4444444444444444,
             "#bd3786"
            ],
            [
             0.5555555555555556,
             "#d8576b"
            ],
            [
             0.6666666666666666,
             "#ed7953"
            ],
            [
             0.7777777777777778,
             "#fb9f3a"
            ],
            [
             0.8888888888888888,
             "#fdca26"
            ],
            [
             1,
             "#f0f921"
            ]
           ]
          },
          "colorway": [
           "#636efa",
           "#EF553B",
           "#00cc96",
           "#ab63fa",
           "#FFA15A",
           "#19d3f3",
           "#FF6692",
           "#B6E880",
           "#FF97FF",
           "#FECB52"
          ],
          "font": {
           "color": "#2a3f5f"
          },
          "geo": {
           "bgcolor": "white",
           "lakecolor": "white",
           "landcolor": "#E5ECF6",
           "showlakes": true,
           "showland": true,
           "subunitcolor": "white"
          },
          "hoverlabel": {
           "align": "left"
          },
          "hovermode": "closest",
          "mapbox": {
           "style": "light"
          },
          "paper_bgcolor": "white",
          "plot_bgcolor": "#E5ECF6",
          "polar": {
           "angularaxis": {
            "gridcolor": "white",
            "linecolor": "white",
            "ticks": ""
           },
           "bgcolor": "#E5ECF6",
           "radialaxis": {
            "gridcolor": "white",
            "linecolor": "white",
            "ticks": ""
           }
          },
          "scene": {
           "xaxis": {
            "backgroundcolor": "#E5ECF6",
            "gridcolor": "white",
            "gridwidth": 2,
            "linecolor": "white",
            "showbackground": true,
            "ticks": "",
            "zerolinecolor": "white"
           },
           "yaxis": {
            "backgroundcolor": "#E5ECF6",
            "gridcolor": "white",
            "gridwidth": 2,
            "linecolor": "white",
            "showbackground": true,
            "ticks": "",
            "zerolinecolor": "white"
           },
           "zaxis": {
            "backgroundcolor": "#E5ECF6",
            "gridcolor": "white",
            "gridwidth": 2,
            "linecolor": "white",
            "showbackground": true,
            "ticks": "",
            "zerolinecolor": "white"
           }
          },
          "shapedefaults": {
           "line": {
            "color": "#2a3f5f"
           }
          },
          "ternary": {
           "aaxis": {
            "gridcolor": "white",
            "linecolor": "white",
            "ticks": ""
           },
           "baxis": {
            "gridcolor": "white",
            "linecolor": "white",
            "ticks": ""
           },
           "bgcolor": "#E5ECF6",
           "caxis": {
            "gridcolor": "white",
            "linecolor": "white",
            "ticks": ""
           }
          },
          "title": {
           "x": 0.05
          },
          "xaxis": {
           "automargin": true,
           "gridcolor": "white",
           "linecolor": "white",
           "ticks": "",
           "title": {
            "standoff": 15
           },
           "zerolinecolor": "white",
           "zerolinewidth": 2
          },
          "yaxis": {
           "automargin": true,
           "gridcolor": "white",
           "linecolor": "white",
           "ticks": "",
           "title": {
            "standoff": 15
           },
           "zerolinecolor": "white",
           "zerolinewidth": 2
          }
         }
        },
        "xaxis": {
         "anchor": "y",
         "domain": [
          0,
          1
         ],
         "title": {
          "text": "PC1"
         }
        },
        "yaxis": {
         "anchor": "x",
         "domain": [
          0,
          1
         ],
         "title": {
          "text": "PC2"
         }
        }
       }
      },
      "text/html": [
       "<div>                            <div id=\"a6380bba-3f65-4b69-8dfe-07da704575f8\" class=\"plotly-graph-div\" style=\"height:525px; width:100%;\"></div>            <script type=\"text/javascript\">                require([\"plotly\"], function(Plotly) {                    window.PLOTLYENV=window.PLOTLYENV || {};                                    if (document.getElementById(\"a6380bba-3f65-4b69-8dfe-07da704575f8\")) {                    Plotly.newPlot(                        \"a6380bba-3f65-4b69-8dfe-07da704575f8\",                        [{\"hovertemplate\":\"PC1=%{x}<br>PC2=%{y}<br>color=%{marker.color}<extra></extra>\",\"legendgroup\":\"\",\"marker\":{\"color\":[2,2,2,2,2,2,2,2,2,2,2,2,2,2,0,1,1,1,0,0,0,0,0,0,1,2,2,2,2,0,1,0,1,1,1,1,1,2,2,2,2,2,2,2,1,1,1,1,1,0,0,0,0,0,0,1,0,1,0,1,1,2,2,2,2,2,2,2,2,2,0,2,2,2,2,0,0,0,0,1,0,0,1,0,2,2,2,2,2,2,2,2,2,2,2,2,1,1,1,1,1,0,2,2,2,2,1,0,1,0,0,1,1,0,2,2,0,0,0,0,2,0,0,2,1,1,1,0,1,0,1,1,1,1,2,2,2,2,2,0,0,0,0,0,1,0,0,0,0,0,1,1,1,1,2,2,2,2,1,1,1,1,1,2,2,0,1,1,1,0,0,0,1,0,1,0,0,0,0,0,0,0,1,1,0,2,2,2,2,1,1,1,1,1,1,0,0,1,1,1,1,0,0,0,1,0,2,1,0,1,2,2,2,2,0,1,0,1,0,2,1,2,2,1,1,1,1,2,2,2,2,0,1,0,1,1,1,0,0,0,0,0,0,1,0,0,0,1,2,2,1,1,1,1,1,1,1,1,1,1,2,2,2,2,1,0,0,1,0,1,1,0,1,1,0,1,0,0,1,1,1,1,1,2,2,2,2,2,2,2,2,0,0,1,1,1,2,0,1,1,1,0,0,1,1,1,1,0,0,1,0,1,1,1,1,0,0,0,0,0,0,1,0,0,0,0,0,0,0,0,0,0,0,0,1,1,1,1,1,0,1,0,0,0,0,0,1,1,1,0,0,0,0,0,0,0,0,0,1,1,1,1,1,1,1,1,1,1,1,0,0,0,1,1,0,0,0,0,0,0,1,1,1,1,0,1,1,1,0,1,1,1],\"coloraxis\":\"coloraxis\",\"symbol\":\"circle\"},\"mode\":\"markers\",\"name\":\"\",\"orientation\":\"v\",\"showlegend\":false,\"x\":[2.768101540871218,3.5617956121137855,3.0704887096489473,3.020336929873965,3.007717109083675,4.632490431458017,5.094469429700947,5.016170883199186,5.090410338149976,4.311461998206059,3.8159430065972666,3.7997906445666967,3.817831087801164,4.474529595624324,-1.511709090032722,0.7187417879547205,0.9077937459259197,0.5158811834731746,-1.8539919546004495,-2.337105206283634,-1.1708840167191017,-0.9436398046030893,-1.2505822929287729,-0.6639071167898438,0.6808411089928279,4.539184109214653,3.9829985413493474,4.2165074953613875,3.7956717556448845,-1.9088774646442976,-0.619231158427669,-1.5902151179477677,1.1250318471951035,1.435777384636931,1.3838557788447654,1.155073687111207,1.2472056740007094,3.7469755307411203,4.203465298813928,3.469303293081093,3.3300870483405993,4.50968736198196,4.285807745344449,4.517123646681602,1.479522233419897,-0.7623053353808523,1.3114399566376749,1.2188532859466845,-0.3728938521711008,-1.2518077657249247,-2.212931357517504,-1.668684076477319,-3.004571896267772,-3.135812489521802,-2.1642348431144685,-1.5088048394367783,-1.7100573238164953,-0.9942144973557242,-2.3018447569371916,-0.5860569270947419,-0.5555872202245108,3.7700567820514763,4.066901911248673,3.1997288007521294,3.4482602630809307,3.0177670685735394,4.858808968921738,3.6387158952704888,3.715720906747915,4.236928551522718,-1.6400477727138774,3.1244138609937004,2.990526928281098,2.980132134875459,3.175779631805892,-0.2589961299285349,-1.323437653982443,-1.0898009652878242,-1.8307891304318469,-0.4805829635857063,-2.125791803000297,-1.4192834730357569,-0.9376428681278565,-2.158927141710039,3.6446429006767427,3.1070904723215795,3.292567830344468,2.867236257481446,3.070861881342404,4.757051654295556,3.845955853909782,3.5991673731083718,3.1491456672903997,4.86743840278331,5.173147058401887,3.7364153432611458,0.9929184144486708,1.0719897853531273,0.9343284597173934,0.8734419932790236,0.49333110411785364,-2.494208199410836,4.005886047171806,4.222301906026265,3.8880996463395485,3.971669592337553,0.9532581108370882,-2.0216999762290953,-0.8725677814209033,-1.7424167430361002,-1.8117452012346846,-0.6670813340646505,0.5258002203078571,-1.4058721965382137,3.2396643945111494,4.644395444945272,-2.622843658548154,-1.439505917467649,-0.7636302480116363,-0.4825311486628632,3.0330227307451025,-0.7025633473933524,-0.2527186232612685,3.7717003042158974,0.628384371703416,0.8111352589638805,1.1825340937849131,-3.03679124380329,-0.8623283927242303,-3.369686347068877,-0.7981152121151961,1.3391447623695305,1.311102965271686,1.1643311309340392,2.83714446668678,3.4787800717914115,3.2861331684780053,2.9805162531295943,2.9585480837448066,-1.7869380049213204,-1.9036894369634676,-1.4780739790055182,-3.110431448376589,-3.1051013923247326,-1.101091807025937,-1.6180991767383155,-1.4140304768102707,-1.6302847523868471,-1.90339725608961,-2.1723606377205624,0.8460061259987729,1.1807903117335456,0.5285506541454442,0.5385469010258633,3.931521616937018,3.2038747837893315,3.063283820780725,3.431025654813889,0.958003983103366,1.2516833355545147,1.2586800088300438,0.8616644650541557,0.910580328757528,1.7566640632710426,2.5505510377939418,-2.471967394462309,-0.6320963985296504,0.7141595356741184,-0.8398317773638221,-1.4069657942440763,-1.7989168316292194,-1.8446516954605476,0.7121827673582913,-1.9060545256379364,0.707966606895386,-1.0128297554612462,-1.1239902617662973,-0.7506730887270656,-0.7599097807329924,-3.2168648741469092,-1.5803503388483455,-1.6905586702330213,-0.5333364418736907,-1.2740517450200866,-1.6879493197806332,2.7916088423960153,3.0027560622880407,2.4855180308359444,3.2523574799124377,0.7371560602862702,1.0208950620039177,0.05267333504321242,0.3724732918253316,-2.248382290914607,-1.833162032896757,-1.97907658514904,-3.26268210945713,0.8169865186749331,0.4548819514755421,1.2193785396388395,0.7951634522625587,-1.8361280647836749,-2.941571414204026,-2.5224156574296877,-0.6911463687104754,-0.6490118810553855,3.0138394903681527,-1.2869765338572394,-0.6343577993866374,0.52244772016267,3.572238056800296,3.2494110824627316,2.5560649305340597,2.856201479678187,-3.0528310144505357,-1.2438577654569452,-2.9838007640191524,-0.821421993035352,-3.071122840200576,2.6780728692684366,1.6705027965101815,2.8353363230094226,2.6095896109782664,1.1369316499361055,0.7799964874419747,0.8005115759171747,0.735162636898158,3.752150197665228,3.4298229470206065,3.824916023414914,2.9963455292088743,-1.9525234911210596,-0.5841321992816298,-2.5937957048699842,-0.6397553448439851,-1.7359023556024242,-1.568947958181782,-2.831782260486329,-1.8733659128379725,-0.9446043305140474,-0.7207093406373247,-1.6862893981364522,-3.6269463662439416,-1.909595584283505,-3.5171867536375294,-3.515353691118172,-3.358355808126506,1.4739357093847067,2.4019451841723467,2.251875846060634,0.6296263197820996,0.26277141672702653,0.30725263453586493,-0.6652570194184618,0.6268718336499043,0.5054857163793574,0.7993570271509532,0.245091732397538,0.7697582918910981,1.2516711529636146,2.268711187642098,1.7874147479698739,2.330030634535997,2.606620854589843,-1.6234829377193107,-1.8786763636182613,-2.067249905616301,-1.3536385428363504,-1.6461383377880132,-0.448020675472114,-0.7276224505290722,-1.878461296689781,-0.6955336689261916,0.3877145287024384,-0.903597073662921,0.43100558655647847,-2.2419767612277792,-2.797884011646174,0.7755745919635846,0.0654552796816591,-0.6796522865491975,0.3467593146285248,0.6895787816978692,2.160678457624367,2.2386682110746827,2.6954387354066167,2.2169802029298324,2.8747761749764256,2.729367640272803,1.785823932335057,2.7656218242804966,-2.264372777264806,-3.0970644526989806,-1.7520969825984145,-0.9711724669678109,-1.1135382824302185,1.8427048456742507,-2.2345552088695233,0.44412145517593604,-1.5131582966792472,-1.7047376457790087,-3.3324107263556955,-2.5054262324792576,-0.8935343743209302,0.2728335805006966,0.2721758138466127,-0.937212790153069,-2.6585199479274366,-3.7123790526783513,-1.7395785660729697,-3.3895470843522744,-0.9708537569008396,-1.0133686248772078,-0.9699683698502276,0.32564967852517324,-2.375767649067532,-2.1975351428076606,-2.7332460697898475,-2.6637674696137714,-2.741827687325792,-3.9355698291115977,-0.5498511089865387,-3.7785269607271794,-3.766541926817839,-3.7896558111083034,-2.286168792679163,-2.145097488283883,-3.5478151473592265,-3.2506028912958116,-2.4631640868581566,-0.862924187603814,-2.1429243842648424,-2.0054091025170004,-2.9371011292583087,-1.1232964053831673,-1.0292636015211827,-0.7168250917931694,0.3096449789395401,-1.052275052270056,-3.799779490281288,-2.4270417342522674,-3.5048707066863973,-3.252043854574707,-3.730978421673933,-3.5542588803310164,-3.225358810136074,-1.8643561429713587,-2.0530921851818023,-2.090766002939554,-2.231237312217606,-2.8254424824464315,-2.91232328237067,-2.3400295843284904,-2.8423414523621005,-1.8800185769476299,-1.5310304021608694,-0.8406188760179021,-0.9230973863763251,0.614366937634298,1.1339251266639307,0.09846033132955342,0.5218453395458189,-1.5664203412075781,-1.41156950486644,-1.8063364794987091,-1.4461625890949432,-1.2758136368287978,-1.1423617825985692,-0.815836951931984,-2.6266734645686425,-3.6007500845194307,-3.2832201745076843,-2.101130925767055,-2.197750340570526,-2.842356562403251,-3.0022562131892445,-3.151577178875639,-3.3962509432358208,-3.171311038787438,-3.4912715676900086,-0.02976148337433218,-0.6135959456427883,-0.8064912552310036,0.43559676794770624,-2.190278328734009,-1.411546000805978,-0.9799933742928885,-0.9821083541071532,-4.036985123492386,-1.1268082836860314,-1.5257188064315703,-1.6725955797061611],\"xaxis\":\"x\",\"y\":[0.6536686698172107,0.9618424410466513,0.9422170408259083,0.7897426311564746,0.9658848801234108,1.3856317199998154,1.6903140188207062,1.7412913094917397,1.5548599921028239,1.5989644651082178,1.2468001591473192,1.5088024728722194,1.1996965708857104,1.6192235455454083,2.4471909246719803,-0.15828156352214517,-0.1194788379108267,-0.28211116908869316,2.477599361160023,-0.2450064260787833,0.4585260711910433,0.9813183200997999,0.5204480644827172,1.4452685859181185,-0.09238511376686354,0.845421811677407,0.596003258526481,0.8956975398278197,-0.026758099262872315,2.3833117242062163,-0.3234959985966575,2.5163906703568637,0.21611405288568247,-0.181712842381326,-0.20912618199584693,-0.2924197779863674,-0.21562473875451998,0.7674314988142199,0.904102939703836,0.4537395827492992,0.5149241805420612,0.9202583268148081,0.7849191070376174,0.7962886945067544,0.18931913708022124,-0.9726941987093682,-0.13747243298207434,-0.11616811897460955,-0.0748077020618434,0.9606031680114577,-0.06905627550621729,0.7814736347329232,1.5024668600328224,1.6733350185849507,-0.016571069624199963,-1.2374061118834618,2.181888565295983,-0.7037336892581534,-0.8749253158047524,-1.0272656738098875,-0.5637603353572269,0.6759449061474159,0.7323671916642902,0.33159087568377804,0.4418991678282285,0.664999039787268,1.1048484639522407,0.36063172471550936,0.3990768855892784,0.746194218821556,2.527935225539342,0.5037839493161869,0.1411861739247962,-0.13330685508829876,0.259058817362617,0.9394536711871764,0.14909658748123666,-0.04467302791601402,0.09490755688720376,-0.49656386660449536,1.8935230537163417,2.352458184044198,-0.3982840395967299,1.9654840878052116,0.48814719505065046,0.5884878687200885,0.31167969088354847,0.004144671501017716,0.4170027421384726,0.8474389601999839,0.4886650066629364,0.3725975468908916,0.07583472781987621,1.0377934014973893,1.096073068176274,0.8279535841508694,-0.5293443757997123,-0.7955520435279626,-0.4689580728824189,-0.6240533753742699,-0.5317283302717333,-0.6146427126770714,0.14991348963541978,0.4951477529589437,0.4326220505001582,0.5864474419466887,-0.29896838112096913,1.497843068867375,-1.2362530180371507,1.9253376380640295,2.4070432245337523,-0.9812784945960484,-0.1074663260308858,0.5307727526886317,0.29531028642370366,1.3709932540772924,-0.37060630887151824,0.4593853364457421,0.803147472260344,0.6798739646054126,0.6789091257072584,0.8918578705591249,2.6048191608440847,0.8762465612864423,-0.6990025521584804,-0.5670561899875257,-0.7242111322323797,1.2243498672423454,-0.8291486690915528,0.8856681022677257,-0.9366075707462116,-0.7515270475094633,-0.84510822146628,-0.6472816530027735,-0.007322082903606142,-0.030212571325995086,0.13346307381914607,-0.3443431384494699,-0.18388386867439332,0.21599683190812824,0.3088973428691101,0.5244119569310582,1.553696451680667,1.1800718271176769,-0.5351782707954801,0.3638266371841503,0.5927532432904644,2.0775290712035677,1.9632005460381232,0.19624585719811138,-0.7100904572545188,-0.6493880927758358,-1.6428051858037653,-1.3858979131819764,0.47498693921648855,-0.07296449089241108,-0.13713736908747087,0.022102115547087187,-1.4498290332825263,-1.064818626897246,-1.1006720958322203,-1.2166816677579813,-0.45686148669467436,-0.18734746702333793,0.22119249727540652,1.6698006875200258,-0.9752132195384924,-0.6678942044385826,-1.2469990709672143,2.2126562698007812,0.0713478015794532,1.6554262284028423,-0.4424774894012832,0.4615592601169106,-0.8993531024109707,0.4533091969904492,0.0739598569596559,0.5474481096650259,0.8083823955920562,1.2862304277594818,0.20351837217316116,-0.02350050531828729,-0.6823447508101858,-1.2127453060570719,0.2355029066143977,-0.0454276455452145,0.027116591313183225,-0.2890327266151604,0.08408849515691696,-0.6928612982628419,-0.5185458985377358,-1.170274978016758,-1.1058179495846303,-2.116659630005287,-2.0296157652050164,0.3347734180949132,1.2081918933397708,-1.0748322598262539,-1.725324765399825,-0.75776886974914,-1.0798970879027614,0.6692273711638221,1.371941493780454,1.517211223050559,-0.6008922802621737,0.28568696014592315,0.02441194575420813,-0.8078772508648059,1.9121234022159745,0.2504297519066333,0.3476363789560624,0.18808722427222918,-0.3882024408153347,-0.09668822523783993,1.0239501322415003,-0.8468051406687593,-0.5848645457913634,-0.8423121992908589,1.3034269058035903,-0.012058337355938087,-1.2924589330040817,-0.2058571273586728,-0.498521011651198,-0.8726206763309674,-1.000069884007277,-1.1621849722868876,-1.3740036375627853,0.4335597612536098,0.3227355948485516,0.3133522524081845,-0.3192754389696705,0.2410771949995389,-0.9831774917246026,1.1370031965468466,-0.9528186836280266,-1.3071352621647971,-1.026091133090795,1.370750589273022,0.28516827857001853,1.8999861664070434,0.7273943771946538,2.1031520853300583,-1.2592005313250345,-0.9818786913457447,0.6787877294030374,0.8756864935144049,1.2059302259768172,-0.8018043780174906,-0.25284949264436063,-0.19298511612064018,-1.4656712652216797,-1.357615558828656,-1.0173435143052094,-0.9841190272904061,-1.1745016546154594,-1.2170363454176414,-0.9140468650968556,-1.172187909610881,-1.355495701348521,-0.6921900887398451,-0.20829191232438993,-0.1463066073766549,0.09698900723450554,-0.3394201661191465,-1.2919052260623485,1.7960744347735913,1.7391078639633522,-0.9324400220526818,1.7386660236458886,-1.0799904302418943,-1.3570159064611165,1.7211165920489635,0.0965304086096972,0.6249023029455685,0.18222541188190977,0.30767762021551237,0.02101346023857087,1.2459202669891263,-0.8815647470873968,-1.500441125988015,-1.3787198678945347,-1.4811991592124725,-1.1079053849765828,-0.7578976865132783,-0.43742874992662173,-0.34798790138248714,-0.699883616520346,-0.5431528659134583,-0.5013144880885372,-0.7303202057284306,-0.25260724736873275,0.07372199498194598,1.3396727272046813,-0.9944601202630483,-1.0758143001365184,-0.8943427673573793,-1.1452656197464444,-1.7067888138103395,-2.132361707941512,-0.8639099143221637,-1.1395188852659313,0.7010328466416614,-0.09371413654340788,-1.1793739742631713,-0.2355600859874517,-0.48874192859671467,-0.7491393006238642,-0.1701405618008346,0.6071673746916818,-1.316627196835149,1.0299118366146394,-1.3529214754318277,-1.6263334610096882,-1.9315870804417894,-1.6567794861407252,-0.29635009541177093,1.3450653525099425,0.9264144764088776,1.4069658046904263,1.3064299203383118,0.7261014834131542,-0.9253299030179978,0.5490896583238422,-1.4921914341045244,-1.8238576386430343,-1.0628121949930018,-1.356619036018475,1.429493483711396,0.7976942411578906,-0.27007032746824067,2.26814507558349,1.9221343212009976,-0.13760134367887977,0.9932328252320076,-1.3420704983243896,-1.456967618090032,-1.077323876690578,-0.6405260188073476,-0.8986398162090821,0.8123890882804229,-1.6243320231295255,0.9782495843906719,0.7486385121748166,0.45130990364777,0.7671682752999825,1.0395156964581536,-1.3748356390668648,-1.5649905743055983,-2.2856383949642214,-0.1461613054177614,1.3357493051173743,0.9468857332815227,1.4092641436297857,0.6898243083623744,-1.1331039023303489,-1.0146147579305862,1.9256176724975558,1.7574346225649178,-1.1789495215790775,-1.7279804358010733,-1.497826137475452,-1.4352940074107412,-2.0593450689143933,-1.8926109480517255,-1.8248180014991453,-1.5413951136180664,-1.4974537155196215,-1.7820476960679472,-1.4999656556412555,-0.4268711774902708,0.5686411517508937,0.7043324593256896,-1.451853029723638,-1.8210360638815475,1.2946267712714037,1.2118242836555102,0.8016068642905702,1.079509341278826,1.001318555313412,0.8830780596349701,-1.3706122178395719,-1.6885981848479792,-1.1873633207970926,-1.051982441000993,1.4434342837483916,-1.0440084618528827,-1.6786386788447056,-1.420514405590347,-2.1271400067947894,-0.7892139437732671,-1.9512401501478516,-2.085532141866373],\"yaxis\":\"y\",\"type\":\"scatter\"}],                        {\"template\":{\"data\":{\"histogram2dcontour\":[{\"type\":\"histogram2dcontour\",\"colorbar\":{\"outlinewidth\":0,\"ticks\":\"\"},\"colorscale\":[[0.0,\"#0d0887\"],[0.1111111111111111,\"#46039f\"],[0.2222222222222222,\"#7201a8\"],[0.3333333333333333,\"#9c179e\"],[0.4444444444444444,\"#bd3786\"],[0.5555555555555556,\"#d8576b\"],[0.6666666666666666,\"#ed7953\"],[0.7777777777777778,\"#fb9f3a\"],[0.8888888888888888,\"#fdca26\"],[1.0,\"#f0f921\"]]}],\"choropleth\":[{\"type\":\"choropleth\",\"colorbar\":{\"outlinewidth\":0,\"ticks\":\"\"}}],\"histogram2d\":[{\"type\":\"histogram2d\",\"colorbar\":{\"outlinewidth\":0,\"ticks\":\"\"},\"colorscale\":[[0.0,\"#0d0887\"],[0.1111111111111111,\"#46039f\"],[0.2222222222222222,\"#7201a8\"],[0.3333333333333333,\"#9c179e\"],[0.4444444444444444,\"#bd3786\"],[0.5555555555555556,\"#d8576b\"],[0.6666666666666666,\"#ed7953\"],[0.7777777777777778,\"#fb9f3a\"],[0.8888888888888888,\"#fdca26\"],[1.0,\"#f0f921\"]]}],\"heatmap\":[{\"type\":\"heatmap\",\"colorbar\":{\"outlinewidth\":0,\"ticks\":\"\"},\"colorscale\":[[0.0,\"#0d0887\"],[0.1111111111111111,\"#46039f\"],[0.2222222222222222,\"#7201a8\"],[0.3333333333333333,\"#9c179e\"],[0.4444444444444444,\"#bd3786\"],[0.5555555555555556,\"#d8576b\"],[0.6666666666666666,\"#ed7953\"],[0.7777777777777778,\"#fb9f3a\"],[0.8888888888888888,\"#fdca26\"],[1.0,\"#f0f921\"]]}],\"heatmapgl\":[{\"type\":\"heatmapgl\",\"colorbar\":{\"outlinewidth\":0,\"ticks\":\"\"},\"colorscale\":[[0.0,\"#0d0887\"],[0.1111111111111111,\"#46039f\"],[0.2222222222222222,\"#7201a8\"],[0.3333333333333333,\"#9c179e\"],[0.4444444444444444,\"#bd3786\"],[0.5555555555555556,\"#d8576b\"],[0.6666666666666666,\"#ed7953\"],[0.7777777777777778,\"#fb9f3a\"],[0.8888888888888888,\"#fdca26\"],[1.0,\"#f0f921\"]]}],\"contourcarpet\":[{\"type\":\"contourcarpet\",\"colorbar\":{\"outlinewidth\":0,\"ticks\":\"\"}}],\"contour\":[{\"type\":\"contour\",\"colorbar\":{\"outlinewidth\":0,\"ticks\":\"\"},\"colorscale\":[[0.0,\"#0d0887\"],[0.1111111111111111,\"#46039f\"],[0.2222222222222222,\"#7201a8\"],[0.3333333333333333,\"#9c179e\"],[0.4444444444444444,\"#bd3786\"],[0.5555555555555556,\"#d8576b\"],[0.6666666666666666,\"#ed7953\"],[0.7777777777777778,\"#fb9f3a\"],[0.8888888888888888,\"#fdca26\"],[1.0,\"#f0f921\"]]}],\"surface\":[{\"type\":\"surface\",\"colorbar\":{\"outlinewidth\":0,\"ticks\":\"\"},\"colorscale\":[[0.0,\"#0d0887\"],[0.1111111111111111,\"#46039f\"],[0.2222222222222222,\"#7201a8\"],[0.3333333333333333,\"#9c179e\"],[0.4444444444444444,\"#bd3786\"],[0.5555555555555556,\"#d8576b\"],[0.6666666666666666,\"#ed7953\"],[0.7777777777777778,\"#fb9f3a\"],[0.8888888888888888,\"#fdca26\"],[1.0,\"#f0f921\"]]}],\"mesh3d\":[{\"type\":\"mesh3d\",\"colorbar\":{\"outlinewidth\":0,\"ticks\":\"\"}}],\"scatter\":[{\"fillpattern\":{\"fillmode\":\"overlay\",\"size\":10,\"solidity\":0.2},\"type\":\"scatter\"}],\"parcoords\":[{\"type\":\"parcoords\",\"line\":{\"colorbar\":{\"outlinewidth\":0,\"ticks\":\"\"}}}],\"scatterpolargl\":[{\"type\":\"scatterpolargl\",\"marker\":{\"colorbar\":{\"outlinewidth\":0,\"ticks\":\"\"}}}],\"bar\":[{\"error_x\":{\"color\":\"#2a3f5f\"},\"error_y\":{\"color\":\"#2a3f5f\"},\"marker\":{\"line\":{\"color\":\"#E5ECF6\",\"width\":0.5},\"pattern\":{\"fillmode\":\"overlay\",\"size\":10,\"solidity\":0.2}},\"type\":\"bar\"}],\"scattergeo\":[{\"type\":\"scattergeo\",\"marker\":{\"colorbar\":{\"outlinewidth\":0,\"ticks\":\"\"}}}],\"scatterpolar\":[{\"type\":\"scatterpolar\",\"marker\":{\"colorbar\":{\"outlinewidth\":0,\"ticks\":\"\"}}}],\"histogram\":[{\"marker\":{\"pattern\":{\"fillmode\":\"overlay\",\"size\":10,\"solidity\":0.2}},\"type\":\"histogram\"}],\"scattergl\":[{\"type\":\"scattergl\",\"marker\":{\"colorbar\":{\"outlinewidth\":0,\"ticks\":\"\"}}}],\"scatter3d\":[{\"type\":\"scatter3d\",\"line\":{\"colorbar\":{\"outlinewidth\":0,\"ticks\":\"\"}},\"marker\":{\"colorbar\":{\"outlinewidth\":0,\"ticks\":\"\"}}}],\"scattermapbox\":[{\"type\":\"scattermapbox\",\"marker\":{\"colorbar\":{\"outlinewidth\":0,\"ticks\":\"\"}}}],\"scatterternary\":[{\"type\":\"scatterternary\",\"marker\":{\"colorbar\":{\"outlinewidth\":0,\"ticks\":\"\"}}}],\"scattercarpet\":[{\"type\":\"scattercarpet\",\"marker\":{\"colorbar\":{\"outlinewidth\":0,\"ticks\":\"\"}}}],\"carpet\":[{\"aaxis\":{\"endlinecolor\":\"#2a3f5f\",\"gridcolor\":\"white\",\"linecolor\":\"white\",\"minorgridcolor\":\"white\",\"startlinecolor\":\"#2a3f5f\"},\"baxis\":{\"endlinecolor\":\"#2a3f5f\",\"gridcolor\":\"white\",\"linecolor\":\"white\",\"minorgridcolor\":\"white\",\"startlinecolor\":\"#2a3f5f\"},\"type\":\"carpet\"}],\"table\":[{\"cells\":{\"fill\":{\"color\":\"#EBF0F8\"},\"line\":{\"color\":\"white\"}},\"header\":{\"fill\":{\"color\":\"#C8D4E3\"},\"line\":{\"color\":\"white\"}},\"type\":\"table\"}],\"barpolar\":[{\"marker\":{\"line\":{\"color\":\"#E5ECF6\",\"width\":0.5},\"pattern\":{\"fillmode\":\"overlay\",\"size\":10,\"solidity\":0.2}},\"type\":\"barpolar\"}],\"pie\":[{\"automargin\":true,\"type\":\"pie\"}]},\"layout\":{\"autotypenumbers\":\"strict\",\"colorway\":[\"#636efa\",\"#EF553B\",\"#00cc96\",\"#ab63fa\",\"#FFA15A\",\"#19d3f3\",\"#FF6692\",\"#B6E880\",\"#FF97FF\",\"#FECB52\"],\"font\":{\"color\":\"#2a3f5f\"},\"hovermode\":\"closest\",\"hoverlabel\":{\"align\":\"left\"},\"paper_bgcolor\":\"white\",\"plot_bgcolor\":\"#E5ECF6\",\"polar\":{\"bgcolor\":\"#E5ECF6\",\"angularaxis\":{\"gridcolor\":\"white\",\"linecolor\":\"white\",\"ticks\":\"\"},\"radialaxis\":{\"gridcolor\":\"white\",\"linecolor\":\"white\",\"ticks\":\"\"}},\"ternary\":{\"bgcolor\":\"#E5ECF6\",\"aaxis\":{\"gridcolor\":\"white\",\"linecolor\":\"white\",\"ticks\":\"\"},\"baxis\":{\"gridcolor\":\"white\",\"linecolor\":\"white\",\"ticks\":\"\"},\"caxis\":{\"gridcolor\":\"white\",\"linecolor\":\"white\",\"ticks\":\"\"}},\"coloraxis\":{\"colorbar\":{\"outlinewidth\":0,\"ticks\":\"\"}},\"colorscale\":{\"sequential\":[[0.0,\"#0d0887\"],[0.1111111111111111,\"#46039f\"],[0.2222222222222222,\"#7201a8\"],[0.3333333333333333,\"#9c179e\"],[0.4444444444444444,\"#bd3786\"],[0.5555555555555556,\"#d8576b\"],[0.6666666666666666,\"#ed7953\"],[0.7777777777777778,\"#fb9f3a\"],[0.8888888888888888,\"#fdca26\"],[1.0,\"#f0f921\"]],\"sequentialminus\":[[0.0,\"#0d0887\"],[0.1111111111111111,\"#46039f\"],[0.2222222222222222,\"#7201a8\"],[0.3333333333333333,\"#9c179e\"],[0.4444444444444444,\"#bd3786\"],[0.5555555555555556,\"#d8576b\"],[0.6666666666666666,\"#ed7953\"],[0.7777777777777778,\"#fb9f3a\"],[0.8888888888888888,\"#fdca26\"],[1.0,\"#f0f921\"]],\"diverging\":[[0,\"#8e0152\"],[0.1,\"#c51b7d\"],[0.2,\"#de77ae\"],[0.3,\"#f1b6da\"],[0.4,\"#fde0ef\"],[0.5,\"#f7f7f7\"],[0.6,\"#e6f5d0\"],[0.7,\"#b8e186\"],[0.8,\"#7fbc41\"],[0.9,\"#4d9221\"],[1,\"#276419\"]]},\"xaxis\":{\"gridcolor\":\"white\",\"linecolor\":\"white\",\"ticks\":\"\",\"title\":{\"standoff\":15},\"zerolinecolor\":\"white\",\"automargin\":true,\"zerolinewidth\":2},\"yaxis\":{\"gridcolor\":\"white\",\"linecolor\":\"white\",\"ticks\":\"\",\"title\":{\"standoff\":15},\"zerolinecolor\":\"white\",\"automargin\":true,\"zerolinewidth\":2},\"scene\":{\"xaxis\":{\"backgroundcolor\":\"#E5ECF6\",\"gridcolor\":\"white\",\"linecolor\":\"white\",\"showbackground\":true,\"ticks\":\"\",\"zerolinecolor\":\"white\",\"gridwidth\":2},\"yaxis\":{\"backgroundcolor\":\"#E5ECF6\",\"gridcolor\":\"white\",\"linecolor\":\"white\",\"showbackground\":true,\"ticks\":\"\",\"zerolinecolor\":\"white\",\"gridwidth\":2},\"zaxis\":{\"backgroundcolor\":\"#E5ECF6\",\"gridcolor\":\"white\",\"linecolor\":\"white\",\"showbackground\":true,\"ticks\":\"\",\"zerolinecolor\":\"white\",\"gridwidth\":2}},\"shapedefaults\":{\"line\":{\"color\":\"#2a3f5f\"}},\"annotationdefaults\":{\"arrowcolor\":\"#2a3f5f\",\"arrowhead\":0,\"arrowwidth\":1},\"geo\":{\"bgcolor\":\"white\",\"landcolor\":\"#E5ECF6\",\"subunitcolor\":\"white\",\"showland\":true,\"showlakes\":true,\"lakecolor\":\"white\"},\"title\":{\"x\":0.05},\"mapbox\":{\"style\":\"light\"}}},\"xaxis\":{\"anchor\":\"y\",\"domain\":[0.0,1.0],\"title\":{\"text\":\"PC1\"}},\"yaxis\":{\"anchor\":\"x\",\"domain\":[0.0,1.0],\"title\":{\"text\":\"PC2\"}},\"coloraxis\":{\"colorbar\":{\"title\":{\"text\":\"color\"}},\"colorscale\":[[0.0,\"#0d0887\"],[0.1111111111111111,\"#46039f\"],[0.2222222222222222,\"#7201a8\"],[0.3333333333333333,\"#9c179e\"],[0.4444444444444444,\"#bd3786\"],[0.5555555555555556,\"#d8576b\"],[0.6666666666666666,\"#ed7953\"],[0.7777777777777778,\"#fb9f3a\"],[0.8888888888888888,\"#fdca26\"],[1.0,\"#f0f921\"]]},\"legend\":{\"tracegroupgap\":0},\"margin\":{\"t\":60}},                        {\"responsive\": true}                    ).then(function(){\n",
       "                            \n",
       "var gd = document.getElementById('a6380bba-3f65-4b69-8dfe-07da704575f8');\n",
       "var x = new MutationObserver(function (mutations, observer) {{\n",
       "        var display = window.getComputedStyle(gd).display;\n",
       "        if (!display || display === 'none') {{\n",
       "            console.log([gd, 'removed!']);\n",
       "            Plotly.purge(gd);\n",
       "            observer.disconnect();\n",
       "        }}\n",
       "}});\n",
       "\n",
       "// Listen for the removal of the full notebook cells\n",
       "var notebookContainer = gd.closest('#notebook-container');\n",
       "if (notebookContainer) {{\n",
       "    x.observe(notebookContainer, {childList: true});\n",
       "}}\n",
       "\n",
       "// Listen for the clearing of the current output cell\n",
       "var outputEl = gd.closest('.output');\n",
       "if (outputEl) {{\n",
       "    x.observe(outputEl, {childList: true});\n",
       "}}\n",
       "\n",
       "                        })                };                });            </script>        </div>"
      ]
     },
     "metadata": {},
     "output_type": "display_data"
    }
   ],
   "source": [
    "px.scatter(data_frame=df_pca2, x='PC1', y='PC2', color=df_pred.pred_km)"
   ]
  },
  {
   "cell_type": "markdown",
   "metadata": {},
   "source": [
    "### PCA & Clustering Interpretation"
   ]
  },
  {
   "cell_type": "code",
   "execution_count": 68,
   "metadata": {},
   "outputs": [
    {
     "data": {
      "text/plain": [
       "array([5.67733447, 1.18808815, 0.87576522, 0.6008606 , 0.30335758,\n",
       "       0.18269726, 0.11140801, 0.05316111, 0.03034551])"
      ]
     },
     "execution_count": 68,
     "metadata": {},
     "output_type": "execute_result"
    }
   ],
   "source": [
    "pca.explained_variance_"
   ]
  },
  {
   "cell_type": "code",
   "execution_count": 69,
   "metadata": {
    "scrolled": true
   },
   "outputs": [
    {
     "data": {
      "text/plain": [
       "array([0.62920572, 0.13167304, 0.09705901, 0.06659198, 0.03362041,\n",
       "       0.02024791, 0.01234709, 0.00589172, 0.00336312])"
      ]
     },
     "execution_count": 69,
     "metadata": {},
     "output_type": "execute_result"
    }
   ],
   "source": [
    "pca.explained_variance_ratio_"
   ]
  },
  {
   "cell_type": "code",
   "execution_count": 70,
   "metadata": {},
   "outputs": [
    {
     "data": {
      "text/plain": [
       "array([47.11515445, 21.55324727, 18.50470758, 15.32763829, 10.89095092,\n",
       "        8.45190078,  6.60004015,  4.55916589,  3.44457436])"
      ]
     },
     "execution_count": 70,
     "metadata": {},
     "output_type": "execute_result"
    }
   ],
   "source": [
    "pca.singular_values_"
   ]
  },
  {
   "cell_type": "markdown",
   "metadata": {},
   "source": [
    "## Relationship between Original Variables & Components\n",
    "\n",
    "- [ ] What do the columns PC1 & PC2 have to do with the original variables (speeding, alcohol, total,...)?"
   ]
  },
  {
   "cell_type": "markdown",
   "metadata": {},
   "source": [
    "### Loading Vectors"
   ]
  },
  {
   "cell_type": "code",
   "execution_count": 71,
   "metadata": {},
   "outputs": [],
   "source": [
    "df_weight = pd.DataFrame(pca.components_.T , columns= df_pca2.columns, index= scaled_data.columns)"
   ]
  },
  {
   "cell_type": "code",
   "execution_count": 72,
   "metadata": {},
   "outputs": [
    {
     "data": {
      "text/html": [
       "<div>\n",
       "<style scoped>\n",
       "    .dataframe tbody tr th:only-of-type {\n",
       "        vertical-align: middle;\n",
       "    }\n",
       "\n",
       "    .dataframe tbody tr th {\n",
       "        vertical-align: top;\n",
       "    }\n",
       "\n",
       "    .dataframe thead th {\n",
       "        text-align: right;\n",
       "    }\n",
       "</style>\n",
       "<table border=\"1\" class=\"dataframe\">\n",
       "  <thead>\n",
       "    <tr style=\"text-align: right;\">\n",
       "      <th></th>\n",
       "      <th>PC1</th>\n",
       "      <th>PC2</th>\n",
       "      <th>PC3</th>\n",
       "      <th>PC4</th>\n",
       "      <th>PC5</th>\n",
       "      <th>PC6</th>\n",
       "      <th>PC7</th>\n",
       "      <th>PC8</th>\n",
       "      <th>PC9</th>\n",
       "    </tr>\n",
       "  </thead>\n",
       "  <tbody>\n",
       "    <tr>\n",
       "      <th>mpg</th>\n",
       "      <td>-0.374705</td>\n",
       "      <td>-0.046189</td>\n",
       "      <td>-0.257296</td>\n",
       "      <td>-0.199342</td>\n",
       "      <td>0.031205</td>\n",
       "      <td>0.755299</td>\n",
       "      <td>0.354683</td>\n",
       "      <td>-0.195030</td>\n",
       "      <td>-0.127427</td>\n",
       "    </tr>\n",
       "    <tr>\n",
       "      <th>cylinders</th>\n",
       "      <td>0.390297</td>\n",
       "      <td>0.020630</td>\n",
       "      <td>-0.163054</td>\n",
       "      <td>0.222610</td>\n",
       "      <td>-0.000059</td>\n",
       "      <td>0.472667</td>\n",
       "      <td>-0.549276</td>\n",
       "      <td>0.314814</td>\n",
       "      <td>-0.383243</td>\n",
       "    </tr>\n",
       "    <tr>\n",
       "      <th>displacement</th>\n",
       "      <td>0.404817</td>\n",
       "      <td>0.014770</td>\n",
       "      <td>-0.150779</td>\n",
       "      <td>0.153581</td>\n",
       "      <td>-0.009156</td>\n",
       "      <td>0.297809</td>\n",
       "      <td>0.004035</td>\n",
       "      <td>-0.121299</td>\n",
       "      <td>0.828299</td>\n",
       "    </tr>\n",
       "    <tr>\n",
       "      <th>horsepower</th>\n",
       "      <td>0.385138</td>\n",
       "      <td>0.233024</td>\n",
       "      <td>-0.156907</td>\n",
       "      <td>-0.007860</td>\n",
       "      <td>0.169984</td>\n",
       "      <td>-0.055093</td>\n",
       "      <td>0.667713</td>\n",
       "      <td>0.528806</td>\n",
       "      <td>-0.123615</td>\n",
       "    </tr>\n",
       "    <tr>\n",
       "      <th>weight</th>\n",
       "      <td>0.390189</td>\n",
       "      <td>-0.040777</td>\n",
       "      <td>-0.136605</td>\n",
       "      <td>0.342554</td>\n",
       "      <td>0.205570</td>\n",
       "      <td>-0.106440</td>\n",
       "      <td>0.196891</td>\n",
       "      <td>-0.707468</td>\n",
       "      <td>-0.342374</td>\n",
       "    </tr>\n",
       "    <tr>\n",
       "      <th>acceleration</th>\n",
       "      <td>-0.249862</td>\n",
       "      <td>-0.447718</td>\n",
       "      <td>0.279268</td>\n",
       "      <td>0.743318</td>\n",
       "      <td>0.005795</td>\n",
       "      <td>0.103036</td>\n",
       "      <td>0.213376</td>\n",
       "      <td>0.221399</td>\n",
       "      <td>0.037513</td>\n",
       "    </tr>\n",
       "    <tr>\n",
       "      <th>model_year</th>\n",
       "      <td>-0.201926</td>\n",
       "      <td>-0.346888</td>\n",
       "      <td>-0.826340</td>\n",
       "      <td>0.063921</td>\n",
       "      <td>0.175107</td>\n",
       "      <td>-0.294713</td>\n",
       "      <td>-0.113877</td>\n",
       "      <td>0.128827</td>\n",
       "      <td>0.069917</td>\n",
       "    </tr>\n",
       "    <tr>\n",
       "      <th>origin_japan</th>\n",
       "      <td>-0.228405</td>\n",
       "      <td>0.607000</td>\n",
       "      <td>-0.276675</td>\n",
       "      <td>0.411797</td>\n",
       "      <td>-0.570073</td>\n",
       "      <td>-0.068650</td>\n",
       "      <td>0.033738</td>\n",
       "      <td>-0.047016</td>\n",
       "      <td>-0.014582</td>\n",
       "    </tr>\n",
       "    <tr>\n",
       "      <th>origin_usa</th>\n",
       "      <td>0.295694</td>\n",
       "      <td>-0.502024</td>\n",
       "      <td>-0.061804</td>\n",
       "      <td>-0.208639</td>\n",
       "      <td>-0.756379</td>\n",
       "      <td>-0.029489</td>\n",
       "      <td>0.168039</td>\n",
       "      <td>-0.013082</td>\n",
       "      <td>-0.108621</td>\n",
       "    </tr>\n",
       "  </tbody>\n",
       "</table>\n",
       "</div>"
      ],
      "text/plain": [
       "                   PC1       PC2       PC3       PC4       PC5       PC6  \\\n",
       "mpg          -0.374705 -0.046189 -0.257296 -0.199342  0.031205  0.755299   \n",
       "cylinders     0.390297  0.020630 -0.163054  0.222610 -0.000059  0.472667   \n",
       "displacement  0.404817  0.014770 -0.150779  0.153581 -0.009156  0.297809   \n",
       "horsepower    0.385138  0.233024 -0.156907 -0.007860  0.169984 -0.055093   \n",
       "weight        0.390189 -0.040777 -0.136605  0.342554  0.205570 -0.106440   \n",
       "acceleration -0.249862 -0.447718  0.279268  0.743318  0.005795  0.103036   \n",
       "model_year   -0.201926 -0.346888 -0.826340  0.063921  0.175107 -0.294713   \n",
       "origin_japan -0.228405  0.607000 -0.276675  0.411797 -0.570073 -0.068650   \n",
       "origin_usa    0.295694 -0.502024 -0.061804 -0.208639 -0.756379 -0.029489   \n",
       "\n",
       "                   PC7       PC8       PC9  \n",
       "mpg           0.354683 -0.195030 -0.127427  \n",
       "cylinders    -0.549276  0.314814 -0.383243  \n",
       "displacement  0.004035 -0.121299  0.828299  \n",
       "horsepower    0.667713  0.528806 -0.123615  \n",
       "weight        0.196891 -0.707468 -0.342374  \n",
       "acceleration  0.213376  0.221399  0.037513  \n",
       "model_year   -0.113877  0.128827  0.069917  \n",
       "origin_japan  0.033738 -0.047016 -0.014582  \n",
       "origin_usa    0.168039 -0.013082 -0.108621  "
      ]
     },
     "execution_count": 72,
     "metadata": {},
     "output_type": "execute_result"
    }
   ],
   "source": [
    "df_weight"
   ]
  },
  {
   "cell_type": "markdown",
   "metadata": {},
   "source": [
    "### Correlation Matrix"
   ]
  },
  {
   "cell_type": "code",
   "execution_count": 73,
   "metadata": {},
   "outputs": [
    {
     "data": {
      "text/plain": [
       "<AxesSubplot:>"
      ]
     },
     "execution_count": 73,
     "metadata": {},
     "output_type": "execute_result"
    },
    {
     "data": {
      "image/png": "[encoded data removed]",
      "text/plain": [
       "<Figure size 640x480 with 2 Axes>"
      ]
     },
     "metadata": {},
     "output_type": "display_data"
    }
   ],
   "source": [
    "df_corr = scaled_data.corr()\n",
    "sns.heatmap(df_corr,annot=True ,vmin=0 ,vmax=1)"
   ]
  },
  {
   "cell_type": "markdown",
   "metadata": {},
   "source": [
    "- [ ] Which conclusions could you relate from the relationship of the 2 previous plots?"
   ]
  },
  {
   "cell_type": "code",
   "execution_count": null,
   "metadata": {},
   "outputs": [],
   "source": []
  },
  {
   "cell_type": "markdown",
   "metadata": {},
   "source": [
    "### Calculating One PCA Value"
   ]
  },
  {
   "cell_type": "markdown",
   "metadata": {},
   "source": [
    "- [ ] How did we obtain `2.77` for **chevrolet chevelle malibu** in **PC1**?"
   ]
  },
  {
   "cell_type": "code",
   "execution_count": 74,
   "metadata": {},
   "outputs": [
    {
     "data": {
      "text/plain": [
       "mpg            -0.374705\n",
       "cylinders       0.390297\n",
       "displacement    0.404817\n",
       "horsepower      0.385138\n",
       "weight          0.390189\n",
       "acceleration   -0.249862\n",
       "model_year     -0.201926\n",
       "origin_japan   -0.228405\n",
       "origin_usa      0.295694\n",
       "Name: PC1, dtype: float64"
      ]
     },
     "execution_count": 74,
     "metadata": {},
     "output_type": "execute_result"
    }
   ],
   "source": [
    "df_weight.PC1"
   ]
  },
  {
   "cell_type": "code",
   "execution_count": 75,
   "metadata": {},
   "outputs": [
    {
     "data": {
      "text/plain": [
       "mpg            -1.083498\n",
       "cylinders       1.483947\n",
       "displacement    1.488732\n",
       "horsepower      1.574594\n",
       "weight          0.843334\n",
       "acceleration   -1.466724\n",
       "model_year     -1.625315\n",
       "origin_japan   -0.502390\n",
       "origin_usa      0.774597\n",
       "Name: buick skylark 320, dtype: float64"
      ]
     },
     "execution_count": 75,
     "metadata": {},
     "output_type": "execute_result"
    }
   ],
   "source": [
    "scaled_data.iloc[1,:]"
   ]
  },
  {
   "cell_type": "markdown",
   "metadata": {},
   "source": [
    "## Explained Variance Ratio"
   ]
  },
  {
   "cell_type": "code",
   "execution_count": 76,
   "metadata": {},
   "outputs": [
    {
     "data": {
      "text/plain": [
       "array([0.62920572, 0.13167304, 0.09705901, 0.06659198, 0.03362041,\n",
       "       0.02024791, 0.01234709, 0.00589172, 0.00336312])"
      ]
     },
     "execution_count": 76,
     "metadata": {},
     "output_type": "execute_result"
    }
   ],
   "source": [
    "pca.explained_variance_ratio_"
   ]
  },
  {
   "cell_type": "code",
   "execution_count": null,
   "metadata": {},
   "outputs": [],
   "source": []
  },
  {
   "cell_type": "markdown",
   "metadata": {},
   "source": [
    "### Biplot"
   ]
  },
  {
   "cell_type": "code",
   "execution_count": 77,
   "metadata": {},
   "outputs": [
    {
     "data": {
      "application/vnd.plotly.v1+json": {
       "config": {
        "plotlyServerURL": "https://plot.ly"
       },
       "data": [
        {
         "hovertemplate": "<b>%{hovertext}</b><br><br>color=2<br>PC1 ~ 0.63%=%{x}<br>PC2 ~ 0.13%=%{y}<extra></extra>",
         "hovertext": [
          "chevrolet chevelle malibu",
          "buick skylark 320",
          "plymouth satellite",
          "amc rebel sst",
          "ford torino",
          "ford galaxie 500",
          "chevrolet impala",
          "plymouth fury iii",
          "pontiac catalina",
          "amc ambassador dpl",
          "dodge challenger se",
          "plymouth 'cuda 340",
          "chevrolet monte carlo",
          "buick estate wagon (sw)",
          "ford f250",
          "chevy c20",
          "dodge d200",
          "hi 1200d",
          "chevrolet impala",
          "pontiac catalina brougham",
          "ford galaxie 500",
          "plymouth fury iii",
          "dodge monaco (sw)",
          "ford country squire (sw)",
          "pontiac safari (sw)",
          "chevrolet impala",
          "pontiac catalina",
          "plymouth fury iii",
          "ford galaxie 500",
          "amc ambassador sst",
          "mercury marquis",
          "buick lesabre custom",
          "oldsmobile delta 88 royale",
          "chrysler newport royal",
          "amc matador (sw)",
          "chevrolet chevelle concours (sw)",
          "ford gran torino (sw)",
          "plymouth satellite custom (sw)",
          "buick century 350",
          "amc matador",
          "chevrolet malibu",
          "ford gran torino",
          "dodge coronet custom",
          "mercury marquis brougham",
          "chevrolet caprice classic",
          "ford ltd",
          "plymouth fury gran sedan",
          "chrysler new yorker brougham",
          "buick electra 225 custom",
          "amc ambassador brougham",
          "chevrolet impala",
          "ford country",
          "plymouth custom suburb",
          "oldsmobile vista cruiser",
          "chevrolet monte carlo s",
          "pontiac grand prix",
          "dodge dart custom",
          "oldsmobile omega",
          "ford gran torino",
          "buick century luxus (sw)",
          "dodge coronet custom (sw)",
          "ford gran torino (sw)",
          "amc matador (sw)",
          "pontiac catalina",
          "chevrolet bel air",
          "plymouth grand fury",
          "ford ltd",
          "chevrolet monza 2+2",
          "ford mustang ii",
          "chevrolet chevelle malibu classic",
          "dodge coronet brougham",
          "amc matador",
          "ford gran torino",
          "plymouth volare premier v8",
          "cadillac seville",
          "chevy c10",
          "ford f108",
          "dodge d100",
          "chevrolet caprice classic",
          "dodge monaco brougham",
          "mercury cougar brougham",
          "pontiac grand prix lj",
          "chevrolet monte carlo landau",
          "chrysler cordoba",
          "ford thunderbird",
          "dodge diplomat",
          "mercury monarch ghia",
          "chevrolet monte carlo landau",
          "buick regal sport coupe (turbo)",
          "ford futura",
          "dodge magnum xe",
          "chevrolet caprice classic",
          "ford ltd landau",
          "mercury grand marquis",
          "dodge st. regis",
          "buick estate wagon (sw)",
          "ford country squire (sw)",
          "chevrolet malibu classic (sw)",
          "chrysler lebaron town @ country (sw)",
          "cadillac eldorado"
         ],
         "legendgroup": "2",
         "marker": {
          "color": "#636efa",
          "symbol": "circle"
         },
         "mode": "markers",
         "name": "2",
         "orientation": "v",
         "showlegend": true,
         "type": "scatter",
         "x": [
          2.768101540871218,
          3.5617956121137855,
          3.0704887096489473,
          3.020336929873965,
          3.007717109083675,
          4.632490431458017,
          5.094469429700947,
          5.016170883199186,
          5.090410338149976,
          4.311461998206059,
          3.8159430065972666,
          3.7997906445666967,
          3.817831087801164,
          4.474529595624324,
          4.539184109214653,
          3.9829985413493474,
          4.2165074953613875,
          3.7956717556448845,
          3.7469755307411203,
          4.203465298813928,
          3.469303293081093,
          3.3300870483405993,
          4.50968736198196,
          4.285807745344449,
          4.517123646681602,
          3.7700567820514763,
          4.066901911248673,
          3.1997288007521294,
          3.4482602630809307,
          3.0177670685735394,
          4.858808968921738,
          3.6387158952704888,
          3.715720906747915,
          4.236928551522718,
          3.1244138609937004,
          2.990526928281098,
          2.980132134875459,
          3.175779631805892,
          3.6446429006767427,
          3.1070904723215795,
          3.292567830344468,
          2.867236257481446,
          3.070861881342404,
          4.757051654295556,
          3.845955853909782,
          3.5991673731083718,
          3.1491456672903997,
          4.86743840278331,
          5.173147058401887,
          3.7364153432611458,
          4.005886047171806,
          4.222301906026265,
          3.8880996463395485,
          3.971669592337553,
          3.2396643945111494,
          4.644395444945272,
          3.0330227307451025,
          3.7717003042158974,
          2.83714446668678,
          3.4787800717914115,
          3.2861331684780053,
          2.9805162531295943,
          2.9585480837448066,
          3.931521616937018,
          3.2038747837893315,
          3.063283820780725,
          3.431025654813889,
          1.7566640632710426,
          2.5505510377939418,
          2.7916088423960153,
          3.0027560622880407,
          2.4855180308359444,
          3.2523574799124377,
          3.0138394903681527,
          3.572238056800296,
          3.2494110824627316,
          2.5560649305340597,
          2.856201479678187,
          2.6780728692684366,
          2.8353363230094226,
          2.6095896109782664,
          3.752150197665228,
          3.4298229470206065,
          3.824916023414914,
          2.9963455292088743,
          2.4019451841723467,
          2.251875846060634,
          2.268711187642098,
          1.7874147479698739,
          2.330030634535997,
          2.606620854589843,
          2.160678457624367,
          2.2386682110746827,
          2.6954387354066167,
          2.2169802029298324,
          2.8747761749764256,
          2.729367640272803,
          1.785823932335057,
          2.7656218242804966,
          1.8427048456742507
         ],
         "xaxis": "x",
         "y": [
          0.6536686698172107,
          0.9618424410466513,
          0.9422170408259083,
          0.7897426311564746,
          0.9658848801234108,
          1.3856317199998154,
          1.6903140188207062,
          1.7412913094917397,
          1.5548599921028239,
          1.5989644651082178,
          1.2468001591473192,
          1.5088024728722194,
          1.1996965708857104,
          1.6192235455454083,
          0.845421811677407,
          0.596003258526481,
          0.8956975398278197,
          -0.026758099262872315,
          0.7674314988142199,
          0.904102939703836,
          0.4537395827492992,
          0.5149241805420612,
          0.9202583268148081,
          0.7849191070376174,
          0.7962886945067544,
          0.6759449061474159,
          0.7323671916642902,
          0.33159087568377804,
          0.4418991678282285,
          0.664999039787268,
          1.1048484639522407,
          0.36063172471550936,
          0.3990768855892784,
          0.746194218821556,
          0.5037839493161869,
          0.1411861739247962,
          -0.13330685508829876,
          0.259058817362617,
          0.48814719505065046,
          0.5884878687200885,
          0.31167969088354847,
          0.004144671501017716,
          0.4170027421384726,
          0.8474389601999839,
          0.4886650066629364,
          0.3725975468908916,
          0.07583472781987621,
          1.0377934014973893,
          1.096073068176274,
          0.8279535841508694,
          0.14991348963541978,
          0.4951477529589437,
          0.4326220505001582,
          0.5864474419466887,
          0.29531028642370366,
          1.3709932540772924,
          0.6789091257072584,
          0.8762465612864423,
          -0.007322082903606142,
          -0.030212571325995086,
          0.13346307381914607,
          -0.3443431384494699,
          -0.18388386867439332,
          0.47498693921648855,
          -0.07296449089241108,
          -0.13713736908747087,
          0.022102115547087187,
          -0.18734746702333793,
          0.22119249727540652,
          -0.0454276455452145,
          0.027116591313183225,
          -0.2890327266151604,
          0.08408849515691696,
          0.02441194575420813,
          0.3476363789560624,
          0.18808722427222918,
          -0.3882024408153347,
          -0.09668822523783993,
          -0.012058337355938087,
          -0.2058571273586728,
          -0.498521011651198,
          0.4335597612536098,
          0.3227355948485516,
          0.3133522524081845,
          -0.3192754389696705,
          -0.25284949264436063,
          -0.19298511612064018,
          -0.20829191232438993,
          -0.1463066073766549,
          0.09698900723450554,
          -0.3394201661191465,
          -0.7578976865132783,
          -0.43742874992662173,
          -0.34798790138248714,
          -0.699883616520346,
          -0.5431528659134583,
          -0.5013144880885372,
          -0.7303202057284306,
          -0.25260724736873275,
          -1.1452656197464444
         ],
         "yaxis": "y"
        },
        {
         "hovertemplate": "<b>%{hovertext}</b><br><br>color=0<br>PC1 ~ 0.63%=%{x}<br>PC2 ~ 0.13%=%{y}<extra></extra>",
         "hovertext": [
          "toyota corona mark ii",
          "datsun pl510",
          "volkswagen 1131 deluxe sedan",
          "peugeot 504",
          "audi 100 ls",
          "saab 99e",
          "bmw 2002",
          "datsun pl510",
          "toyota corona",
          "opel 1900",
          "peugeot 304",
          "fiat 124b",
          "toyota corolla 1200",
          "datsun 1200",
          "volkswagen model 111",
          "toyota corona hardtop",
          "volkswagen type 3",
          "mazda rx2 coupe",
          "volvo 145e (sw)",
          "volkswagen 411 (sw)",
          "peugeot 504 (sw)",
          "renault 12 (sw)",
          "datsun 510 (sw)",
          "toyouta corona mark ii (sw)",
          "toyota corolla 1600 (sw)",
          "volkswagen super beetle",
          "toyota carina",
          "datsun 610",
          "maxda rx3",
          "fiat 124 sport coupe",
          "fiat 128",
          "opel manta",
          "audi 100ls",
          "volvo 144ea",
          "saab 99le",
          "toyota mark ii",
          "datsun b210",
          "toyota corolla 1200",
          "audi fox",
          "volkswagen dasher",
          "opel manta",
          "toyota corona",
          "datsun 710",
          "fiat 128",
          "fiat 124 tc",
          "honda civic",
          "subaru",
          "fiat x1.9",
          "toyota corolla",
          "toyota corona",
          "volkswagen dasher",
          "datsun 710",
          "volkswagen rabbit",
          "audi 100ls",
          "peugeot 504",
          "volvo 244dl",
          "saab 99le",
          "honda civic cvcc",
          "fiat 131",
          "opel 1900",
          "renault 12tl",
          "vw rabbit",
          "honda civic",
          "volkswagen rabbit",
          "datsun b-210",
          "toyota corolla",
          "volvo 245",
          "toyota mark ii",
          "honda accord cvcc",
          "renault 5 gtl",
          "datsun f-10 hatchback",
          "volkswagen rabbit custom",
          "toyota corolla liftback",
          "subaru dl",
          "volkswagen dasher",
          "datsun 810",
          "bmw 320i",
          "mazda rx-4",
          "volkswagen rabbit custom diesel",
          "mazda glc deluxe",
          "datsun b210 gx",
          "honda civic cvcc",
          "toyota corona",
          "datsun 510",
          "toyota celica gt liftback",
          "datsun 200-sx",
          "saab 99gle",
          "volkswagen scirocco",
          "honda accord lx",
          "vw rabbit custom",
          "maxda glc deluxe",
          "peugeot 504",
          "datsun 210",
          "fiat strada custom",
          "vw rabbit",
          "toyota corolla tercel",
          "datsun 310",
          "audi 4000",
          "toyota corona liftback",
          "mazda 626",
          "datsun 510 hatchback",
          "toyota corolla",
          "mazda glc",
          "datsun 210",
          "vw rabbit c (diesel)",
          "vw dasher (diesel)",
          "audi 5000s (diesel)",
          "mercedes-benz 240d",
          "honda civic 1500 gl",
          "subaru dl",
          "vokswagen rabbit",
          "datsun 280-zx",
          "mazda rx-7 gs",
          "triumph tr7 coupe",
          "honda accord",
          "toyota starlet",
          "honda civic 1300",
          "subaru",
          "datsun 210 mpg",
          "toyota tercel",
          "mazda glc 4",
          "volkswagen jetta",
          "honda prelude",
          "toyota corolla",
          "datsun 200sx",
          "mazda 626",
          "peugeot 505s turbo diesel",
          "volvo diesel",
          "toyota cressida",
          "datsun 810 maxima",
          "volkswagen rabbit l",
          "mazda glc custom l",
          "mazda glc custom",
          "nissan stanza xe",
          "honda accord",
          "toyota corolla",
          "honda civic",
          "honda civic (auto)",
          "datsun 310 gx",
          "toyota celica gt",
          "vw pickup"
         ],
         "legendgroup": "0",
         "marker": {
          "color": "#EF553B",
          "symbol": "circle"
         },
         "mode": "markers",
         "name": "0",
         "orientation": "v",
         "showlegend": true,
         "type": "scatter",
         "x": [
          -1.511709090032722,
          -1.8539919546004495,
          -2.337105206283634,
          -1.1708840167191017,
          -0.9436398046030893,
          -1.2505822929287729,
          -0.6639071167898438,
          -1.9088774646442976,
          -1.5902151179477677,
          -1.2518077657249247,
          -2.212931357517504,
          -1.668684076477319,
          -3.004571896267772,
          -3.135812489521802,
          -2.1642348431144685,
          -1.7100573238164953,
          -2.3018447569371916,
          -1.6400477727138774,
          -0.2589961299285349,
          -1.323437653982443,
          -1.0898009652878242,
          -1.8307891304318469,
          -2.125791803000297,
          -1.4192834730357569,
          -2.158927141710039,
          -2.494208199410836,
          -2.0216999762290953,
          -1.7424167430361002,
          -1.8117452012346846,
          -1.4058721965382137,
          -2.622843658548154,
          -1.439505917467649,
          -0.7636302480116363,
          -0.4825311486628632,
          -0.7025633473933524,
          -0.2527186232612685,
          -3.03679124380329,
          -3.369686347068877,
          -1.7869380049213204,
          -1.9036894369634676,
          -1.4780739790055182,
          -3.110431448376589,
          -3.1051013923247326,
          -1.6180991767383155,
          -1.4140304768102707,
          -1.6302847523868471,
          -1.90339725608961,
          -2.1723606377205624,
          -2.471967394462309,
          -1.4069657942440763,
          -1.7989168316292194,
          -1.8446516954605476,
          -1.9060545256379364,
          -1.0128297554612462,
          -1.1239902617662973,
          -0.7506730887270656,
          -0.7599097807329924,
          -3.2168648741469092,
          -1.5803503388483455,
          -1.6905586702330213,
          -1.6879493197806332,
          -1.97907658514904,
          -3.26268210945713,
          -1.8361280647836749,
          -2.941571414204026,
          -2.5224156574296877,
          -0.6490118810553855,
          -0.6343577993866374,
          -3.0528310144505357,
          -2.9838007640191524,
          -3.071122840200576,
          -1.9525234911210596,
          -2.5937957048699842,
          -2.831782260486329,
          -1.8733659128379725,
          -0.9446043305140474,
          -0.7207093406373247,
          -1.6862893981364522,
          -3.6269463662439416,
          -3.5171867536375294,
          -3.515353691118172,
          -3.358355808126506,
          -1.8786763636182613,
          -2.067249905616301,
          -1.6461383377880132,
          -1.878461296689781,
          -0.903597073662921,
          -2.2419767612277792,
          -2.797884011646174,
          -2.264372777264806,
          -3.0970644526989806,
          -2.2345552088695233,
          -3.3324107263556955,
          -2.5054262324792576,
          -2.6585199479274366,
          -3.7123790526783513,
          -3.3895470843522744,
          -2.375767649067532,
          -2.1975351428076606,
          -2.7332460697898475,
          -2.6637674696137714,
          -2.741827687325792,
          -3.9355698291115977,
          -3.7785269607271794,
          -3.766541926817839,
          -3.7896558111083034,
          -2.286168792679163,
          -2.145097488283883,
          -3.5478151473592265,
          -3.2506028912958116,
          -2.4631640868581566,
          -0.862924187603814,
          -2.1429243842648424,
          -2.0054091025170004,
          -2.9371011292583087,
          -3.799779490281288,
          -3.5048707066863973,
          -3.252043854574707,
          -3.730978421673933,
          -3.5542588803310164,
          -3.225358810136074,
          -2.231237312217606,
          -2.8254424824464315,
          -2.91232328237067,
          -2.3400295843284904,
          -2.8423414523621005,
          -1.8800185769476299,
          -1.5310304021608694,
          -0.8406188760179021,
          -0.9230973863763251,
          -2.6266734645686425,
          -3.6007500845194307,
          -3.2832201745076843,
          -2.842356562403251,
          -3.0022562131892445,
          -3.151577178875639,
          -3.3962509432358208,
          -3.171311038787438,
          -3.4912715676900086,
          -2.190278328734009,
          -4.036985123492386
         ],
         "xaxis": "x",
         "y": [
          2.4471909246719803,
          2.477599361160023,
          -0.2450064260787833,
          0.4585260711910433,
          0.9813183200997999,
          0.5204480644827172,
          1.4452685859181185,
          2.3833117242062163,
          2.5163906703568637,
          0.9606031680114577,
          -0.06905627550621729,
          0.7814736347329232,
          1.5024668600328224,
          1.6733350185849507,
          -0.016571069624199963,
          2.181888565295983,
          -0.8749253158047524,
          2.527935225539342,
          0.9394536711871764,
          0.14909658748123666,
          -0.04467302791601402,
          0.09490755688720376,
          1.8935230537163417,
          2.352458184044198,
          1.9654840878052116,
          -0.6146427126770714,
          1.497843068867375,
          1.9253376380640295,
          2.4070432245337523,
          0.5307727526886317,
          -0.37060630887151824,
          0.4593853364457421,
          0.803147472260344,
          0.6798739646054126,
          0.8918578705591249,
          2.6048191608440847,
          1.2243498672423454,
          0.8856681022677257,
          0.21599683190812824,
          0.3088973428691101,
          0.5244119569310582,
          1.553696451680667,
          1.1800718271176769,
          0.3638266371841503,
          0.5927532432904644,
          2.0775290712035677,
          1.9632005460381232,
          0.19624585719811138,
          1.6698006875200258,
          2.2126562698007812,
          0.0713478015794532,
          1.6554262284028423,
          0.4615592601169106,
          0.4533091969904492,
          0.0739598569596559,
          0.5474481096650259,
          0.8083823955920562,
          1.2862304277594818,
          0.20351837217316116,
          -0.02350050531828729,
          0.2355029066143977,
          0.3347734180949132,
          1.2081918933397708,
          0.6692273711638221,
          1.371941493780454,
          1.517211223050559,
          0.28568696014592315,
          1.9121234022159745,
          1.0239501322415003,
          -0.5848645457913634,
          1.3034269058035903,
          0.2410771949995389,
          1.1370031965468466,
          1.370750589273022,
          0.28516827857001853,
          1.8999861664070434,
          0.7273943771946538,
          2.1031520853300583,
          -1.2592005313250345,
          0.6787877294030374,
          0.8756864935144049,
          1.2059302259768172,
          1.7960744347735913,
          1.7391078639633522,
          1.7386660236458886,
          1.7211165920489635,
          0.18222541188190977,
          0.02101346023857087,
          1.2459202669891263,
          0.07372199498194598,
          1.3396727272046813,
          -1.7067888138103395,
          0.7010328466416614,
          -0.09371413654340788,
          -0.1701405618008346,
          0.6071673746916818,
          1.0299118366146394,
          -0.29635009541177093,
          1.3450653525099425,
          0.9264144764088776,
          1.4069658046904263,
          1.3064299203383118,
          0.7261014834131542,
          0.5490896583238422,
          -1.4921914341045244,
          -1.8238576386430343,
          -1.0628121949930018,
          -1.356619036018475,
          1.429493483711396,
          0.7976942411578906,
          -0.27007032746824067,
          2.26814507558349,
          1.9221343212009976,
          -0.13760134367887977,
          0.9932328252320076,
          0.8123890882804229,
          0.9782495843906719,
          0.7486385121748166,
          0.45130990364777,
          0.7671682752999825,
          1.0395156964581536,
          -0.1461613054177614,
          1.3357493051173743,
          0.9468857332815227,
          1.4092641436297857,
          0.6898243083623744,
          -1.1331039023303489,
          -1.0146147579305862,
          1.9256176724975558,
          1.7574346225649178,
          -0.4268711774902708,
          0.5686411517508937,
          0.7043324593256896,
          1.2946267712714037,
          1.2118242836555102,
          0.8016068642905702,
          1.079509341278826,
          1.001318555313412,
          0.8830780596349701,
          1.4434342837483916,
          -2.1271400067947894
         ],
         "yaxis": "y"
        },
        {
         "hovertemplate": "<b>%{hovertext}</b><br><br>color=1<br>PC1 ~ 0.63%=%{x}<br>PC2 ~ 0.13%=%{y}<extra></extra>",
         "hovertext": [
          "plymouth duster",
          "amc hornet",
          "ford maverick",
          "amc gremlin",
          "chevrolet vega 2300",
          "amc gremlin",
          "plymouth satellite custom",
          "chevrolet chevelle malibu",
          "ford torino 500",
          "amc matador",
          "amc hornet sportabout (sw)",
          "chevrolet vega (sw)",
          "pontiac firebird",
          "ford mustang",
          "mercury capri 2000",
          "plymouth cricket",
          "dodge colt hardtop",
          "chevrolet vega",
          "ford pinto runabout",
          "ford pinto (sw)",
          "dodge colt (sw)",
          "plymouth valiant",
          "chevrolet nova custom",
          "amc hornet",
          "ford maverick",
          "plymouth duster",
          "amc gremlin",
          "chevrolet vega",
          "ford pinto",
          "mercury capri v6",
          "plymouth duster",
          "amc hornet",
          "chevrolet nova",
          "ford pinto",
          "chevrolet vega",
          "chevrolet chevelle malibu classic",
          "amc matador",
          "plymouth satellite sebring",
          "dodge colt",
          "plymouth valiant custom",
          "chevrolet nova",
          "mercury monarch",
          "ford maverick",
          "buick century",
          "chevroelt chevelle malibu",
          "amc matador",
          "plymouth fury",
          "buick skyhawk",
          "ford pinto",
          "amc gremlin",
          "pontiac astro",
          "ford pinto",
          "amc pacer",
          "capri ii",
          "dodge colt",
          "plymouth valiant",
          "chevrolet nova",
          "ford maverick",
          "amc hornet",
          "chevrolet chevette",
          "chevrolet woody",
          "dodge aspen se",
          "ford granada ghia",
          "pontiac ventura sj",
          "amc pacer d/l",
          "ford pinto",
          "peugeot 504",
          "mercedes-benz 280s",
          "buick opel isuzu deluxe",
          "plymouth arrow gs",
          "oldsmobile cutlass supreme",
          "chevrolet concours",
          "buick skylark",
          "plymouth volare custom",
          "ford granada",
          "pontiac sunbird coupe",
          "ford mustang ii 2+2",
          "chevrolet chevette",
          "dodge colt m/m",
          "ford fiesta",
          "oldsmobile cutlass salon brougham",
          "pontiac phoenix lj",
          "chevrolet malibu",
          "ford fairmont (auto)",
          "ford fairmont (man)",
          "plymouth volare",
          "amc concord",
          "buick century special",
          "mercury zephyr",
          "dodge aspen",
          "amc concord d/l",
          "chevrolet chevette",
          "dodge omni",
          "plymouth sapporo",
          "oldsmobile starfire sx",
          "audi 5000",
          "volvo 264gl",
          "peugeot 604sl",
          "pontiac lemans v6",
          "mercury zephyr 6",
          "ford fairmont 4",
          "amc concord dl 6",
          "dodge aspen 6",
          "dodge colt hatchback custom",
          "amc spirit dl",
          "mercedes benz 300d",
          "oldsmobile cutlass salon brougham",
          "plymouth horizon",
          "plymouth horizon tc3",
          "buick skylark limited",
          "chevrolet citation",
          "oldsmobile omega brougham",
          "pontiac phoenix",
          "chevrolet chevette",
          "chevrolet citation",
          "ford fairmont",
          "amc concord",
          "dodge aspen",
          "dodge colt",
          "plymouth reliant",
          "buick skylark",
          "dodge aries wagon (sw)",
          "chevrolet citation",
          "plymouth reliant",
          "plymouth champ",
          "plymouth horizon 4",
          "ford escort 4w",
          "ford escort 2h",
          "buick century",
          "oldsmobile cutlass ls",
          "ford granada gl",
          "chrysler lebaron salon",
          "chevrolet cavalier",
          "chevrolet cavalier wagon",
          "chevrolet cavalier 2-door",
          "pontiac j2000 se hatchback",
          "dodge aries se",
          "pontiac phoenix",
          "ford fairmont futura",
          "plymouth horizon miser",
          "mercury lynx l",
          "buick century limited",
          "oldsmobile cutlass ciera (diesel)",
          "chrysler lebaron medallion",
          "ford granada l",
          "dodge charger 2.2",
          "chevrolet camaro",
          "ford mustang gl",
          "dodge rampage",
          "ford ranger",
          "chevy s-10"
         ],
         "legendgroup": "1",
         "marker": {
          "color": "#00cc96",
          "symbol": "circle"
         },
         "mode": "markers",
         "name": "1",
         "orientation": "v",
         "showlegend": true,
         "type": "scatter",
         "x": [
          0.7187417879547205,
          0.9077937459259197,
          0.5158811834731746,
          0.6808411089928279,
          -0.619231158427669,
          1.1250318471951035,
          1.435777384636931,
          1.3838557788447654,
          1.155073687111207,
          1.2472056740007094,
          1.479522233419897,
          -0.7623053353808523,
          1.3114399566376749,
          1.2188532859466845,
          -0.3728938521711008,
          -1.5088048394367783,
          -0.9942144973557242,
          -0.5860569270947419,
          -0.5555872202245108,
          -0.4805829635857063,
          -0.9376428681278565,
          0.9929184144486708,
          1.0719897853531273,
          0.9343284597173934,
          0.8734419932790236,
          0.49333110411785364,
          0.9532581108370882,
          -0.8725677814209033,
          -0.6670813340646505,
          0.5258002203078571,
          0.628384371703416,
          0.8111352589638805,
          1.1825340937849131,
          -0.8623283927242303,
          -0.7981152121151961,
          1.3391447623695305,
          1.311102965271686,
          1.1643311309340392,
          -1.101091807025937,
          0.8460061259987729,
          1.1807903117335456,
          0.5285506541454442,
          0.5385469010258633,
          0.958003983103366,
          1.2516833355545147,
          1.2586800088300438,
          0.8616644650541557,
          0.910580328757528,
          -0.6320963985296504,
          0.7141595356741184,
          -0.8398317773638221,
          0.7121827673582913,
          0.707966606895386,
          -0.5333364418736907,
          -1.2740517450200866,
          0.7371560602862702,
          1.0208950620039177,
          0.05267333504321242,
          0.3724732918253316,
          -2.248382290914607,
          -1.833162032896757,
          0.8169865186749331,
          0.4548819514755421,
          1.2193785396388395,
          0.7951634522625587,
          -0.6911463687104754,
          -1.2869765338572394,
          0.52244772016267,
          -1.2438577654569452,
          -0.821421993035352,
          1.6705027965101815,
          1.1369316499361055,
          0.7799964874419747,
          0.8005115759171747,
          0.735162636898158,
          -0.5841321992816298,
          -0.6397553448439851,
          -1.7359023556024242,
          -1.568947958181782,
          -1.909595584283505,
          1.4739357093847067,
          0.6296263197820996,
          0.26277141672702653,
          0.30725263453586493,
          -0.6652570194184618,
          0.6268718336499043,
          0.5054857163793574,
          0.7993570271509532,
          0.245091732397538,
          0.7697582918910981,
          1.2516711529636146,
          -1.6234829377193107,
          -1.3536385428363504,
          -0.448020675472114,
          -0.7276224505290722,
          -0.6955336689261916,
          0.3877145287024384,
          0.43100558655647847,
          0.7755745919635846,
          0.0654552796816591,
          -0.6796522865491975,
          0.3467593146285248,
          0.6895787816978692,
          -1.7520969825984145,
          -0.9711724669678109,
          -1.1135382824302185,
          0.44412145517593604,
          -1.5131582966792472,
          -1.7047376457790087,
          -0.8935343743209302,
          0.2728335805006966,
          0.2721758138466127,
          -0.937212790153069,
          -1.7395785660729697,
          -0.9708537569008396,
          -1.0133686248772078,
          -0.9699683698502276,
          0.32564967852517324,
          -0.5498511089865387,
          -1.1232964053831673,
          -1.0292636015211827,
          -0.7168250917931694,
          0.3096449789395401,
          -1.052275052270056,
          -2.4270417342522674,
          -1.8643561429713587,
          -2.0530921851818023,
          -2.090766002939554,
          0.614366937634298,
          1.1339251266639307,
          0.09846033132955342,
          0.5218453395458189,
          -1.5664203412075781,
          -1.41156950486644,
          -1.8063364794987091,
          -1.4461625890949432,
          -1.2758136368287978,
          -1.1423617825985692,
          -0.815836951931984,
          -2.101130925767055,
          -2.197750340570526,
          -0.02976148337433218,
          -0.6135959456427883,
          -0.8064912552310036,
          0.43559676794770624,
          -1.411546000805978,
          -0.9799933742928885,
          -0.9821083541071532,
          -1.1268082836860314,
          -1.5257188064315703,
          -1.6725955797061611
         ],
         "xaxis": "x",
         "y": [
          -0.15828156352214517,
          -0.1194788379108267,
          -0.28211116908869316,
          -0.09238511376686354,
          -0.3234959985966575,
          0.21611405288568247,
          -0.181712842381326,
          -0.20912618199584693,
          -0.2924197779863674,
          -0.21562473875451998,
          0.18931913708022124,
          -0.9726941987093682,
          -0.13747243298207434,
          -0.11616811897460955,
          -0.0748077020618434,
          -1.2374061118834618,
          -0.7037336892581534,
          -1.0272656738098875,
          -0.5637603353572269,
          -0.49656386660449536,
          -0.3982840395967299,
          -0.5293443757997123,
          -0.7955520435279626,
          -0.4689580728824189,
          -0.6240533753742699,
          -0.5317283302717333,
          -0.29896838112096913,
          -1.2362530180371507,
          -0.9812784945960484,
          -0.1074663260308858,
          -0.6990025521584804,
          -0.5670561899875257,
          -0.7242111322323797,
          -0.8291486690915528,
          -0.9366075707462116,
          -0.7515270475094633,
          -0.84510822146628,
          -0.6472816530027735,
          -0.5351782707954801,
          -0.7100904572545188,
          -0.6493880927758358,
          -1.6428051858037653,
          -1.3858979131819764,
          -1.4498290332825263,
          -1.064818626897246,
          -1.1006720958322203,
          -1.2166816677579813,
          -0.45686148669467436,
          -0.9752132195384924,
          -0.6678942044385826,
          -1.2469990709672143,
          -0.4424774894012832,
          -0.8993531024109707,
          -0.6823447508101858,
          -1.2127453060570719,
          -0.6928612982628419,
          -0.5185458985377358,
          -1.170274978016758,
          -1.1058179495846303,
          -2.116659630005287,
          -2.0296157652050164,
          -1.0748322598262539,
          -1.725324765399825,
          -0.75776886974914,
          -1.0798970879027614,
          -0.6008922802621737,
          -0.8078772508648059,
          0.2504297519066333,
          -0.8468051406687593,
          -0.8423121992908589,
          -1.2924589330040817,
          -0.8726206763309674,
          -1.000069884007277,
          -1.1621849722868876,
          -1.3740036375627853,
          -0.9831774917246026,
          -0.9528186836280266,
          -1.3071352621647971,
          -1.026091133090795,
          -0.9818786913457447,
          -0.8018043780174906,
          -1.4656712652216797,
          -1.357615558828656,
          -1.0173435143052094,
          -0.9841190272904061,
          -1.1745016546154594,
          -1.2170363454176414,
          -0.9140468650968556,
          -1.172187909610881,
          -1.355495701348521,
          -0.6921900887398451,
          -1.2919052260623485,
          -0.9324400220526818,
          -1.0799904302418943,
          -1.3570159064611165,
          0.0965304086096972,
          0.6249023029455685,
          0.30767762021551237,
          -0.8815647470873968,
          -1.500441125988015,
          -1.3787198678945347,
          -1.4811991592124725,
          -1.1079053849765828,
          -0.9944601202630483,
          -1.0758143001365184,
          -0.8943427673573793,
          -2.132361707941512,
          -0.8639099143221637,
          -1.1395188852659313,
          -1.1793739742631713,
          -0.2355600859874517,
          -0.48874192859671467,
          -0.7491393006238642,
          -1.316627196835149,
          -1.3529214754318277,
          -1.6263334610096882,
          -1.9315870804417894,
          -1.6567794861407252,
          -0.9253299030179978,
          -1.3420704983243896,
          -1.456967618090032,
          -1.077323876690578,
          -0.6405260188073476,
          -0.8986398162090821,
          -1.6243320231295255,
          -1.3748356390668648,
          -1.5649905743055983,
          -2.2856383949642214,
          -1.1789495215790775,
          -1.7279804358010733,
          -1.497826137475452,
          -1.4352940074107412,
          -2.0593450689143933,
          -1.8926109480517255,
          -1.8248180014991453,
          -1.5413951136180664,
          -1.4974537155196215,
          -1.7820476960679472,
          -1.4999656556412555,
          -1.451853029723638,
          -1.8210360638815475,
          -1.3706122178395719,
          -1.6885981848479792,
          -1.1873633207970926,
          -1.051982441000993,
          -1.0440084618528827,
          -1.6786386788447056,
          -1.420514405590347,
          -0.7892139437732671,
          -1.9512401501478516,
          -2.085532141866373
         ],
         "yaxis": "y"
        }
       ],
       "layout": {
        "annotations": [
         {
          "ax": 0,
          "ay": 0,
          "text": "mpg",
          "x": -0.8928155806384663,
          "xanchor": "center",
          "y": -0.05034625496064297,
          "yanchor": "bottom"
         },
         {
          "ax": 0,
          "ay": 0,
          "text": "cylinders",
          "x": 0.9299663778955238,
          "xanchor": "center",
          "y": 0.022486691690942705,
          "yanchor": "bottom"
         },
         {
          "ax": 0,
          "ay": 0,
          "text": "displacement",
          "x": 0.9645639314670257,
          "xanchor": "center",
          "y": 0.01609928868691508,
          "yanchor": "bottom"
         },
         {
          "ax": 0,
          "ay": 0,
          "text": "horsepower",
          "x": 0.9176742607508148,
          "xanchor": "center",
          "y": 0.25399519601308646,
          "yanchor": "bottom"
         },
         {
          "ax": 0,
          "ay": 0,
          "text": "weight",
          "x": 0.9297093506412808,
          "xanchor": "center",
          "y": -0.04444702315930335,
          "yanchor": "bottom"
         },
         {
          "ax": 0,
          "ay": 0,
          "text": "acceleration",
          "x": -0.5953502847669855,
          "xanchor": "center",
          "y": -0.488010726452543,
          "yanchor": "bottom"
         },
         {
          "ax": 0,
          "ay": 0,
          "text": "model_year",
          "x": -0.48113156768218746,
          "xanchor": "center",
          "y": -0.37810549739366756,
          "yanchor": "bottom"
         },
         {
          "ax": 0,
          "ay": 0,
          "text": "origin_japan",
          "x": -0.5442238707775562,
          "xanchor": "center",
          "y": 0.6616262918578164,
          "yanchor": "bottom"
         },
         {
          "ax": 0,
          "ay": 0,
          "text": "origin_usa",
          "x": 0.7045559429203703,
          "xanchor": "center",
          "y": -0.5472036960986221,
          "yanchor": "bottom"
         }
        ],
        "legend": {
         "title": {
          "text": "color"
         },
         "tracegroupgap": 0
        },
        "margin": {
         "t": 60
        },
        "shapes": [
         {
          "line": {
           "color": "red",
           "width": 3
          },
          "type": "line",
          "x0": 0,
          "x1": -0.8928155806384663,
          "y0": 0,
          "y1": -0.05034625496064297
         },
         {
          "line": {
           "color": "red",
           "width": 3
          },
          "type": "line",
          "x0": 0,
          "x1": 0.9299663778955238,
          "y0": 0,
          "y1": 0.022486691690942705
         },
         {
          "line": {
           "color": "red",
           "width": 3
          },
          "type": "line",
          "x0": 0,
          "x1": 0.9645639314670257,
          "y0": 0,
          "y1": 0.01609928868691508
         },
         {
          "line": {
           "color": "red",
           "width": 3
          },
          "type": "line",
          "x0": 0,
          "x1": 0.9176742607508148,
          "y0": 0,
          "y1": 0.25399519601308646
         },
         {
          "line": {
           "color": "red",
           "width": 3
          },
          "type": "line",
          "x0": 0,
          "x1": 0.9297093506412808,
          "y0": 0,
          "y1": -0.04444702315930335
         },
         {
          "line": {
           "color": "red",
           "width": 3
          },
          "type": "line",
          "x0": 0,
          "x1": -0.5953502847669855,
          "y0": 0,
          "y1": -0.488010726452543
         },
         {
          "line": {
           "color": "red",
           "width": 3
          },
          "type": "line",
          "x0": 0,
          "x1": -0.48113156768218746,
          "y0": 0,
          "y1": -0.37810549739366756
         },
         {
          "line": {
           "color": "red",
           "width": 3
          },
          "type": "line",
          "x0": 0,
          "x1": -0.5442238707775562,
          "y0": 0,
          "y1": 0.6616262918578164
         },
         {
          "line": {
           "color": "red",
           "width": 3
          },
          "type": "line",
          "x0": 0,
          "x1": 0.7045559429203703,
          "y0": 0,
          "y1": -0.5472036960986221
         }
        ],
        "template": {
         "data": {
          "bar": [
           {
            "error_x": {
             "color": "#2a3f5f"
            },
            "error_y": {
             "color": "#2a3f5f"
            },
            "marker": {
             "line": {
              "color": "#E5ECF6",
              "width": 0.5
             },
             "pattern": {
              "fillmode": "overlay",
              "size": 10,
              "solidity": 0.2
             }
            },
            "type": "bar"
           }
          ],
          "barpolar": [
           {
            "marker": {
             "line": {
              "color": "#E5ECF6",
              "width": 0.5
             },
             "pattern": {
              "fillmode": "overlay",
              "size": 10,
              "solidity": 0.2
             }
            },
            "type": "barpolar"
           }
          ],
          "carpet": [
           {
            "aaxis": {
             "endlinecolor": "#2a3f5f",
             "gridcolor": "white",
             "linecolor": "white",
             "minorgridcolor": "white",
             "startlinecolor": "#2a3f5f"
            },
            "baxis": {
             "endlinecolor": "#2a3f5f",
             "gridcolor": "white",
             "linecolor": "white",
             "minorgridcolor": "white",
             "startlinecolor": "#2a3f5f"
            },
            "type": "carpet"
           }
          ],
          "choropleth": [
           {
            "colorbar": {
             "outlinewidth": 0,
             "ticks": ""
            },
            "type": "choropleth"
           }
          ],
          "contour": [
           {
            "colorbar": {
             "outlinewidth": 0,
             "ticks": ""
            },
            "colorscale": [
             [
              0,
              "#0d0887"
             ],
             [
              0.1111111111111111,
              "#46039f"
             ],
             [
              0.2222222222222222,
              "#7201a8"
             ],
             [
              0.3333333333333333,
              "#9c179e"
             ],
             [
              0.4444444444444444,
              "#bd3786"
             ],
             [
              0.5555555555555556,
              "#d8576b"
             ],
             [
              0.6666666666666666,
              "#ed7953"
             ],
             [
              0.7777777777777778,
              "#fb9f3a"
             ],
             [
              0.8888888888888888,
              "#fdca26"
             ],
             [
              1,
              "#f0f921"
             ]
            ],
            "type": "contour"
           }
          ],
          "contourcarpet": [
           {
            "colorbar": {
             "outlinewidth": 0,
             "ticks": ""
            },
            "type": "contourcarpet"
           }
          ],
          "heatmap": [
           {
            "colorbar": {
             "outlinewidth": 0,
             "ticks": ""
            },
            "colorscale": [
             [
              0,
              "#0d0887"
             ],
             [
              0.1111111111111111,
              "#46039f"
             ],
             [
              0.2222222222222222,
              "#7201a8"
             ],
             [
              0.3333333333333333,
              "#9c179e"
             ],
             [
              0.4444444444444444,
              "#bd3786"
             ],
             [
              0.5555555555555556,
              "#d8576b"
             ],
             [
              0.6666666666666666,
              "#ed7953"
             ],
             [
              0.7777777777777778,
              "#fb9f3a"
             ],
             [
              0.8888888888888888,
              "#fdca26"
             ],
             [
              1,
              "#f0f921"
             ]
            ],
            "type": "heatmap"
           }
          ],
          "heatmapgl": [
           {
            "colorbar": {
             "outlinewidth": 0,
             "ticks": ""
            },
            "colorscale": [
             [
              0,
              "#0d0887"
             ],
             [
              0.1111111111111111,
              "#46039f"
             ],
             [
              0.2222222222222222,
              "#7201a8"
             ],
             [
              0.3333333333333333,
              "#9c179e"
             ],
             [
              0.4444444444444444,
              "#bd3786"
             ],
             [
              0.5555555555555556,
              "#d8576b"
             ],
             [
              0.6666666666666666,
              "#ed7953"
             ],
             [
              0.7777777777777778,
              "#fb9f3a"
             ],
             [
              0.8888888888888888,
              "#fdca26"
             ],
             [
              1,
              "#f0f921"
             ]
            ],
            "type": "heatmapgl"
           }
          ],
          "histogram": [
           {
            "marker": {
             "pattern": {
              "fillmode": "overlay",
              "size": 10,
              "solidity": 0.2
             }
            },
            "type": "histogram"
           }
          ],
          "histogram2d": [
           {
            "colorbar": {
             "outlinewidth": 0,
             "ticks": ""
            },
            "colorscale": [
             [
              0,
              "#0d0887"
             ],
             [
              0.1111111111111111,
              "#46039f"
             ],
             [
              0.2222222222222222,
              "#7201a8"
             ],
             [
              0.3333333333333333,
              "#9c179e"
             ],
             [
              0.4444444444444444,
              "#bd3786"
             ],
             [
              0.5555555555555556,
              "#d8576b"
             ],
             [
              0.6666666666666666,
              "#ed7953"
             ],
             [
              0.7777777777777778,
              "#fb9f3a"
             ],
             [
              0.8888888888888888,
              "#fdca26"
             ],
             [
              1,
              "#f0f921"
             ]
            ],
            "type": "histogram2d"
           }
          ],
          "histogram2dcontour": [
           {
            "colorbar": {
             "outlinewidth": 0,
             "ticks": ""
            },
            "colorscale": [
             [
              0,
              "#0d0887"
             ],
             [
              0.1111111111111111,
              "#46039f"
             ],
             [
              0.2222222222222222,
              "#7201a8"
             ],
             [
              0.3333333333333333,
              "#9c179e"
             ],
             [
              0.4444444444444444,
              "#bd3786"
             ],
             [
              0.5555555555555556,
              "#d8576b"
             ],
             [
              0.6666666666666666,
              "#ed7953"
             ],
             [
              0.7777777777777778,
              "#fb9f3a"
             ],
             [
              0.8888888888888888,
              "#fdca26"
             ],
             [
              1,
              "#f0f921"
             ]
            ],
            "type": "histogram2dcontour"
           }
          ],
          "mesh3d": [
           {
            "colorbar": {
             "outlinewidth": 0,
             "ticks": ""
            },
            "type": "mesh3d"
           }
          ],
          "parcoords": [
           {
            "line": {
             "colorbar": {
              "outlinewidth": 0,
              "ticks": ""
             }
            },
            "type": "parcoords"
           }
          ],
          "pie": [
           {
            "automargin": true,
            "type": "pie"
           }
          ],
          "scatter": [
           {
            "fillpattern": {
             "fillmode": "overlay",
             "size": 10,
             "solidity": 0.2
            },
            "type": "scatter"
           }
          ],
          "scatter3d": [
           {
            "line": {
             "colorbar": {
              "outlinewidth": 0,
              "ticks": ""
             }
            },
            "marker": {
             "colorbar": {
              "outlinewidth": 0,
              "ticks": ""
             }
            },
            "type": "scatter3d"
           }
          ],
          "scattercarpet": [
           {
            "marker": {
             "colorbar": {
              "outlinewidth": 0,
              "ticks": ""
             }
            },
            "type": "scattercarpet"
           }
          ],
          "scattergeo": [
           {
            "marker": {
             "colorbar": {
              "outlinewidth": 0,
              "ticks": ""
             }
            },
            "type": "scattergeo"
           }
          ],
          "scattergl": [
           {
            "marker": {
             "colorbar": {
              "outlinewidth": 0,
              "ticks": ""
             }
            },
            "type": "scattergl"
           }
          ],
          "scattermapbox": [
           {
            "marker": {
             "colorbar": {
              "outlinewidth": 0,
              "ticks": ""
             }
            },
            "type": "scattermapbox"
           }
          ],
          "scatterpolar": [
           {
            "marker": {
             "colorbar": {
              "outlinewidth": 0,
              "ticks": ""
             }
            },
            "type": "scatterpolar"
           }
          ],
          "scatterpolargl": [
           {
            "marker": {
             "colorbar": {
              "outlinewidth": 0,
              "ticks": ""
             }
            },
            "type": "scatterpolargl"
           }
          ],
          "scatterternary": [
           {
            "marker": {
             "colorbar": {
              "outlinewidth": 0,
              "ticks": ""
             }
            },
            "type": "scatterternary"
           }
          ],
          "surface": [
           {
            "colorbar": {
             "outlinewidth": 0,
             "ticks": ""
            },
            "colorscale": [
             [
              0,
              "#0d0887"
             ],
             [
              0.1111111111111111,
              "#46039f"
             ],
             [
              0.2222222222222222,
              "#7201a8"
             ],
             [
              0.3333333333333333,
              "#9c179e"
             ],
             [
              0.4444444444444444,
              "#bd3786"
             ],
             [
              0.5555555555555556,
              "#d8576b"
             ],
             [
              0.6666666666666666,
              "#ed7953"
             ],
             [
              0.7777777777777778,
              "#fb9f3a"
             ],
             [
              0.8888888888888888,
              "#fdca26"
             ],
             [
              1,
              "#f0f921"
             ]
            ],
            "type": "surface"
           }
          ],
          "table": [
           {
            "cells": {
             "fill": {
              "color": "#EBF0F8"
             },
             "line": {
              "color": "white"
             }
            },
            "header": {
             "fill": {
              "color": "#C8D4E3"
             },
             "line": {
              "color": "white"
             }
            },
            "type": "table"
           }
          ]
         },
         "layout": {
          "annotationdefaults": {
           "arrowcolor": "#2a3f5f",
           "arrowhead": 0,
           "arrowwidth": 1
          },
          "autotypenumbers": "strict",
          "coloraxis": {
           "colorbar": {
            "outlinewidth": 0,
            "ticks": ""
           }
          },
          "colorscale": {
           "diverging": [
            [
             0,
             "#8e0152"
            ],
            [
             0.1,
             "#c51b7d"
            ],
            [
             0.2,
             "#de77ae"
            ],
            [
             0.3,
             "#f1b6da"
            ],
            [
             0.4,
             "#fde0ef"
            ],
            [
             0.5,
             "#f7f7f7"
            ],
            [
             0.6,
             "#e6f5d0"
            ],
            [
             0.7,
             "#b8e186"
            ],
            [
             0.8,
             "#7fbc41"
            ],
            [
             0.9,
             "#4d9221"
            ],
            [
             1,
             "#276419"
            ]
           ],
           "sequential": [
            [
             0,
             "#0d0887"
            ],
            [
             0.1111111111111111,
             "#46039f"
            ],
            [
             0.2222222222222222,
             "#7201a8"
            ],
            [
             0.3333333333333333,
             "#9c179e"
            ],
            [
             0.4444444444444444,
             "#bd3786"
            ],
            [
             0.5555555555555556,
             "#d8576b"
            ],
            [
             0.6666666666666666,
             "#ed7953"
            ],
            [
             0.7777777777777778,
             "#fb9f3a"
            ],
            [
             0.8888888888888888,
             "#fdca26"
            ],
            [
             1,
             "#f0f921"
            ]
           ],
           "sequentialminus": [
            [
             0,
             "#0d0887"
            ],
            [
             0.1111111111111111,
             "#46039f"
            ],
            [
             0.2222222222222222,
             "#7201a8"
            ],
            [
             0.3333333333333333,
             "#9c179e"
            ],
            [
             0.4444444444444444,
             "#bd3786"
            ],
            [
             0.5555555555555556,
             "#d8576b"
            ],
            [
             0.6666666666666666,
             "#ed7953"
            ],
            [
             0.7777777777777778,
             "#fb9f3a"
            ],
            [
             0.8888888888888888,
             "#fdca26"
            ],
            [
             1,
             "#f0f921"
            ]
           ]
          },
          "colorway": [
           "#636efa",
           "#EF553B",
           "#00cc96",
           "#ab63fa",
           "#FFA15A",
           "#19d3f3",
           "#FF6692",
           "#B6E880",
           "#FF97FF",
           "#FECB52"
          ],
          "font": {
           "color": "#2a3f5f"
          },
          "geo": {
           "bgcolor": "white",
           "lakecolor": "white",
           "landcolor": "#E5ECF6",
           "showlakes": true,
           "showland": true,
           "subunitcolor": "white"
          },
          "hoverlabel": {
           "align": "left"
          },
          "hovermode": "closest",
          "mapbox": {
           "style": "light"
          },
          "paper_bgcolor": "white",
          "plot_bgcolor": "#E5ECF6",
          "polar": {
           "angularaxis": {
            "gridcolor": "white",
            "linecolor": "white",
            "ticks": ""
           },
           "bgcolor": "#E5ECF6",
           "radialaxis": {
            "gridcolor": "white",
            "linecolor": "white",
            "ticks": ""
           }
          },
          "scene": {
           "xaxis": {
            "backgroundcolor": "#E5ECF6",
            "gridcolor": "white",
            "gridwidth": 2,
            "linecolor": "white",
            "showbackground": true,
            "ticks": "",
            "zerolinecolor": "white"
           },
           "yaxis": {
            "backgroundcolor": "#E5ECF6",
            "gridcolor": "white",
            "gridwidth": 2,
            "linecolor": "white",
            "showbackground": true,
            "ticks": "",
            "zerolinecolor": "white"
           },
           "zaxis": {
            "backgroundcolor": "#E5ECF6",
            "gridcolor": "white",
            "gridwidth": 2,
            "linecolor": "white",
            "showbackground": true,
            "ticks": "",
            "zerolinecolor": "white"
           }
          },
          "shapedefaults": {
           "line": {
            "color": "#2a3f5f"
           }
          },
          "ternary": {
           "aaxis": {
            "gridcolor": "white",
            "linecolor": "white",
            "ticks": ""
           },
           "baxis": {
            "gridcolor": "white",
            "linecolor": "white",
            "ticks": ""
           },
           "bgcolor": "#E5ECF6",
           "caxis": {
            "gridcolor": "white",
            "linecolor": "white",
            "ticks": ""
           }
          },
          "title": {
           "x": 0.05
          },
          "xaxis": {
           "automargin": true,
           "gridcolor": "white",
           "linecolor": "white",
           "ticks": "",
           "title": {
            "standoff": 15
           },
           "zerolinecolor": "white",
           "zerolinewidth": 2
          },
          "yaxis": {
           "automargin": true,
           "gridcolor": "white",
           "linecolor": "white",
           "ticks": "",
           "title": {
            "standoff": 15
           },
           "zerolinecolor": "white",
           "zerolinewidth": 2
          }
         }
        },
        "xaxis": {
         "anchor": "y",
         "domain": [
          0,
          1
         ],
         "title": {
          "text": "PC1 ~ 0.63%"
         }
        },
        "yaxis": {
         "anchor": "x",
         "domain": [
          0,
          1
         ],
         "title": {
          "text": "PC2 ~ 0.13%"
         }
        }
       }
      },
      "text/html": [
       "<div>                            <div id=\"eea5ae00-c954-4acf-b52d-92d9a52fe173\" class=\"plotly-graph-div\" style=\"height:525px; width:100%;\"></div>            <script type=\"text/javascript\">                require([\"plotly\"], function(Plotly) {                    window.PLOTLYENV=window.PLOTLYENV || {};                                    if (document.getElementById(\"eea5ae00-c954-4acf-b52d-92d9a52fe173\")) {                    Plotly.newPlot(                        \"eea5ae00-c954-4acf-b52d-92d9a52fe173\",                        [{\"hovertemplate\":\"<b>%{hovertext}</b><br><br>color=2<br>PC1 ~ 0.63%=%{x}<br>PC2 ~ 0.13%=%{y}<extra></extra>\",\"hovertext\":[\"chevrolet chevelle malibu\",\"buick skylark 320\",\"plymouth satellite\",\"amc rebel sst\",\"ford torino\",\"ford galaxie 500\",\"chevrolet impala\",\"plymouth fury iii\",\"pontiac catalina\",\"amc ambassador dpl\",\"dodge challenger se\",\"plymouth 'cuda 340\",\"chevrolet monte carlo\",\"buick estate wagon (sw)\",\"ford f250\",\"chevy c20\",\"dodge d200\",\"hi 1200d\",\"chevrolet impala\",\"pontiac catalina brougham\",\"ford galaxie 500\",\"plymouth fury iii\",\"dodge monaco (sw)\",\"ford country squire (sw)\",\"pontiac safari (sw)\",\"chevrolet impala\",\"pontiac catalina\",\"plymouth fury iii\",\"ford galaxie 500\",\"amc ambassador sst\",\"mercury marquis\",\"buick lesabre custom\",\"oldsmobile delta 88 royale\",\"chrysler newport royal\",\"amc matador (sw)\",\"chevrolet chevelle concours (sw)\",\"ford gran torino (sw)\",\"plymouth satellite custom (sw)\",\"buick century 350\",\"amc matador\",\"chevrolet malibu\",\"ford gran torino\",\"dodge coronet custom\",\"mercury marquis brougham\",\"chevrolet caprice classic\",\"ford ltd\",\"plymouth fury gran sedan\",\"chrysler new yorker brougham\",\"buick electra 225 custom\",\"amc ambassador brougham\",\"chevrolet impala\",\"ford country\",\"plymouth custom suburb\",\"oldsmobile vista cruiser\",\"chevrolet monte carlo s\",\"pontiac grand prix\",\"dodge dart custom\",\"oldsmobile omega\",\"ford gran torino\",\"buick century luxus (sw)\",\"dodge coronet custom (sw)\",\"ford gran torino (sw)\",\"amc matador (sw)\",\"pontiac catalina\",\"chevrolet bel air\",\"plymouth grand fury\",\"ford ltd\",\"chevrolet monza 2+2\",\"ford mustang ii\",\"chevrolet chevelle malibu classic\",\"dodge coronet brougham\",\"amc matador\",\"ford gran torino\",\"plymouth volare premier v8\",\"cadillac seville\",\"chevy c10\",\"ford f108\",\"dodge d100\",\"chevrolet caprice classic\",\"dodge monaco brougham\",\"mercury cougar brougham\",\"pontiac grand prix lj\",\"chevrolet monte carlo landau\",\"chrysler cordoba\",\"ford thunderbird\",\"dodge diplomat\",\"mercury monarch ghia\",\"chevrolet monte carlo landau\",\"buick regal sport coupe (turbo)\",\"ford futura\",\"dodge magnum xe\",\"chevrolet caprice classic\",\"ford ltd landau\",\"mercury grand marquis\",\"dodge st. regis\",\"buick estate wagon (sw)\",\"ford country squire (sw)\",\"chevrolet malibu classic (sw)\",\"chrysler lebaron town @ country (sw)\",\"cadillac eldorado\"],\"legendgroup\":\"2\",\"marker\":{\"color\":\"#636efa\",\"symbol\":\"circle\"},\"mode\":\"markers\",\"name\":\"2\",\"orientation\":\"v\",\"showlegend\":true,\"x\":[2.768101540871218,3.5617956121137855,3.0704887096489473,3.020336929873965,3.007717109083675,4.632490431458017,5.094469429700947,5.016170883199186,5.090410338149976,4.311461998206059,3.8159430065972666,3.7997906445666967,3.817831087801164,4.474529595624324,4.539184109214653,3.9829985413493474,4.2165074953613875,3.7956717556448845,3.7469755307411203,4.203465298813928,3.469303293081093,3.3300870483405993,4.50968736198196,4.285807745344449,4.517123646681602,3.7700567820514763,4.066901911248673,3.1997288007521294,3.4482602630809307,3.0177670685735394,4.858808968921738,3.6387158952704888,3.715720906747915,4.236928551522718,3.1244138609937004,2.990526928281098,2.980132134875459,3.175779631805892,3.6446429006767427,3.1070904723215795,3.292567830344468,2.867236257481446,3.070861881342404,4.757051654295556,3.845955853909782,3.5991673731083718,3.1491456672903997,4.86743840278331,5.173147058401887,3.7364153432611458,4.005886047171806,4.222301906026265,3.8880996463395485,3.971669592337553,3.2396643945111494,4.644395444945272,3.0330227307451025,3.7717003042158974,2.83714446668678,3.4787800717914115,3.2861331684780053,2.9805162531295943,2.9585480837448066,3.931521616937018,3.2038747837893315,3.063283820780725,3.431025654813889,1.7566640632710426,2.5505510377939418,2.7916088423960153,3.0027560622880407,2.4855180308359444,3.2523574799124377,3.0138394903681527,3.572238056800296,3.2494110824627316,2.5560649305340597,2.856201479678187,2.6780728692684366,2.8353363230094226,2.6095896109782664,3.752150197665228,3.4298229470206065,3.824916023414914,2.9963455292088743,2.4019451841723467,2.251875846060634,2.268711187642098,1.7874147479698739,2.330030634535997,2.606620854589843,2.160678457624367,2.2386682110746827,2.6954387354066167,2.2169802029298324,2.8747761749764256,2.729367640272803,1.785823932335057,2.7656218242804966,1.8427048456742507],\"xaxis\":\"x\",\"y\":[0.6536686698172107,0.9618424410466513,0.9422170408259083,0.7897426311564746,0.9658848801234108,1.3856317199998154,1.6903140188207062,1.7412913094917397,1.5548599921028239,1.5989644651082178,1.2468001591473192,1.5088024728722194,1.1996965708857104,1.6192235455454083,0.845421811677407,0.596003258526481,0.8956975398278197,-0.026758099262872315,0.7674314988142199,0.904102939703836,0.4537395827492992,0.5149241805420612,0.9202583268148081,0.7849191070376174,0.7962886945067544,0.6759449061474159,0.7323671916642902,0.33159087568377804,0.4418991678282285,0.664999039787268,1.1048484639522407,0.36063172471550936,0.3990768855892784,0.746194218821556,0.5037839493161869,0.1411861739247962,-0.13330685508829876,0.259058817362617,0.48814719505065046,0.5884878687200885,0.31167969088354847,0.004144671501017716,0.4170027421384726,0.8474389601999839,0.4886650066629364,0.3725975468908916,0.07583472781987621,1.0377934014973893,1.096073068176274,0.8279535841508694,0.14991348963541978,0.4951477529589437,0.4326220505001582,0.5864474419466887,0.29531028642370366,1.3709932540772924,0.6789091257072584,0.8762465612864423,-0.007322082903606142,-0.030212571325995086,0.13346307381914607,-0.3443431384494699,-0.18388386867439332,0.47498693921648855,-0.07296449089241108,-0.13713736908747087,0.022102115547087187,-0.18734746702333793,0.22119249727540652,-0.0454276455452145,0.027116591313183225,-0.2890327266151604,0.08408849515691696,0.02441194575420813,0.3476363789560624,0.18808722427222918,-0.3882024408153347,-0.09668822523783993,-0.012058337355938087,-0.2058571273586728,-0.498521011651198,0.4335597612536098,0.3227355948485516,0.3133522524081845,-0.3192754389696705,-0.25284949264436063,-0.19298511612064018,-0.20829191232438993,-0.1463066073766549,0.09698900723450554,-0.3394201661191465,-0.7578976865132783,-0.43742874992662173,-0.34798790138248714,-0.699883616520346,-0.5431528659134583,-0.5013144880885372,-0.7303202057284306,-0.25260724736873275,-1.1452656197464444],\"yaxis\":\"y\",\"type\":\"scatter\"},{\"hovertemplate\":\"<b>%{hovertext}</b><br><br>color=0<br>PC1 ~ 0.63%=%{x}<br>PC2 ~ 0.13%=%{y}<extra></extra>\",\"hovertext\":[\"toyota corona mark ii\",\"datsun pl510\",\"volkswagen 1131 deluxe sedan\",\"peugeot 504\",\"audi 100 ls\",\"saab 99e\",\"bmw 2002\",\"datsun pl510\",\"toyota corona\",\"opel 1900\",\"peugeot 304\",\"fiat 124b\",\"toyota corolla 1200\",\"datsun 1200\",\"volkswagen model 111\",\"toyota corona hardtop\",\"volkswagen type 3\",\"mazda rx2 coupe\",\"volvo 145e (sw)\",\"volkswagen 411 (sw)\",\"peugeot 504 (sw)\",\"renault 12 (sw)\",\"datsun 510 (sw)\",\"toyouta corona mark ii (sw)\",\"toyota corolla 1600 (sw)\",\"volkswagen super beetle\",\"toyota carina\",\"datsun 610\",\"maxda rx3\",\"fiat 124 sport coupe\",\"fiat 128\",\"opel manta\",\"audi 100ls\",\"volvo 144ea\",\"saab 99le\",\"toyota mark ii\",\"datsun b210\",\"toyota corolla 1200\",\"audi fox\",\"volkswagen dasher\",\"opel manta\",\"toyota corona\",\"datsun 710\",\"fiat 128\",\"fiat 124 tc\",\"honda civic\",\"subaru\",\"fiat x1.9\",\"toyota corolla\",\"toyota corona\",\"volkswagen dasher\",\"datsun 710\",\"volkswagen rabbit\",\"audi 100ls\",\"peugeot 504\",\"volvo 244dl\",\"saab 99le\",\"honda civic cvcc\",\"fiat 131\",\"opel 1900\",\"renault 12tl\",\"vw rabbit\",\"honda civic\",\"volkswagen rabbit\",\"datsun b-210\",\"toyota corolla\",\"volvo 245\",\"toyota mark ii\",\"honda accord cvcc\",\"renault 5 gtl\",\"datsun f-10 hatchback\",\"volkswagen rabbit custom\",\"toyota corolla liftback\",\"subaru dl\",\"volkswagen dasher\",\"datsun 810\",\"bmw 320i\",\"mazda rx-4\",\"volkswagen rabbit custom diesel\",\"mazda glc deluxe\",\"datsun b210 gx\",\"honda civic cvcc\",\"toyota corona\",\"datsun 510\",\"toyota celica gt liftback\",\"datsun 200-sx\",\"saab 99gle\",\"volkswagen scirocco\",\"honda accord lx\",\"vw rabbit custom\",\"maxda glc deluxe\",\"peugeot 504\",\"datsun 210\",\"fiat strada custom\",\"vw rabbit\",\"toyota corolla tercel\",\"datsun 310\",\"audi 4000\",\"toyota corona liftback\",\"mazda 626\",\"datsun 510 hatchback\",\"toyota corolla\",\"mazda glc\",\"datsun 210\",\"vw rabbit c (diesel)\",\"vw dasher (diesel)\",\"audi 5000s (diesel)\",\"mercedes-benz 240d\",\"honda civic 1500 gl\",\"subaru dl\",\"vokswagen rabbit\",\"datsun 280-zx\",\"mazda rx-7 gs\",\"triumph tr7 coupe\",\"honda accord\",\"toyota starlet\",\"honda civic 1300\",\"subaru\",\"datsun 210 mpg\",\"toyota tercel\",\"mazda glc 4\",\"volkswagen jetta\",\"honda prelude\",\"toyota corolla\",\"datsun 200sx\",\"mazda 626\",\"peugeot 505s turbo diesel\",\"volvo diesel\",\"toyota cressida\",\"datsun 810 maxima\",\"volkswagen rabbit l\",\"mazda glc custom l\",\"mazda glc custom\",\"nissan stanza xe\",\"honda accord\",\"toyota corolla\",\"honda civic\",\"honda civic (auto)\",\"datsun 310 gx\",\"toyota celica gt\",\"vw pickup\"],\"legendgroup\":\"0\",\"marker\":{\"color\":\"#EF553B\",\"symbol\":\"circle\"},\"mode\":\"markers\",\"name\":\"0\",\"orientation\":\"v\",\"showlegend\":true,\"x\":[-1.511709090032722,-1.8539919546004495,-2.337105206283634,-1.1708840167191017,-0.9436398046030893,-1.2505822929287729,-0.6639071167898438,-1.9088774646442976,-1.5902151179477677,-1.2518077657249247,-2.212931357517504,-1.668684076477319,-3.004571896267772,-3.135812489521802,-2.1642348431144685,-1.7100573238164953,-2.3018447569371916,-1.6400477727138774,-0.2589961299285349,-1.323437653982443,-1.0898009652878242,-1.8307891304318469,-2.125791803000297,-1.4192834730357569,-2.158927141710039,-2.494208199410836,-2.0216999762290953,-1.7424167430361002,-1.8117452012346846,-1.4058721965382137,-2.622843658548154,-1.439505917467649,-0.7636302480116363,-0.4825311486628632,-0.7025633473933524,-0.2527186232612685,-3.03679124380329,-3.369686347068877,-1.7869380049213204,-1.9036894369634676,-1.4780739790055182,-3.110431448376589,-3.1051013923247326,-1.6180991767383155,-1.4140304768102707,-1.6302847523868471,-1.90339725608961,-2.1723606377205624,-2.471967394462309,-1.4069657942440763,-1.7989168316292194,-1.8446516954605476,-1.9060545256379364,-1.0128297554612462,-1.1239902617662973,-0.7506730887270656,-0.7599097807329924,-3.2168648741469092,-1.5803503388483455,-1.6905586702330213,-1.6879493197806332,-1.97907658514904,-3.26268210945713,-1.8361280647836749,-2.941571414204026,-2.5224156574296877,-0.6490118810553855,-0.6343577993866374,-3.0528310144505357,-2.9838007640191524,-3.071122840200576,-1.9525234911210596,-2.5937957048699842,-2.831782260486329,-1.8733659128379725,-0.9446043305140474,-0.7207093406373247,-1.6862893981364522,-3.6269463662439416,-3.5171867536375294,-3.515353691118172,-3.358355808126506,-1.8786763636182613,-2.067249905616301,-1.6461383377880132,-1.878461296689781,-0.903597073662921,-2.2419767612277792,-2.797884011646174,-2.264372777264806,-3.0970644526989806,-2.2345552088695233,-3.3324107263556955,-2.5054262324792576,-2.6585199479274366,-3.7123790526783513,-3.3895470843522744,-2.375767649067532,-2.1975351428076606,-2.7332460697898475,-2.6637674696137714,-2.741827687325792,-3.9355698291115977,-3.7785269607271794,-3.766541926817839,-3.7896558111083034,-2.286168792679163,-2.145097488283883,-3.5478151473592265,-3.2506028912958116,-2.4631640868581566,-0.862924187603814,-2.1429243842648424,-2.0054091025170004,-2.9371011292583087,-3.799779490281288,-3.5048707066863973,-3.252043854574707,-3.730978421673933,-3.5542588803310164,-3.225358810136074,-2.231237312217606,-2.8254424824464315,-2.91232328237067,-2.3400295843284904,-2.8423414523621005,-1.8800185769476299,-1.5310304021608694,-0.8406188760179021,-0.9230973863763251,-2.6266734645686425,-3.6007500845194307,-3.2832201745076843,-2.842356562403251,-3.0022562131892445,-3.151577178875639,-3.3962509432358208,-3.171311038787438,-3.4912715676900086,-2.190278328734009,-4.036985123492386],\"xaxis\":\"x\",\"y\":[2.4471909246719803,2.477599361160023,-0.2450064260787833,0.4585260711910433,0.9813183200997999,0.5204480644827172,1.4452685859181185,2.3833117242062163,2.5163906703568637,0.9606031680114577,-0.06905627550621729,0.7814736347329232,1.5024668600328224,1.6733350185849507,-0.016571069624199963,2.181888565295983,-0.8749253158047524,2.527935225539342,0.9394536711871764,0.14909658748123666,-0.04467302791601402,0.09490755688720376,1.8935230537163417,2.352458184044198,1.9654840878052116,-0.6146427126770714,1.497843068867375,1.9253376380640295,2.4070432245337523,0.5307727526886317,-0.37060630887151824,0.4593853364457421,0.803147472260344,0.6798739646054126,0.8918578705591249,2.6048191608440847,1.2243498672423454,0.8856681022677257,0.21599683190812824,0.3088973428691101,0.5244119569310582,1.553696451680667,1.1800718271176769,0.3638266371841503,0.5927532432904644,2.0775290712035677,1.9632005460381232,0.19624585719811138,1.6698006875200258,2.2126562698007812,0.0713478015794532,1.6554262284028423,0.4615592601169106,0.4533091969904492,0.0739598569596559,0.5474481096650259,0.8083823955920562,1.2862304277594818,0.20351837217316116,-0.02350050531828729,0.2355029066143977,0.3347734180949132,1.2081918933397708,0.6692273711638221,1.371941493780454,1.517211223050559,0.28568696014592315,1.9121234022159745,1.0239501322415003,-0.5848645457913634,1.3034269058035903,0.2410771949995389,1.1370031965468466,1.370750589273022,0.28516827857001853,1.8999861664070434,0.7273943771946538,2.1031520853300583,-1.2592005313250345,0.6787877294030374,0.8756864935144049,1.2059302259768172,1.7960744347735913,1.7391078639633522,1.7386660236458886,1.7211165920489635,0.18222541188190977,0.02101346023857087,1.2459202669891263,0.07372199498194598,1.3396727272046813,-1.7067888138103395,0.7010328466416614,-0.09371413654340788,-0.1701405618008346,0.6071673746916818,1.0299118366146394,-0.29635009541177093,1.3450653525099425,0.9264144764088776,1.4069658046904263,1.3064299203383118,0.7261014834131542,0.5490896583238422,-1.4921914341045244,-1.8238576386430343,-1.0628121949930018,-1.356619036018475,1.429493483711396,0.7976942411578906,-0.27007032746824067,2.26814507558349,1.9221343212009976,-0.13760134367887977,0.9932328252320076,0.8123890882804229,0.9782495843906719,0.7486385121748166,0.45130990364777,0.7671682752999825,1.0395156964581536,-0.1461613054177614,1.3357493051173743,0.9468857332815227,1.4092641436297857,0.6898243083623744,-1.1331039023303489,-1.0146147579305862,1.9256176724975558,1.7574346225649178,-0.4268711774902708,0.5686411517508937,0.7043324593256896,1.2946267712714037,1.2118242836555102,0.8016068642905702,1.079509341278826,1.001318555313412,0.8830780596349701,1.4434342837483916,-2.1271400067947894],\"yaxis\":\"y\",\"type\":\"scatter\"},{\"hovertemplate\":\"<b>%{hovertext}</b><br><br>color=1<br>PC1 ~ 0.63%=%{x}<br>PC2 ~ 0.13%=%{y}<extra></extra>\",\"hovertext\":[\"plymouth duster\",\"amc hornet\",\"ford maverick\",\"amc gremlin\",\"chevrolet vega 2300\",\"amc gremlin\",\"plymouth satellite custom\",\"chevrolet chevelle malibu\",\"ford torino 500\",\"amc matador\",\"amc hornet sportabout (sw)\",\"chevrolet vega (sw)\",\"pontiac firebird\",\"ford mustang\",\"mercury capri 2000\",\"plymouth cricket\",\"dodge colt hardtop\",\"chevrolet vega\",\"ford pinto runabout\",\"ford pinto (sw)\",\"dodge colt (sw)\",\"plymouth valiant\",\"chevrolet nova custom\",\"amc hornet\",\"ford maverick\",\"plymouth duster\",\"amc gremlin\",\"chevrolet vega\",\"ford pinto\",\"mercury capri v6\",\"plymouth duster\",\"amc hornet\",\"chevrolet nova\",\"ford pinto\",\"chevrolet vega\",\"chevrolet chevelle malibu classic\",\"amc matador\",\"plymouth satellite sebring\",\"dodge colt\",\"plymouth valiant custom\",\"chevrolet nova\",\"mercury monarch\",\"ford maverick\",\"buick century\",\"chevroelt chevelle malibu\",\"amc matador\",\"plymouth fury\",\"buick skyhawk\",\"ford pinto\",\"amc gremlin\",\"pontiac astro\",\"ford pinto\",\"amc pacer\",\"capri ii\",\"dodge colt\",\"plymouth valiant\",\"chevrolet nova\",\"ford maverick\",\"amc hornet\",\"chevrolet chevette\",\"chevrolet woody\",\"dodge aspen se\",\"ford granada ghia\",\"pontiac ventura sj\",\"amc pacer d/l\",\"ford pinto\",\"peugeot 504\",\"mercedes-benz 280s\",\"buick opel isuzu deluxe\",\"plymouth arrow gs\",\"oldsmobile cutlass supreme\",\"chevrolet concours\",\"buick skylark\",\"plymouth volare custom\",\"ford granada\",\"pontiac sunbird coupe\",\"ford mustang ii 2+2\",\"chevrolet chevette\",\"dodge colt m/m\",\"ford fiesta\",\"oldsmobile cutlass salon brougham\",\"pontiac phoenix lj\",\"chevrolet malibu\",\"ford fairmont (auto)\",\"ford fairmont (man)\",\"plymouth volare\",\"amc concord\",\"buick century special\",\"mercury zephyr\",\"dodge aspen\",\"amc concord d/l\",\"chevrolet chevette\",\"dodge omni\",\"plymouth sapporo\",\"oldsmobile starfire sx\",\"audi 5000\",\"volvo 264gl\",\"peugeot 604sl\",\"pontiac lemans v6\",\"mercury zephyr 6\",\"ford fairmont 4\",\"amc concord dl 6\",\"dodge aspen 6\",\"dodge colt hatchback custom\",\"amc spirit dl\",\"mercedes benz 300d\",\"oldsmobile cutlass salon brougham\",\"plymouth horizon\",\"plymouth horizon tc3\",\"buick skylark limited\",\"chevrolet citation\",\"oldsmobile omega brougham\",\"pontiac phoenix\",\"chevrolet chevette\",\"chevrolet citation\",\"ford fairmont\",\"amc concord\",\"dodge aspen\",\"dodge colt\",\"plymouth reliant\",\"buick skylark\",\"dodge aries wagon (sw)\",\"chevrolet citation\",\"plymouth reliant\",\"plymouth champ\",\"plymouth horizon 4\",\"ford escort 4w\",\"ford escort 2h\",\"buick century\",\"oldsmobile cutlass ls\",\"ford granada gl\",\"chrysler lebaron salon\",\"chevrolet cavalier\",\"chevrolet cavalier wagon\",\"chevrolet cavalier 2-door\",\"pontiac j2000 se hatchback\",\"dodge aries se\",\"pontiac phoenix\",\"ford fairmont futura\",\"plymouth horizon miser\",\"mercury lynx l\",\"buick century limited\",\"oldsmobile cutlass ciera (diesel)\",\"chrysler lebaron medallion\",\"ford granada l\",\"dodge charger 2.2\",\"chevrolet camaro\",\"ford mustang gl\",\"dodge rampage\",\"ford ranger\",\"chevy s-10\"],\"legendgroup\":\"1\",\"marker\":{\"color\":\"#00cc96\",\"symbol\":\"circle\"},\"mode\":\"markers\",\"name\":\"1\",\"orientation\":\"v\",\"showlegend\":true,\"x\":[0.7187417879547205,0.9077937459259197,0.5158811834731746,0.6808411089928279,-0.619231158427669,1.1250318471951035,1.435777384636931,1.3838557788447654,1.155073687111207,1.2472056740007094,1.479522233419897,-0.7623053353808523,1.3114399566376749,1.2188532859466845,-0.3728938521711008,-1.5088048394367783,-0.9942144973557242,-0.5860569270947419,-0.5555872202245108,-0.4805829635857063,-0.9376428681278565,0.9929184144486708,1.0719897853531273,0.9343284597173934,0.8734419932790236,0.49333110411785364,0.9532581108370882,-0.8725677814209033,-0.6670813340646505,0.5258002203078571,0.628384371703416,0.8111352589638805,1.1825340937849131,-0.8623283927242303,-0.7981152121151961,1.3391447623695305,1.311102965271686,1.1643311309340392,-1.101091807025937,0.8460061259987729,1.1807903117335456,0.5285506541454442,0.5385469010258633,0.958003983103366,1.2516833355545147,1.2586800088300438,0.8616644650541557,0.910580328757528,-0.6320963985296504,0.7141595356741184,-0.8398317773638221,0.7121827673582913,0.707966606895386,-0.5333364418736907,-1.2740517450200866,0.7371560602862702,1.0208950620039177,0.05267333504321242,0.3724732918253316,-2.248382290914607,-1.833162032896757,0.8169865186749331,0.4548819514755421,1.2193785396388395,0.7951634522625587,-0.6911463687104754,-1.2869765338572394,0.52244772016267,-1.2438577654569452,-0.821421993035352,1.6705027965101815,1.1369316499361055,0.7799964874419747,0.8005115759171747,0.735162636898158,-0.5841321992816298,-0.6397553448439851,-1.7359023556024242,-1.568947958181782,-1.909595584283505,1.4739357093847067,0.6296263197820996,0.26277141672702653,0.30725263453586493,-0.6652570194184618,0.6268718336499043,0.5054857163793574,0.7993570271509532,0.245091732397538,0.7697582918910981,1.2516711529636146,-1.6234829377193107,-1.3536385428363504,-0.448020675472114,-0.7276224505290722,-0.6955336689261916,0.3877145287024384,0.43100558655647847,0.7755745919635846,0.0654552796816591,-0.6796522865491975,0.3467593146285248,0.6895787816978692,-1.7520969825984145,-0.9711724669678109,-1.1135382824302185,0.44412145517593604,-1.5131582966792472,-1.7047376457790087,-0.8935343743209302,0.2728335805006966,0.2721758138466127,-0.937212790153069,-1.7395785660729697,-0.9708537569008396,-1.0133686248772078,-0.9699683698502276,0.32564967852517324,-0.5498511089865387,-1.1232964053831673,-1.0292636015211827,-0.7168250917931694,0.3096449789395401,-1.052275052270056,-2.4270417342522674,-1.8643561429713587,-2.0530921851818023,-2.090766002939554,0.614366937634298,1.1339251266639307,0.09846033132955342,0.5218453395458189,-1.5664203412075781,-1.41156950486644,-1.8063364794987091,-1.4461625890949432,-1.2758136368287978,-1.1423617825985692,-0.815836951931984,-2.101130925767055,-2.197750340570526,-0.02976148337433218,-0.6135959456427883,-0.8064912552310036,0.43559676794770624,-1.411546000805978,-0.9799933742928885,-0.9821083541071532,-1.1268082836860314,-1.5257188064315703,-1.6725955797061611],\"xaxis\":\"x\",\"y\":[-0.15828156352214517,-0.1194788379108267,-0.28211116908869316,-0.09238511376686354,-0.3234959985966575,0.21611405288568247,-0.181712842381326,-0.20912618199584693,-0.2924197779863674,-0.21562473875451998,0.18931913708022124,-0.9726941987093682,-0.13747243298207434,-0.11616811897460955,-0.0748077020618434,-1.2374061118834618,-0.7037336892581534,-1.0272656738098875,-0.5637603353572269,-0.49656386660449536,-0.3982840395967299,-0.5293443757997123,-0.7955520435279626,-0.4689580728824189,-0.6240533753742699,-0.5317283302717333,-0.29896838112096913,-1.2362530180371507,-0.9812784945960484,-0.1074663260308858,-0.6990025521584804,-0.5670561899875257,-0.7242111322323797,-0.8291486690915528,-0.9366075707462116,-0.7515270475094633,-0.84510822146628,-0.6472816530027735,-0.5351782707954801,-0.7100904572545188,-0.6493880927758358,-1.6428051858037653,-1.3858979131819764,-1.4498290332825263,-1.064818626897246,-1.1006720958322203,-1.2166816677579813,-0.45686148669467436,-0.9752132195384924,-0.6678942044385826,-1.2469990709672143,-0.4424774894012832,-0.8993531024109707,-0.6823447508101858,-1.2127453060570719,-0.6928612982628419,-0.5185458985377358,-1.170274978016758,-1.1058179495846303,-2.116659630005287,-2.0296157652050164,-1.0748322598262539,-1.725324765399825,-0.75776886974914,-1.0798970879027614,-0.6008922802621737,-0.8078772508648059,0.2504297519066333,-0.8468051406687593,-0.8423121992908589,-1.2924589330040817,-0.8726206763309674,-1.000069884007277,-1.1621849722868876,-1.3740036375627853,-0.9831774917246026,-0.9528186836280266,-1.3071352621647971,-1.026091133090795,-0.9818786913457447,-0.8018043780174906,-1.4656712652216797,-1.357615558828656,-1.0173435143052094,-0.9841190272904061,-1.1745016546154594,-1.2170363454176414,-0.9140468650968556,-1.172187909610881,-1.355495701348521,-0.6921900887398451,-1.2919052260623485,-0.9324400220526818,-1.0799904302418943,-1.3570159064611165,0.0965304086096972,0.6249023029455685,0.30767762021551237,-0.8815647470873968,-1.500441125988015,-1.3787198678945347,-1.4811991592124725,-1.1079053849765828,-0.9944601202630483,-1.0758143001365184,-0.8943427673573793,-2.132361707941512,-0.8639099143221637,-1.1395188852659313,-1.1793739742631713,-0.2355600859874517,-0.48874192859671467,-0.7491393006238642,-1.316627196835149,-1.3529214754318277,-1.6263334610096882,-1.9315870804417894,-1.6567794861407252,-0.9253299030179978,-1.3420704983243896,-1.456967618090032,-1.077323876690578,-0.6405260188073476,-0.8986398162090821,-1.6243320231295255,-1.3748356390668648,-1.5649905743055983,-2.2856383949642214,-1.1789495215790775,-1.7279804358010733,-1.497826137475452,-1.4352940074107412,-2.0593450689143933,-1.8926109480517255,-1.8248180014991453,-1.5413951136180664,-1.4974537155196215,-1.7820476960679472,-1.4999656556412555,-1.451853029723638,-1.8210360638815475,-1.3706122178395719,-1.6885981848479792,-1.1873633207970926,-1.051982441000993,-1.0440084618528827,-1.6786386788447056,-1.420514405590347,-0.7892139437732671,-1.9512401501478516,-2.085532141866373],\"yaxis\":\"y\",\"type\":\"scatter\"}],                        {\"template\":{\"data\":{\"histogram2dcontour\":[{\"type\":\"histogram2dcontour\",\"colorbar\":{\"outlinewidth\":0,\"ticks\":\"\"},\"colorscale\":[[0.0,\"#0d0887\"],[0.1111111111111111,\"#46039f\"],[0.2222222222222222,\"#7201a8\"],[0.3333333333333333,\"#9c179e\"],[0.4444444444444444,\"#bd3786\"],[0.5555555555555556,\"#d8576b\"],[0.6666666666666666,\"#ed7953\"],[0.7777777777777778,\"#fb9f3a\"],[0.8888888888888888,\"#fdca26\"],[1.0,\"#f0f921\"]]}],\"choropleth\":[{\"type\":\"choropleth\",\"colorbar\":{\"outlinewidth\":0,\"ticks\":\"\"}}],\"histogram2d\":[{\"type\":\"histogram2d\",\"colorbar\":{\"outlinewidth\":0,\"ticks\":\"\"},\"colorscale\":[[0.0,\"#0d0887\"],[0.1111111111111111,\"#46039f\"],[0.2222222222222222,\"#7201a8\"],[0.3333333333333333,\"#9c179e\"],[0.4444444444444444,\"#bd3786\"],[0.5555555555555556,\"#d8576b\"],[0.6666666666666666,\"#ed7953\"],[0.7777777777777778,\"#fb9f3a\"],[0.8888888888888888,\"#fdca26\"],[1.0,\"#f0f921\"]]}],\"heatmap\":[{\"type\":\"heatmap\",\"colorbar\":{\"outlinewidth\":0,\"ticks\":\"\"},\"colorscale\":[[0.0,\"#0d0887\"],[0.1111111111111111,\"#46039f\"],[0.2222222222222222,\"#7201a8\"],[0.3333333333333333,\"#9c179e\"],[0.4444444444444444,\"#bd3786\"],[0.5555555555555556,\"#d8576b\"],[0.6666666666666666,\"#ed7953\"],[0.7777777777777778,\"#fb9f3a\"],[0.8888888888888888,\"#fdca26\"],[1.0,\"#f0f921\"]]}],\"heatmapgl\":[{\"type\":\"heatmapgl\",\"colorbar\":{\"outlinewidth\":0,\"ticks\":\"\"},\"colorscale\":[[0.0,\"#0d0887\"],[0.1111111111111111,\"#46039f\"],[0.2222222222222222,\"#7201a8\"],[0.3333333333333333,\"#9c179e\"],[0.4444444444444444,\"#bd3786\"],[0.5555555555555556,\"#d8576b\"],[0.6666666666666666,\"#ed7953\"],[0.7777777777777778,\"#fb9f3a\"],[0.8888888888888888,\"#fdca26\"],[1.0,\"#f0f921\"]]}],\"contourcarpet\":[{\"type\":\"contourcarpet\",\"colorbar\":{\"outlinewidth\":0,\"ticks\":\"\"}}],\"contour\":[{\"type\":\"contour\",\"colorbar\":{\"outlinewidth\":0,\"ticks\":\"\"},\"colorscale\":[[0.0,\"#0d0887\"],[0.1111111111111111,\"#46039f\"],[0.2222222222222222,\"#7201a8\"],[0.3333333333333333,\"#9c179e\"],[0.4444444444444444,\"#bd3786\"],[0.5555555555555556,\"#d8576b\"],[0.6666666666666666,\"#ed7953\"],[0.7777777777777778,\"#fb9f3a\"],[0.8888888888888888,\"#fdca26\"],[1.0,\"#f0f921\"]]}],\"surface\":[{\"type\":\"surface\",\"colorbar\":{\"outlinewidth\":0,\"ticks\":\"\"},\"colorscale\":[[0.0,\"#0d0887\"],[0.1111111111111111,\"#46039f\"],[0.2222222222222222,\"#7201a8\"],[0.3333333333333333,\"#9c179e\"],[0.4444444444444444,\"#bd3786\"],[0.5555555555555556,\"#d8576b\"],[0.6666666666666666,\"#ed7953\"],[0.7777777777777778,\"#fb9f3a\"],[0.8888888888888888,\"#fdca26\"],[1.0,\"#f0f921\"]]}],\"mesh3d\":[{\"type\":\"mesh3d\",\"colorbar\":{\"outlinewidth\":0,\"ticks\":\"\"}}],\"scatter\":[{\"fillpattern\":{\"fillmode\":\"overlay\",\"size\":10,\"solidity\":0.2},\"type\":\"scatter\"}],\"parcoords\":[{\"type\":\"parcoords\",\"line\":{\"colorbar\":{\"outlinewidth\":0,\"ticks\":\"\"}}}],\"scatterpolargl\":[{\"type\":\"scatterpolargl\",\"marker\":{\"colorbar\":{\"outlinewidth\":0,\"ticks\":\"\"}}}],\"bar\":[{\"error_x\":{\"color\":\"#2a3f5f\"},\"error_y\":{\"color\":\"#2a3f5f\"},\"marker\":{\"line\":{\"color\":\"#E5ECF6\",\"width\":0.5},\"pattern\":{\"fillmode\":\"overlay\",\"size\":10,\"solidity\":0.2}},\"type\":\"bar\"}],\"scattergeo\":[{\"type\":\"scattergeo\",\"marker\":{\"colorbar\":{\"outlinewidth\":0,\"ticks\":\"\"}}}],\"scatterpolar\":[{\"type\":\"scatterpolar\",\"marker\":{\"colorbar\":{\"outlinewidth\":0,\"ticks\":\"\"}}}],\"histogram\":[{\"marker\":{\"pattern\":{\"fillmode\":\"overlay\",\"size\":10,\"solidity\":0.2}},\"type\":\"histogram\"}],\"scattergl\":[{\"type\":\"scattergl\",\"marker\":{\"colorbar\":{\"outlinewidth\":0,\"ticks\":\"\"}}}],\"scatter3d\":[{\"type\":\"scatter3d\",\"line\":{\"colorbar\":{\"outlinewidth\":0,\"ticks\":\"\"}},\"marker\":{\"colorbar\":{\"outlinewidth\":0,\"ticks\":\"\"}}}],\"scattermapbox\":[{\"type\":\"scattermapbox\",\"marker\":{\"colorbar\":{\"outlinewidth\":0,\"ticks\":\"\"}}}],\"scatterternary\":[{\"type\":\"scatterternary\",\"marker\":{\"colorbar\":{\"outlinewidth\":0,\"ticks\":\"\"}}}],\"scattercarpet\":[{\"type\":\"scattercarpet\",\"marker\":{\"colorbar\":{\"outlinewidth\":0,\"ticks\":\"\"}}}],\"carpet\":[{\"aaxis\":{\"endlinecolor\":\"#2a3f5f\",\"gridcolor\":\"white\",\"linecolor\":\"white\",\"minorgridcolor\":\"white\",\"startlinecolor\":\"#2a3f5f\"},\"baxis\":{\"endlinecolor\":\"#2a3f5f\",\"gridcolor\":\"white\",\"linecolor\":\"white\",\"minorgridcolor\":\"white\",\"startlinecolor\":\"#2a3f5f\"},\"type\":\"carpet\"}],\"table\":[{\"cells\":{\"fill\":{\"color\":\"#EBF0F8\"},\"line\":{\"color\":\"white\"}},\"header\":{\"fill\":{\"color\":\"#C8D4E3\"},\"line\":{\"color\":\"white\"}},\"type\":\"table\"}],\"barpolar\":[{\"marker\":{\"line\":{\"color\":\"#E5ECF6\",\"width\":0.5},\"pattern\":{\"fillmode\":\"overlay\",\"size\":10,\"solidity\":0.2}},\"type\":\"barpolar\"}],\"pie\":[{\"automargin\":true,\"type\":\"pie\"}]},\"layout\":{\"autotypenumbers\":\"strict\",\"colorway\":[\"#636efa\",\"#EF553B\",\"#00cc96\",\"#ab63fa\",\"#FFA15A\",\"#19d3f3\",\"#FF6692\",\"#B6E880\",\"#FF97FF\",\"#FECB52\"],\"font\":{\"color\":\"#2a3f5f\"},\"hovermode\":\"closest\",\"hoverlabel\":{\"align\":\"left\"},\"paper_bgcolor\":\"white\",\"plot_bgcolor\":\"#E5ECF6\",\"polar\":{\"bgcolor\":\"#E5ECF6\",\"angularaxis\":{\"gridcolor\":\"white\",\"linecolor\":\"white\",\"ticks\":\"\"},\"radialaxis\":{\"gridcolor\":\"white\",\"linecolor\":\"white\",\"ticks\":\"\"}},\"ternary\":{\"bgcolor\":\"#E5ECF6\",\"aaxis\":{\"gridcolor\":\"white\",\"linecolor\":\"white\",\"ticks\":\"\"},\"baxis\":{\"gridcolor\":\"white\",\"linecolor\":\"white\",\"ticks\":\"\"},\"caxis\":{\"gridcolor\":\"white\",\"linecolor\":\"white\",\"ticks\":\"\"}},\"coloraxis\":{\"colorbar\":{\"outlinewidth\":0,\"ticks\":\"\"}},\"colorscale\":{\"sequential\":[[0.0,\"#0d0887\"],[0.1111111111111111,\"#46039f\"],[0.2222222222222222,\"#7201a8\"],[0.3333333333333333,\"#9c179e\"],[0.4444444444444444,\"#bd3786\"],[0.5555555555555556,\"#d8576b\"],[0.6666666666666666,\"#ed7953\"],[0.7777777777777778,\"#fb9f3a\"],[0.8888888888888888,\"#fdca26\"],[1.0,\"#f0f921\"]],\"sequentialminus\":[[0.0,\"#0d0887\"],[0.1111111111111111,\"#46039f\"],[0.2222222222222222,\"#7201a8\"],[0.3333333333333333,\"#9c179e\"],[0.4444444444444444,\"#bd3786\"],[0.5555555555555556,\"#d8576b\"],[0.6666666666666666,\"#ed7953\"],[0.7777777777777778,\"#fb9f3a\"],[0.8888888888888888,\"#fdca26\"],[1.0,\"#f0f921\"]],\"diverging\":[[0,\"#8e0152\"],[0.1,\"#c51b7d\"],[0.2,\"#de77ae\"],[0.3,\"#f1b6da\"],[0.4,\"#fde0ef\"],[0.5,\"#f7f7f7\"],[0.6,\"#e6f5d0\"],[0.7,\"#b8e186\"],[0.8,\"#7fbc41\"],[0.9,\"#4d9221\"],[1,\"#276419\"]]},\"xaxis\":{\"gridcolor\":\"white\",\"linecolor\":\"white\",\"ticks\":\"\",\"title\":{\"standoff\":15},\"zerolinecolor\":\"white\",\"automargin\":true,\"zerolinewidth\":2},\"yaxis\":{\"gridcolor\":\"white\",\"linecolor\":\"white\",\"ticks\":\"\",\"title\":{\"standoff\":15},\"zerolinecolor\":\"white\",\"automargin\":true,\"zerolinewidth\":2},\"scene\":{\"xaxis\":{\"backgroundcolor\":\"#E5ECF6\",\"gridcolor\":\"white\",\"linecolor\":\"white\",\"showbackground\":true,\"ticks\":\"\",\"zerolinecolor\":\"white\",\"gridwidth\":2},\"yaxis\":{\"backgroundcolor\":\"#E5ECF6\",\"gridcolor\":\"white\",\"linecolor\":\"white\",\"showbackground\":true,\"ticks\":\"\",\"zerolinecolor\":\"white\",\"gridwidth\":2},\"zaxis\":{\"backgroundcolor\":\"#E5ECF6\",\"gridcolor\":\"white\",\"linecolor\":\"white\",\"showbackground\":true,\"ticks\":\"\",\"zerolinecolor\":\"white\",\"gridwidth\":2}},\"shapedefaults\":{\"line\":{\"color\":\"#2a3f5f\"}},\"annotationdefaults\":{\"arrowcolor\":\"#2a3f5f\",\"arrowhead\":0,\"arrowwidth\":1},\"geo\":{\"bgcolor\":\"white\",\"landcolor\":\"#E5ECF6\",\"subunitcolor\":\"white\",\"showland\":true,\"showlakes\":true,\"lakecolor\":\"white\"},\"title\":{\"x\":0.05},\"mapbox\":{\"style\":\"light\"}}},\"xaxis\":{\"anchor\":\"y\",\"domain\":[0.0,1.0],\"title\":{\"text\":\"PC1 ~ 0.63%\"}},\"yaxis\":{\"anchor\":\"x\",\"domain\":[0.0,1.0],\"title\":{\"text\":\"PC2 ~ 0.13%\"}},\"legend\":{\"title\":{\"text\":\"color\"},\"tracegroupgap\":0},\"margin\":{\"t\":60},\"shapes\":[{\"line\":{\"color\":\"red\",\"width\":3},\"type\":\"line\",\"x0\":0,\"x1\":-0.8928155806384663,\"y0\":0,\"y1\":-0.05034625496064297},{\"line\":{\"color\":\"red\",\"width\":3},\"type\":\"line\",\"x0\":0,\"x1\":0.9299663778955238,\"y0\":0,\"y1\":0.022486691690942705},{\"line\":{\"color\":\"red\",\"width\":3},\"type\":\"line\",\"x0\":0,\"x1\":0.9645639314670257,\"y0\":0,\"y1\":0.01609928868691508},{\"line\":{\"color\":\"red\",\"width\":3},\"type\":\"line\",\"x0\":0,\"x1\":0.9176742607508148,\"y0\":0,\"y1\":0.25399519601308646},{\"line\":{\"color\":\"red\",\"width\":3},\"type\":\"line\",\"x0\":0,\"x1\":0.9297093506412808,\"y0\":0,\"y1\":-0.04444702315930335},{\"line\":{\"color\":\"red\",\"width\":3},\"type\":\"line\",\"x0\":0,\"x1\":-0.5953502847669855,\"y0\":0,\"y1\":-0.488010726452543},{\"line\":{\"color\":\"red\",\"width\":3},\"type\":\"line\",\"x0\":0,\"x1\":-0.48113156768218746,\"y0\":0,\"y1\":-0.37810549739366756},{\"line\":{\"color\":\"red\",\"width\":3},\"type\":\"line\",\"x0\":0,\"x1\":-0.5442238707775562,\"y0\":0,\"y1\":0.6616262918578164},{\"line\":{\"color\":\"red\",\"width\":3},\"type\":\"line\",\"x0\":0,\"x1\":0.7045559429203703,\"y0\":0,\"y1\":-0.5472036960986221}],\"annotations\":[{\"ax\":0,\"ay\":0,\"text\":\"mpg\",\"x\":-0.8928155806384663,\"xanchor\":\"center\",\"y\":-0.05034625496064297,\"yanchor\":\"bottom\"},{\"ax\":0,\"ay\":0,\"text\":\"cylinders\",\"x\":0.9299663778955238,\"xanchor\":\"center\",\"y\":0.022486691690942705,\"yanchor\":\"bottom\"},{\"ax\":0,\"ay\":0,\"text\":\"displacement\",\"x\":0.9645639314670257,\"xanchor\":\"center\",\"y\":0.01609928868691508,\"yanchor\":\"bottom\"},{\"ax\":0,\"ay\":0,\"text\":\"horsepower\",\"x\":0.9176742607508148,\"xanchor\":\"center\",\"y\":0.25399519601308646,\"yanchor\":\"bottom\"},{\"ax\":0,\"ay\":0,\"text\":\"weight\",\"x\":0.9297093506412808,\"xanchor\":\"center\",\"y\":-0.04444702315930335,\"yanchor\":\"bottom\"},{\"ax\":0,\"ay\":0,\"text\":\"acceleration\",\"x\":-0.5953502847669855,\"xanchor\":\"center\",\"y\":-0.488010726452543,\"yanchor\":\"bottom\"},{\"ax\":0,\"ay\":0,\"text\":\"model_year\",\"x\":-0.48113156768218746,\"xanchor\":\"center\",\"y\":-0.37810549739366756,\"yanchor\":\"bottom\"},{\"ax\":0,\"ay\":0,\"text\":\"origin_japan\",\"x\":-0.5442238707775562,\"xanchor\":\"center\",\"y\":0.6616262918578164,\"yanchor\":\"bottom\"},{\"ax\":0,\"ay\":0,\"text\":\"origin_usa\",\"x\":0.7045559429203703,\"xanchor\":\"center\",\"y\":-0.5472036960986221,\"yanchor\":\"bottom\"}]},                        {\"responsive\": true}                    ).then(function(){\n",
       "                            \n",
       "var gd = document.getElementById('eea5ae00-c954-4acf-b52d-92d9a52fe173');\n",
       "var x = new MutationObserver(function (mutations, observer) {{\n",
       "        var display = window.getComputedStyle(gd).display;\n",
       "        if (!display || display === 'none') {{\n",
       "            console.log([gd, 'removed!']);\n",
       "            Plotly.purge(gd);\n",
       "            observer.disconnect();\n",
       "        }}\n",
       "}});\n",
       "\n",
       "// Listen for the removal of the full notebook cells\n",
       "var notebookContainer = gd.closest('#notebook-container');\n",
       "if (notebookContainer) {{\n",
       "    x.observe(notebookContainer, {childList: true});\n",
       "}}\n",
       "\n",
       "// Listen for the clearing of the current output cell\n",
       "var outputEl = gd.closest('.output');\n",
       "if (outputEl) {{\n",
       "    x.observe(outputEl, {childList: true});\n",
       "}}\n",
       "\n",
       "                        })                };                });            </script>        </div>"
      ]
     },
     "metadata": {},
     "output_type": "display_data"
    }
   ],
   "source": [
    "import numpy as np\n",
    "\n",
    "loadings = pca.components_.T * np.sqrt(pca.explained_variance_)\n",
    "evr = pca.explained_variance_ratio_.round(2)\n",
    "\n",
    "fig = px.scatter(df_pca, x='PC1', y='PC2',\n",
    "                 color=model_k.labels_.astype(str),\n",
    "                 hover_name=df_pca.index,\n",
    "                labels={\n",
    "                    'PC1': f'PC1 ~ {evr[0]}%',\n",
    "                    'PC2': f'PC2 ~ {evr[1]}%'\n",
    "                })\n",
    "\n",
    "for i, feature in enumerate(scaled_data.columns):\n",
    "    fig.add_shape(\n",
    "        type='line',\n",
    "        x0=0, y0=0,\n",
    "        x1=loadings[i, 0],\n",
    "        y1=loadings[i, 1],\n",
    "        line=dict(color=\"red\",width=3)\n",
    "    )\n",
    "    fig.add_annotation(\n",
    "        x=loadings[i, 0],\n",
    "        y=loadings[i, 1],\n",
    "        ax=0, ay=0,\n",
    "        xanchor=\"center\",\n",
    "        yanchor=\"bottom\",\n",
    "        text=feature,\n",
    "    )\n",
    "\n",
    "fig.show()"
   ]
  },
  {
   "cell_type": "markdown",
   "metadata": {},
   "source": [
    "# Achieved Goals"
   ]
  },
  {
   "cell_type": "markdown",
   "metadata": {},
   "source": [
    "_Double click on **this cell** and place an `X` inside the square brackets (i.e., [X]) if you think you understand the goal:_\n",
    "\n",
    "- [ ] Understand the role of **Linear Algebra** on Machine Learning\n",
    "    - Matrix Multiplications with the `loadings`\n",
    "- [ ] Necessity to `StandardScaler()` the data when the algorithm implies distance calculations\n",
    "- [ ] Understand that every Machine Learning process is a matter of optimization\n",
    "    - To find the best numbers based on a criteria\n",
    "    - How is done in `PCA()`?\n",
    "- [ ] Why would you use PCA?\n",
    "    - Visualization\n",
    "    - Preprocess the data for modelling\n",
    "- [ ] There are techniques for everything\n",
    "    - [ ] Grouping observations\n",
    "    - [ ] Grouping variables"
   ]
  },
  {
   "cell_type": "markdown",
   "metadata": {},
   "source": [
    "<a rel=\"license\" href=\"http://creativecommons.org/licenses/by-nc-nd/4.0/\"><img alt=\"Creative Commons License\" style=\"border-width:0\" src=\"https://i.creativecommons.org/l/by-nc-nd/4.0/88x31.png\" /></a><br />This work is licensed under a <a rel=\"license\" href=\"http://creativecommons.org/licenses/by-nc-nd/4.0/\">Creative Commons Attribution-NonCommercial-NoDerivatives 4.0 International License</a>."
   ]
  }
 ],
 "metadata": {
  "authors": [
   {
    "blog": "https//blog.pythonresolver.com",
    "name": "Jesús López",
    "twitter": "https://twitter.com/jsulopz"
   }
  ],
  "kernelspec": {
   "display_name": "Python 3 (ipykernel)",
   "language": "python",
   "name": "python3"
  },
  "language_info": {
   "codemirror_mode": {
    "name": "ipython",
    "version": 3
   },
   "file_extension": ".py",
   "mimetype": "text/x-python",
   "name": "python",
   "nbconvert_exporter": "python",
   "pygments_lexer": "ipython3",
   "version": "3.9.12"
  },
  "title": "Principal Component Analysis (PCA)"
 },
 "nbformat": 4,
 "nbformat_minor": 4
}
